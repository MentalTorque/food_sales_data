{
 "cells": [
  {
   "cell_type": "code",
   "execution_count": 1,
   "id": "ccdaabf4",
   "metadata": {
    "ExecuteTime": {
     "end_time": "2023-01-30T09:36:18.138542Z",
     "start_time": "2023-01-30T09:36:16.802917Z"
    }
   },
   "outputs": [
    {
     "data": {
      "text/plain": [
       "dict_keys(['X_train', 'y_train', 'X_test', 'y_test', 'preprocessor', 'LinearRegression'])"
      ]
     },
     "execution_count": 1,
     "metadata": {},
     "output_type": "execute_result"
    }
   ],
   "source": [
    "#Import joblib and the linear regression model\n",
    "import joblib\n",
    "loaded = joblib.load('lin_reg_proj1a.joblib')\n",
    "loaded.keys()"
   ]
  },
  {
   "cell_type": "code",
   "execution_count": 3,
   "id": "029d1515",
   "metadata": {
    "ExecuteTime": {
     "end_time": "2023-01-30T09:39:28.192547Z",
     "start_time": "2023-01-30T09:39:28.184614Z"
    }
   },
   "outputs": [],
   "source": [
    "#Reload and unpack the models and datasets\n",
    "X_train_df = loaded['X_train']\n",
    "y_train = loaded['y_train']\n",
    "X_test_df = loaded['X_test']\n",
    "y_test = loaded['y_test']\n",
    "preprocessor = loaded['preprocessor']\n",
    "loaded_model = loaded['LinearRegression']"
   ]
  },
  {
   "cell_type": "code",
   "execution_count": 4,
   "id": "34ab56da",
   "metadata": {
    "ExecuteTime": {
     "end_time": "2023-01-30T09:41:53.377105Z",
     "start_time": "2023-01-30T09:41:53.344125Z"
    }
   },
   "outputs": [
    {
     "ename": "NameError",
     "evalue": "name 'evaluate_regression' is not defined",
     "output_type": "error",
     "traceback": [
      "\u001b[1;31m---------------------------------------------------------------------------\u001b[0m",
      "\u001b[1;31mNameError\u001b[0m                                 Traceback (most recent call last)",
      "Cell \u001b[1;32mIn [4], line 2\u001b[0m\n\u001b[0;32m      1\u001b[0m \u001b[38;5;66;03m#Review model to verify it is intact\u001b[39;00m\n\u001b[1;32m----> 2\u001b[0m \u001b[43mevaluate_regression\u001b[49m(loaded_model,X_train_df, y_train, X_test_df,y_test)\n\u001b[0;32m      3\u001b[0m loaded_importances \u001b[38;5;241m=\u001b[39m get_importances(loaded_model)\n\u001b[0;32m      4\u001b[0m plot_importance_color(loaded_importances,top_n\u001b[38;5;241m=\u001b[39m\u001b[38;5;241m15\u001b[39m,color_dict\u001b[38;5;241m=\u001b[39m\u001b[38;5;28;01mNone\u001b[39;00m)\n",
      "\u001b[1;31mNameError\u001b[0m: name 'evaluate_regression' is not defined"
     ]
    }
   ],
   "source": [
    "#Review model to verify it is intact\n",
    "evaluate_regression(loaded_model,X_train_df, y_train, X_test_df,y_test)\n",
    "loaded_importances = get_importances(loaded_model)\n",
    "plot_importance_color(loaded_importances,top_n=15,color_dict=None);"
   ]
  }
 ],
 "metadata": {
  "kernelspec": {
   "display_name": "Python (dojo-env)",
   "language": "python",
   "name": "dojo-env"
  },
  "language_info": {
   "codemirror_mode": {
    "name": "ipython",
    "version": 3
   },
   "file_extension": ".py",
   "mimetype": "text/x-python",
   "name": "python",
   "nbconvert_exporter": "python",
   "pygments_lexer": "ipython3",
   "version": "3.9.15"
  },
  "toc": {
   "base_numbering": 1,
   "nav_menu": {},
   "number_sections": false,
   "sideBar": true,
   "skip_h1_title": false,
   "title_cell": "Table of Contents",
   "title_sidebar": "Contents",
   "toc_cell": false,
   "toc_position": {},
   "toc_section_display": true,
   "toc_window_display": false
  }
 },
 "nbformat": 4,
 "nbformat_minor": 5
}
