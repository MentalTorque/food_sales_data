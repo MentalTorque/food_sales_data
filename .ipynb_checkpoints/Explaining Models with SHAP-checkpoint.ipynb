{
 "cells": [
  {
   "cell_type": "code",
   "execution_count": 1,
   "id": "d46b5be9",
   "metadata": {
    "ExecuteTime": {
     "end_time": "2023-01-30T19:31:37.227259Z",
     "start_time": "2023-01-30T19:31:35.951487Z"
    }
   },
   "outputs": [],
   "source": [
    "#Load Standard imports\n",
    "import pandas as pd\n",
    "import numpy as np\n",
    "import matplotlib.pyplot as plt\n",
    "import seaborn as sns\n",
    "#Load Standard processing imports\n",
    "from sklearn.model_selection import train_test_split\n",
    "from sklearn.compose import make_column_transformer, make_column_selector\n",
    "from sklearn.pipeline import make_pipeline\n",
    "from sklearn.preprocessing import OneHotEncoder, StandardScaler\n",
    "from sklearn.impute import SimpleImputer\n",
    "#Load modeling and evaluation metrics\n",
    "from sklearn import metrics\n",
    "from sklearn.linear_model import LinearRegression\n",
    "from sklearn.metrics import r2_score, mean_absolute_error, mean_squared_error\n",
    "from sklearn.tree import DecisionTreeRegressor\n",
    "from sklearn.ensemble import RandomForestRegressor, BaggingRegressor\n",
    "from sklearn.inspection import permutation_importance\n",
    "import joblib\n",
    "#Set random state for reproducibility\n",
    "SEED = 321 \n",
    "np.random.seed(SEED)\n",
    "#set pandas to display more columns\n",
    "pd.set_option('display.max_columns',50)\n",
    "#set pandas to eliminate scientific notation\n",
    "#pd.set_option('display.float_format', lambda x: f\"{x:,.2f}\")"
   ]
  },
  {
   "cell_type": "code",
   "execution_count": 19,
   "id": "accb144f",
   "metadata": {
    "ExecuteTime": {
     "end_time": "2023-01-30T19:34:56.996696Z",
     "start_time": "2023-01-30T19:34:56.952222Z"
    },
    "scrolled": true
   },
   "outputs": [
    {
     "name": "stdout",
     "output_type": "stream",
     "text": [
      "<class 'pandas.core.frame.DataFrame'>\n",
      "RangeIndex: 8523 entries, 0 to 8522\n",
      "Data columns (total 12 columns):\n",
      " #   Column                     Non-Null Count  Dtype  \n",
      "---  ------                     --------------  -----  \n",
      " 0   Item_Identifier            8523 non-null   object \n",
      " 1   Item_Weight                7060 non-null   float64\n",
      " 2   Item_Fat_Content           8523 non-null   object \n",
      " 3   Item_Visibility            8523 non-null   float64\n",
      " 4   Item_Type                  8523 non-null   object \n",
      " 5   Item_MRP                   8523 non-null   float64\n",
      " 6   Outlet_Identifier          8523 non-null   object \n",
      " 7   Outlet_Establishment_Year  8523 non-null   int64  \n",
      " 8   Outlet_Size                6113 non-null   object \n",
      " 9   Outlet_Location_Type       8523 non-null   object \n",
      " 10  Outlet_Type                8523 non-null   object \n",
      " 11  Item_Outlet_Sales          8523 non-null   float64\n",
      "dtypes: float64(4), int64(1), object(7)\n",
      "memory usage: 799.2+ KB\n"
     ]
    },
    {
     "data": {
      "text/html": [
       "<div>\n",
       "<style scoped>\n",
       "    .dataframe tbody tr th:only-of-type {\n",
       "        vertical-align: middle;\n",
       "    }\n",
       "\n",
       "    .dataframe tbody tr th {\n",
       "        vertical-align: top;\n",
       "    }\n",
       "\n",
       "    .dataframe thead th {\n",
       "        text-align: right;\n",
       "    }\n",
       "</style>\n",
       "<table border=\"1\" class=\"dataframe\">\n",
       "  <thead>\n",
       "    <tr style=\"text-align: right;\">\n",
       "      <th></th>\n",
       "      <th>Item_Identifier</th>\n",
       "      <th>Item_Weight</th>\n",
       "      <th>Item_Fat_Content</th>\n",
       "      <th>Item_Visibility</th>\n",
       "      <th>Item_Type</th>\n",
       "      <th>Item_MRP</th>\n",
       "      <th>Outlet_Identifier</th>\n",
       "      <th>Outlet_Establishment_Year</th>\n",
       "      <th>Outlet_Size</th>\n",
       "      <th>Outlet_Location_Type</th>\n",
       "      <th>Outlet_Type</th>\n",
       "      <th>Item_Outlet_Sales</th>\n",
       "    </tr>\n",
       "  </thead>\n",
       "  <tbody>\n",
       "    <tr>\n",
       "      <th>0</th>\n",
       "      <td>FDA15</td>\n",
       "      <td>9.30</td>\n",
       "      <td>Low Fat</td>\n",
       "      <td>0.016047</td>\n",
       "      <td>Dairy</td>\n",
       "      <td>249.8092</td>\n",
       "      <td>OUT049</td>\n",
       "      <td>1999</td>\n",
       "      <td>Medium</td>\n",
       "      <td>Tier 1</td>\n",
       "      <td>Supermarket Type1</td>\n",
       "      <td>3735.1380</td>\n",
       "    </tr>\n",
       "    <tr>\n",
       "      <th>1</th>\n",
       "      <td>DRC01</td>\n",
       "      <td>5.92</td>\n",
       "      <td>Regular</td>\n",
       "      <td>0.019278</td>\n",
       "      <td>Soft Drinks</td>\n",
       "      <td>48.2692</td>\n",
       "      <td>OUT018</td>\n",
       "      <td>2009</td>\n",
       "      <td>Medium</td>\n",
       "      <td>Tier 3</td>\n",
       "      <td>Supermarket Type2</td>\n",
       "      <td>443.4228</td>\n",
       "    </tr>\n",
       "    <tr>\n",
       "      <th>2</th>\n",
       "      <td>FDN15</td>\n",
       "      <td>17.50</td>\n",
       "      <td>Low Fat</td>\n",
       "      <td>0.016760</td>\n",
       "      <td>Meat</td>\n",
       "      <td>141.6180</td>\n",
       "      <td>OUT049</td>\n",
       "      <td>1999</td>\n",
       "      <td>Medium</td>\n",
       "      <td>Tier 1</td>\n",
       "      <td>Supermarket Type1</td>\n",
       "      <td>2097.2700</td>\n",
       "    </tr>\n",
       "    <tr>\n",
       "      <th>3</th>\n",
       "      <td>FDX07</td>\n",
       "      <td>19.20</td>\n",
       "      <td>Regular</td>\n",
       "      <td>0.000000</td>\n",
       "      <td>Fruits and Vegetables</td>\n",
       "      <td>182.0950</td>\n",
       "      <td>OUT010</td>\n",
       "      <td>1998</td>\n",
       "      <td>NaN</td>\n",
       "      <td>Tier 3</td>\n",
       "      <td>Grocery Store</td>\n",
       "      <td>732.3800</td>\n",
       "    </tr>\n",
       "    <tr>\n",
       "      <th>4</th>\n",
       "      <td>NCD19</td>\n",
       "      <td>8.93</td>\n",
       "      <td>Low Fat</td>\n",
       "      <td>0.000000</td>\n",
       "      <td>Household</td>\n",
       "      <td>53.8614</td>\n",
       "      <td>OUT013</td>\n",
       "      <td>1987</td>\n",
       "      <td>High</td>\n",
       "      <td>Tier 3</td>\n",
       "      <td>Supermarket Type1</td>\n",
       "      <td>994.7052</td>\n",
       "    </tr>\n",
       "  </tbody>\n",
       "</table>\n",
       "</div>"
      ],
      "text/plain": [
       "  Item_Identifier  Item_Weight Item_Fat_Content  Item_Visibility  \\\n",
       "0           FDA15         9.30          Low Fat         0.016047   \n",
       "1           DRC01         5.92          Regular         0.019278   \n",
       "2           FDN15        17.50          Low Fat         0.016760   \n",
       "3           FDX07        19.20          Regular         0.000000   \n",
       "4           NCD19         8.93          Low Fat         0.000000   \n",
       "\n",
       "               Item_Type  Item_MRP Outlet_Identifier  \\\n",
       "0                  Dairy  249.8092            OUT049   \n",
       "1            Soft Drinks   48.2692            OUT018   \n",
       "2                   Meat  141.6180            OUT049   \n",
       "3  Fruits and Vegetables  182.0950            OUT010   \n",
       "4              Household   53.8614            OUT013   \n",
       "\n",
       "   Outlet_Establishment_Year Outlet_Size Outlet_Location_Type  \\\n",
       "0                       1999      Medium               Tier 1   \n",
       "1                       2009      Medium               Tier 3   \n",
       "2                       1999      Medium               Tier 1   \n",
       "3                       1998         NaN               Tier 3   \n",
       "4                       1987        High               Tier 3   \n",
       "\n",
       "         Outlet_Type  Item_Outlet_Sales  \n",
       "0  Supermarket Type1          3735.1380  \n",
       "1  Supermarket Type2           443.4228  \n",
       "2  Supermarket Type1          2097.2700  \n",
       "3      Grocery Store           732.3800  \n",
       "4  Supermarket Type1           994.7052  "
      ]
     },
     "execution_count": 19,
     "metadata": {},
     "output_type": "execute_result"
    }
   ],
   "source": [
    "filename = r'Data\\sales_predictions.csv'\n",
    "\n",
    "df = pd.read_csv(filename)\n",
    "df.info()\n",
    "df.head()"
   ]
  },
  {
   "cell_type": "code",
   "execution_count": 20,
   "id": "dc4f1246",
   "metadata": {
    "ExecuteTime": {
     "end_time": "2023-01-30T19:36:52.850775Z",
     "start_time": "2023-01-30T19:36:52.792410Z"
    }
   },
   "outputs": [
    {
     "name": "stderr",
     "output_type": "stream",
     "text": [
      "C:\\Users\\staichn\\AppData\\Local\\Temp\\ipykernel_31368\\1971790721.py:10: FutureWarning: The default value of numeric_only in DataFrame.min is deprecated. In a future version, it will default to False. In addition, specifying 'numeric_only=None' is deprecated. Select only valid columns or specify the value of numeric_only to silence this warning.\n",
      "  'min':df.min(),\n",
      "C:\\Users\\staichn\\AppData\\Local\\Temp\\ipykernel_31368\\1971790721.py:11: FutureWarning: The default value of numeric_only in DataFrame.max is deprecated. In a future version, it will default to False. In addition, specifying 'numeric_only=None' is deprecated. Select only valid columns or specify the value of numeric_only to silence this warning.\n",
      "  'max':df.max()\n"
     ]
    },
    {
     "data": {
      "text/html": [
       "<div>\n",
       "<style scoped>\n",
       "    .dataframe tbody tr th:only-of-type {\n",
       "        vertical-align: middle;\n",
       "    }\n",
       "\n",
       "    .dataframe tbody tr th {\n",
       "        vertical-align: top;\n",
       "    }\n",
       "\n",
       "    .dataframe thead th {\n",
       "        text-align: right;\n",
       "    }\n",
       "</style>\n",
       "<table border=\"1\" class=\"dataframe\">\n",
       "  <thead>\n",
       "    <tr style=\"text-align: right;\">\n",
       "      <th></th>\n",
       "      <th>Column</th>\n",
       "      <th>dtype</th>\n",
       "      <th># null</th>\n",
       "      <th>null %</th>\n",
       "      <th>nunique</th>\n",
       "      <th>min</th>\n",
       "      <th>max</th>\n",
       "    </tr>\n",
       "  </thead>\n",
       "  <tbody>\n",
       "    <tr>\n",
       "      <th>0</th>\n",
       "      <td>Item_Fat_Content</td>\n",
       "      <td>object</td>\n",
       "      <td>0</td>\n",
       "      <td>0.000000</td>\n",
       "      <td>5</td>\n",
       "      <td>LF</td>\n",
       "      <td>reg</td>\n",
       "    </tr>\n",
       "    <tr>\n",
       "      <th>1</th>\n",
       "      <td>Item_Identifier</td>\n",
       "      <td>object</td>\n",
       "      <td>0</td>\n",
       "      <td>0.000000</td>\n",
       "      <td>1559</td>\n",
       "      <td>DRA12</td>\n",
       "      <td>NCZ54</td>\n",
       "    </tr>\n",
       "    <tr>\n",
       "      <th>2</th>\n",
       "      <td>Item_MRP</td>\n",
       "      <td>float64</td>\n",
       "      <td>0</td>\n",
       "      <td>0.000000</td>\n",
       "      <td>5938</td>\n",
       "      <td>31.29</td>\n",
       "      <td>266.8884</td>\n",
       "    </tr>\n",
       "    <tr>\n",
       "      <th>3</th>\n",
       "      <td>Item_Outlet_Sales</td>\n",
       "      <td>float64</td>\n",
       "      <td>0</td>\n",
       "      <td>0.000000</td>\n",
       "      <td>3493</td>\n",
       "      <td>33.29</td>\n",
       "      <td>13086.9648</td>\n",
       "    </tr>\n",
       "    <tr>\n",
       "      <th>4</th>\n",
       "      <td>Item_Type</td>\n",
       "      <td>object</td>\n",
       "      <td>0</td>\n",
       "      <td>0.000000</td>\n",
       "      <td>16</td>\n",
       "      <td>Baking Goods</td>\n",
       "      <td>Starchy Foods</td>\n",
       "    </tr>\n",
       "    <tr>\n",
       "      <th>5</th>\n",
       "      <td>Item_Visibility</td>\n",
       "      <td>float64</td>\n",
       "      <td>0</td>\n",
       "      <td>0.000000</td>\n",
       "      <td>7880</td>\n",
       "      <td>0.0</td>\n",
       "      <td>0.328391</td>\n",
       "    </tr>\n",
       "    <tr>\n",
       "      <th>6</th>\n",
       "      <td>Item_Weight</td>\n",
       "      <td>float64</td>\n",
       "      <td>1463</td>\n",
       "      <td>17.165317</td>\n",
       "      <td>415</td>\n",
       "      <td>4.555</td>\n",
       "      <td>21.35</td>\n",
       "    </tr>\n",
       "    <tr>\n",
       "      <th>7</th>\n",
       "      <td>Outlet_Establishment_Year</td>\n",
       "      <td>int64</td>\n",
       "      <td>0</td>\n",
       "      <td>0.000000</td>\n",
       "      <td>9</td>\n",
       "      <td>1985</td>\n",
       "      <td>2009</td>\n",
       "    </tr>\n",
       "    <tr>\n",
       "      <th>8</th>\n",
       "      <td>Outlet_Identifier</td>\n",
       "      <td>object</td>\n",
       "      <td>0</td>\n",
       "      <td>0.000000</td>\n",
       "      <td>10</td>\n",
       "      <td>OUT010</td>\n",
       "      <td>OUT049</td>\n",
       "    </tr>\n",
       "    <tr>\n",
       "      <th>9</th>\n",
       "      <td>Outlet_Location_Type</td>\n",
       "      <td>object</td>\n",
       "      <td>0</td>\n",
       "      <td>0.000000</td>\n",
       "      <td>3</td>\n",
       "      <td>Tier 1</td>\n",
       "      <td>Tier 3</td>\n",
       "    </tr>\n",
       "    <tr>\n",
       "      <th>10</th>\n",
       "      <td>Outlet_Size</td>\n",
       "      <td>object</td>\n",
       "      <td>2410</td>\n",
       "      <td>28.276428</td>\n",
       "      <td>3</td>\n",
       "      <td>NaN</td>\n",
       "      <td>NaN</td>\n",
       "    </tr>\n",
       "    <tr>\n",
       "      <th>11</th>\n",
       "      <td>Outlet_Type</td>\n",
       "      <td>object</td>\n",
       "      <td>0</td>\n",
       "      <td>0.000000</td>\n",
       "      <td>4</td>\n",
       "      <td>Grocery Store</td>\n",
       "      <td>Supermarket Type3</td>\n",
       "    </tr>\n",
       "  </tbody>\n",
       "</table>\n",
       "</div>"
      ],
      "text/plain": [
       "                       Column    dtype  # null     null %  nunique  \\\n",
       "0            Item_Fat_Content   object       0   0.000000        5   \n",
       "1             Item_Identifier   object       0   0.000000     1559   \n",
       "2                    Item_MRP  float64       0   0.000000     5938   \n",
       "3           Item_Outlet_Sales  float64       0   0.000000     3493   \n",
       "4                   Item_Type   object       0   0.000000       16   \n",
       "5             Item_Visibility  float64       0   0.000000     7880   \n",
       "6                 Item_Weight  float64    1463  17.165317      415   \n",
       "7   Outlet_Establishment_Year    int64       0   0.000000        9   \n",
       "8           Outlet_Identifier   object       0   0.000000       10   \n",
       "9        Outlet_Location_Type   object       0   0.000000        3   \n",
       "10                Outlet_Size   object    2410  28.276428        3   \n",
       "11                Outlet_Type   object       0   0.000000        4   \n",
       "\n",
       "              min                max  \n",
       "0              LF                reg  \n",
       "1           DRA12              NCZ54  \n",
       "2           31.29           266.8884  \n",
       "3           33.29         13086.9648  \n",
       "4    Baking Goods      Starchy Foods  \n",
       "5             0.0           0.328391  \n",
       "6           4.555              21.35  \n",
       "7            1985               2009  \n",
       "8          OUT010             OUT049  \n",
       "9          Tier 1             Tier 3  \n",
       "10            NaN                NaN  \n",
       "11  Grocery Store  Supermarket Type3  "
      ]
     },
     "execution_count": 20,
     "metadata": {},
     "output_type": "execute_result"
    }
   ],
   "source": [
    "#Quick Function for EDA analysis (proper EDA should still be conducted)\n",
    "\n",
    "def summarize_df(df_):\n",
    "    df = df_.copy()\n",
    "    report = pd.DataFrame({\n",
    "        'dtype':df.dtypes,\n",
    "        '# null': df.isna().sum(),\n",
    "        'null %': df.isna().sum()/len(df)*100,\n",
    "        'nunique': df.nunique(),\n",
    "        'min':df.min(),\n",
    "        'max':df.max()        \n",
    "    })\n",
    "    report.index.name='Column'\n",
    "    return report.reset_index()\n",
    "summarize_df(df)"
   ]
  },
  {
   "cell_type": "code",
   "execution_count": 21,
   "id": "e2accaf1",
   "metadata": {
    "ExecuteTime": {
     "end_time": "2023-01-30T19:37:17.489374Z",
     "start_time": "2023-01-30T19:37:17.479370Z"
    }
   },
   "outputs": [
    {
     "data": {
      "text/plain": [
       "0    28.543008\n",
       "1     3.388528\n",
       "2    16.026823\n",
       "3     5.596668\n",
       "4     7.601293\n",
       "Name: Item_Outlet_Sales(%), dtype: float64"
      ]
     },
     "execution_count": 21,
     "metadata": {},
     "output_type": "execute_result"
    }
   ],
   "source": [
    "## convert Item_Outlet_Sales to a % out of 100\n",
    "df['Item_Outlet_Sales(%)'] = (df['Item_Outlet_Sales']/13086) *100\n",
    "df['Item_Outlet_Sales(%)'].head()"
   ]
  },
  {
   "cell_type": "code",
   "execution_count": 23,
   "id": "8c321a57",
   "metadata": {
    "ExecuteTime": {
     "end_time": "2023-01-30T19:37:56.819767Z",
     "start_time": "2023-01-30T19:37:56.646413Z"
    }
   },
   "outputs": [
    {
     "data": {
      "image/png": "[encoded data removed]",
      "text/plain": [
       "<Figure size 640x480 with 1 Axes>"
      ]
     },
     "metadata": {},
     "output_type": "display_data"
    }
   ],
   "source": [
    "## visual distribution of % grades\n",
    "ax = sns.histplot(data=df, x='Item_Outlet_Sales(%)')"
   ]
  },
  {
   "cell_type": "code",
   "execution_count": 28,
   "id": "8edea74a",
   "metadata": {
    "ExecuteTime": {
     "end_time": "2023-01-30T20:07:23.423233Z",
     "start_time": "2023-01-30T20:07:23.396853Z"
    }
   },
   "outputs": [
    {
     "data": {
      "text/plain": [
       "(0, 5]       1679\n",
       "(5, 10]      1529\n",
       "(10, 15]     1387\n",
       "(15, 20]     1097\n",
       "(20, 25]      918\n",
       "(25, 30]      628\n",
       "(30, 35]      442\n",
       "(35, 40]      298\n",
       "(40, 45]      224\n",
       "(45, 50]      140\n",
       "(50, 55]       83\n",
       "(55, 60]       42\n",
       "(60, 65]       24\n",
       "(65, 70]       12\n",
       "(70, 75]       12\n",
       "(75, 80]        4\n",
       "(80, 85]        1\n",
       "(85, 90]        1\n",
       "(90, 95]        1\n",
       "(95, 101]       1\n",
       "Name: Item_Outlet_Sales(%), dtype: int64"
      ]
     },
     "execution_count": 28,
     "metadata": {},
     "output_type": "execute_result"
    }
   ],
   "source": [
    "## defining bin edges\n",
    "bins = [0, 5,10,15,20,25,30,35,40,45,50,55,60,65,70,75,80,85,90,95,101]\n",
    "bin_labels = ['0-5%','5-10%','0-5%','B','0-5%']\n",
    "sales = pd.cut(df['Item_Outlet_Sales(%)'], bins=bins)\n",
    "sales.value_counts().sort_index()"
   ]
  },
  {
   "cell_type": "code",
   "execution_count": null,
   "id": "25e64a69",
   "metadata": {},
   "outputs": [],
   "source": [
    "bins = [0,60,70,80,90,101]\n",
    "grades = pd.cut(df['G3(%)'], bins=bins,right=False)\n",
    "grades.value_counts()"
   ]
  },
  {
   "cell_type": "markdown",
   "id": "09782bee",
   "metadata": {
    "heading_collapsed": true
   },
   "source": [
    "# Load in Lin Reg Model"
   ]
  },
  {
   "cell_type": "code",
   "execution_count": 3,
   "id": "b4bc7e2f",
   "metadata": {
    "ExecuteTime": {
     "end_time": "2023-01-30T19:31:37.273938Z",
     "start_time": "2023-01-30T19:31:37.258935Z"
    },
    "hidden": true
   },
   "outputs": [
    {
     "data": {
      "text/plain": [
       "dict_keys(['X_train', 'y_train', 'X_test', 'y_test', 'preprocessor', 'LinearRegression'])"
      ]
     },
     "execution_count": 3,
     "metadata": {},
     "output_type": "execute_result"
    }
   ],
   "source": [
    "#Import joblib and the linear regression model\n",
    "import joblib\n",
    "loaded = joblib.load('lin_reg_proj1a.joblib')\n",
    "loaded.keys()"
   ]
  },
  {
   "cell_type": "code",
   "execution_count": 4,
   "id": "647efcc4",
   "metadata": {
    "ExecuteTime": {
     "end_time": "2023-01-30T19:31:37.289937Z",
     "start_time": "2023-01-30T19:31:37.275935Z"
    },
    "hidden": true
   },
   "outputs": [],
   "source": [
    "#Reload and unpack the models and datasets\n",
    "X_train_df = loaded['X_train']\n",
    "y_train = loaded['y_train']\n",
    "X_test_df = loaded['X_test']\n",
    "y_test = loaded['y_test']\n",
    "preprocessor = loaded['preprocessor']\n",
    "loaded_model = loaded['LinearRegression']"
   ]
  },
  {
   "cell_type": "code",
   "execution_count": 5,
   "id": "4db989bb",
   "metadata": {
    "ExecuteTime": {
     "end_time": "2023-01-30T19:31:37.305353Z",
     "start_time": "2023-01-30T19:31:37.291299Z"
    },
    "hidden": true
   },
   "outputs": [],
   "source": [
    "#This function is for the evaluation of regression models (excludes linear regression)\n",
    "def evaluate_regression(model, X_train,y_train, X_test, y_test): \n",
    "    \"\"\"Evaluates a scikit learn regression model using r-squared and RMSE\"\"\"\n",
    "    \n",
    "    ## Training Data\n",
    "    y_pred_train = model.predict(X_train)\n",
    "    r2_train = metrics.r2_score(y_train, y_pred_train)\n",
    "    rmse_train = metrics.mean_squared_error(y_train, y_pred_train, \n",
    "                                            squared=False)\n",
    "    \n",
    "    print(f\"Training Data:\\tR^2= {r2_train:.2f}\\tRMSE= {rmse_train:.2f}\")\n",
    "        \n",
    "    \n",
    "    ## Test Data\n",
    "    y_pred_test = model.predict(X_test)\n",
    "    r2_test = metrics.r2_score(y_test, y_pred_test)\n",
    "    rmse_test = metrics.mean_squared_error(y_test, y_pred_test, \n",
    "                                            squared=False)\n",
    "    \n",
    "    print(f\"Test Data:\\tR^2= {r2_test:.2f}\\tRMSE= {rmse_test:.2f}\")"
   ]
  },
  {
   "cell_type": "code",
   "execution_count": 6,
   "id": "f5eb78e5",
   "metadata": {
    "ExecuteTime": {
     "end_time": "2023-01-30T19:31:37.320650Z",
     "start_time": "2023-01-30T19:31:37.306647Z"
    },
    "hidden": true
   },
   "outputs": [],
   "source": [
    "def get_coeffs_linreg(lin_reg, feature_names = None, sort=True,ascending=True,\n",
    "                     name='LinearRegression Coefficients'):\n",
    "    if feature_names is None:\n",
    "        feature_names = lin_reg.feature_names_in_\n",
    "    ## Saving the coefficients\n",
    "    coeffs = pd.Series(lin_reg.coef_, index= feature_names)\n",
    "    coeffs['intercept'] = lin_reg.intercept_\n",
    "    if sort==True:\n",
    "        coeffs = coeffs.sort_values(ascending=ascending)\n",
    "    return coeffs"
   ]
  },
  {
   "cell_type": "code",
   "execution_count": 7,
   "id": "846e2fa3",
   "metadata": {
    "ExecuteTime": {
     "end_time": "2023-01-30T19:31:37.336650Z",
     "start_time": "2023-01-30T19:31:37.321646Z"
    },
    "hidden": true
   },
   "outputs": [],
   "source": [
    "# This plots the logreg coeffs as odds...\n",
    "def plot_coeffs_color(coeffs, top_n=None,  figsize=(8,6), legend_loc='best',\n",
    "                      threshold=None, color_lt='darkred', color_gt='forestgreen',\n",
    "                      color_else='gray', label_thresh='Equally Likely',\n",
    "                      label_gt='More Likely', label_lt='Less Likely',\n",
    "                   plot_kws = {}):\n",
    "    \"\"\"Plots series of coefficients\n",
    "        Args:\n",
    "        ceoffs (pands Series): importance values to plot\n",
    "        top_n (int): The # of features to display (Default=None).\n",
    "                         If None, display all.\n",
    "                        otherwise display top_n most important\n",
    "                        \n",
    "        figsize (tuple): figsize tuple for .plot\n",
    "        color_dict (dict): dict with index values as keys with color to use as vals\n",
    "                            Uses series.index.map(color_dict).\n",
    "        plot_kws (dict): additional keyword args accepted by panda's .plot\n",
    "        \n",
    "         \n",
    "         Returns:\n",
    "        Axis: matplotlib axis\n",
    "    \"\"\"\n",
    "        \n",
    "    # sorting with asc=false for correct order of bars\n",
    "    if top_n is None:\n",
    "        ## sort all features and set title\n",
    "        plot_vals = coeffs.sort_values()\n",
    "        title = \"All Coefficients\"\n",
    "    else:\n",
    "        ## rank the coeffs and select the top_n\n",
    "        coeff_rank = coeffs.abs().rank().sort_values(ascending=False)\n",
    "        top_n_features = coeff_rank.head(top_n)\n",
    "        plot_vals = coeffs.loc[top_n_features.index].sort_values()\n",
    "        ## sort features and keep top_n and set title\n",
    "        title = f\"Top {top_n} Largest Coefficients\"\n",
    "        ## plotting top N importances\n",
    "    if threshold is not None:\n",
    "        color_dict = get_colors_gt_lt(plot_vals, threshold=threshold,\n",
    "                                      color_gt=color_gt,color_lt=color_lt,\n",
    "                                      color_else=color_else)\n",
    "        ## Getting color list and saving to plot_kws\n",
    "        colors = plot_vals.index.map(color_dict)\n",
    "        plot_kws.update({'color':colors})\n",
    "    \n",
    "    \n",
    "    ax = plot_vals.plot(kind='barh', figsize=figsize,**plot_kws)\n",
    "    ax.set(xlabel='Coefficient',\n",
    "            ylabel='Feature Names',\n",
    "            title=title)\n",
    "    \n",
    "    if threshold is not None:\n",
    "        ln1 = ax.axvline(threshold,ls=':',color='black')\n",
    "        from matplotlib.patches import Patch\n",
    "        box_lt = Patch(color=color_lt)\n",
    "        box_gt = Patch(color=color_gt)\n",
    "        handles = [ln1,box_gt,box_lt]\n",
    "        labels = [label_thresh,label_gt,label_lt]\n",
    "        ax.legend(handles,labels, loc=legend_loc)\n",
    "    ## return ax in case want to continue to update/modify figure\n",
    "    return ax\n"
   ]
  },
  {
   "cell_type": "code",
   "execution_count": 8,
   "id": "8bb105cb",
   "metadata": {
    "ExecuteTime": {
     "end_time": "2023-01-30T19:31:37.352529Z",
     "start_time": "2023-01-30T19:31:37.337646Z"
    },
    "hidden": true
   },
   "outputs": [],
   "source": [
    "#This function creates a color dictionary to apply to the generated charts\n",
    "\n",
    "def get_color_dict(importances, color_rest='#006ba4' , color_top='green',\n",
    "                    top_n=7):\n",
    "    ## color -coding top 5 bars\n",
    "    highlight_feats = importances.sort_values(ascending=True).tail(top_n).index\n",
    "    colors_dict = {col: color_top if col in highlight_feats else color_rest for col in importances.index}\n",
    "    return colors_dict"
   ]
  },
  {
   "cell_type": "code",
   "execution_count": 9,
   "id": "8547f9db",
   "metadata": {
    "ExecuteTime": {
     "end_time": "2023-01-30T19:31:37.632286Z",
     "start_time": "2023-01-30T19:31:37.354154Z"
    },
    "hidden": true
   },
   "outputs": [
    {
     "name": "stdout",
     "output_type": "stream",
     "text": [
      "Training Data:\tR^2= 0.56\tRMSE= 1114.87\n",
      "Test Data:\tR^2= 0.56\tRMSE= 1164.39\n"
     ]
    },
    {
     "data": {
      "image/png": "[encoded data removed]",
      "text/plain": [
       "<Figure size 800x600 with 1 Axes>"
      ]
     },
     "metadata": {},
     "output_type": "display_data"
    }
   ],
   "source": [
    "#Review model to verify it is intact\n",
    "evaluate_regression(loaded_model,X_train_df, y_train, X_test_df,y_test)\n",
    "loaded_importances = get_coeffs_linreg(loaded_model)\n",
    "plot_coeffs_color(loaded_importances,top_n=15);"
   ]
  },
  {
   "cell_type": "markdown",
   "id": "85a509b0",
   "metadata": {},
   "source": [
    "# Load in Tree Model"
   ]
  },
  {
   "cell_type": "code",
   "execution_count": 10,
   "id": "0ab12c1b",
   "metadata": {
    "ExecuteTime": {
     "end_time": "2023-01-30T19:31:37.756942Z",
     "start_time": "2023-01-30T19:31:37.634680Z"
    }
   },
   "outputs": [
    {
     "data": {
      "text/plain": [
       "dict_keys(['X_train', 'y_train', 'X_test', 'y_test', 'preprocessor', 'RandomForestRegression'])"
      ]
     },
     "execution_count": 10,
     "metadata": {},
     "output_type": "execute_result"
    }
   ],
   "source": [
    "#Import joblib and the linear regression model\n",
    "import joblib\n",
    "loaded = joblib.load('reg_proj1a.joblib')\n",
    "loaded.keys()"
   ]
  },
  {
   "cell_type": "code",
   "execution_count": 11,
   "id": "884f67eb",
   "metadata": {
    "ExecuteTime": {
     "end_time": "2023-01-30T19:31:37.773023Z",
     "start_time": "2023-01-30T19:31:37.758943Z"
    }
   },
   "outputs": [],
   "source": [
    "#Reload and unpack the models and datasets\n",
    "X_train_df = loaded['X_train']\n",
    "y_train = loaded['y_train']\n",
    "X_test_df = loaded['X_test']\n",
    "y_test = loaded['y_test']\n",
    "preprocessor = loaded['preprocessor']\n",
    "loaded_model = loaded['RandomForestRegression']"
   ]
  },
  {
   "cell_type": "code",
   "execution_count": 12,
   "id": "1195de9b",
   "metadata": {
    "ExecuteTime": {
     "end_time": "2023-01-30T19:31:37.788153Z",
     "start_time": "2023-01-30T19:31:37.774068Z"
    }
   },
   "outputs": [],
   "source": [
    "#This function is for the evaluation of regression models (excludes linear regression)\n",
    "def evaluate_regression(model, X_train,y_train, X_test, y_test): \n",
    "    \"\"\"Evaluates a scikit learn regression model using r-squared and RMSE\"\"\"\n",
    "    \n",
    "    ## Training Data\n",
    "    y_pred_train = model.predict(X_train)\n",
    "    r2_train = metrics.r2_score(y_train, y_pred_train)\n",
    "    rmse_train = metrics.mean_squared_error(y_train, y_pred_train, \n",
    "                                            squared=False)\n",
    "    \n",
    "    print(f\"Training Data:\\tR^2= {r2_train:.2f}\\tRMSE= {rmse_train:.2f}\")\n",
    "        \n",
    "    \n",
    "    ## Test Data\n",
    "    y_pred_test = model.predict(X_test)\n",
    "    r2_test = metrics.r2_score(y_test, y_pred_test)\n",
    "    rmse_test = metrics.mean_squared_error(y_test, y_pred_test, \n",
    "                                            squared=False)\n",
    "    \n",
    "    print(f\"Test Data:\\tR^2= {r2_test:.2f}\\tRMSE= {rmse_test:.2f}\")"
   ]
  },
  {
   "cell_type": "code",
   "execution_count": 13,
   "id": "c641d792",
   "metadata": {
    "ExecuteTime": {
     "end_time": "2023-01-30T19:31:37.959585Z",
     "start_time": "2023-01-30T19:31:37.789206Z"
    }
   },
   "outputs": [
    {
     "name": "stdout",
     "output_type": "stream",
     "text": [
      "Training Data:\tR^2= 0.94\tRMSE= 423.04\n",
      "Test Data:\tR^2= 0.56\tRMSE= 1166.98\n"
     ]
    }
   ],
   "source": [
    "evaluate_regression(loaded_model, X_train_df,y_train, X_test_df, y_test)"
   ]
  },
  {
   "cell_type": "code",
   "execution_count": 14,
   "id": "dcb0c152",
   "metadata": {
    "ExecuteTime": {
     "end_time": "2023-01-30T19:31:37.975422Z",
     "start_time": "2023-01-30T19:31:37.960909Z"
    }
   },
   "outputs": [],
   "source": [
    "#This function is used to extract the most important features as importances\n",
    "\n",
    "def get_importances(model, feature_names=None,name='Feature Importance',\n",
    "                   sort=False, ascending=True):\n",
    "    \n",
    "    ## checking for feature names\n",
    "    if feature_names == None:\n",
    "        feature_names = model.feature_names_in_\n",
    "        \n",
    "    ## Saving the feature importances\n",
    "    importances = pd.Series(model.feature_importances_, index= feature_names,\n",
    "                           name=name)\n",
    "    \n",
    "    # sort importances\n",
    "    if sort == True:\n",
    "        importances = importances.sort_values(ascending=ascending)\n",
    "        \n",
    "    return importances"
   ]
  },
  {
   "cell_type": "code",
   "execution_count": 15,
   "id": "0150ce28",
   "metadata": {
    "ExecuteTime": {
     "end_time": "2023-01-30T19:31:38.006697Z",
     "start_time": "2023-01-30T19:31:37.977426Z"
    }
   },
   "outputs": [
    {
     "data": {
      "text/plain": [
       "Item_Weight                           0.052132\n",
       "Item_Visibility                       0.095624\n",
       "Item_MRP                              0.441817\n",
       "Outlet_Establishment_Year             0.026454\n",
       "Item_Identifier_infrequent_sklearn    0.000000\n",
       "Item_Fat_Content_LF                   0.003050\n",
       "Item_Fat_Content_Low Fat              0.006040\n",
       "Item_Fat_Content_Regular              0.005484\n",
       "Item_Fat_Content_low fat              0.001485\n",
       "Item_Fat_Content_reg                  0.001543\n",
       "Item_Type_Baking Goods                0.004411\n",
       "Item_Type_Breads                      0.002772\n",
       "Item_Type_Breakfast                   0.002517\n",
       "Item_Type_Canned                      0.004135\n",
       "Item_Type_Dairy                       0.005389\n",
       "Item_Type_Frozen Foods                0.005679\n",
       "Item_Type_Fruits and Vegetables       0.008090\n",
       "Item_Type_Hard Drinks                 0.002766\n",
       "Item_Type_Health and Hygiene          0.004226\n",
       "Item_Type_Household                   0.006171\n",
       "Item_Type_Meat                        0.003538\n",
       "Item_Type_Others                      0.001532\n",
       "Item_Type_Snack Foods                 0.008098\n",
       "Item_Type_Soft Drinks                 0.004277\n",
       "Item_Type_Starchy Foods               0.002888\n",
       "Item_Type_infrequent_sklearn          0.001331\n",
       "Outlet_Identifier_OUT010              0.000012\n",
       "Outlet_Identifier_OUT013              0.001484\n",
       "Outlet_Identifier_OUT017              0.003495\n",
       "Outlet_Identifier_OUT018              0.001277\n",
       "Outlet_Identifier_OUT019              0.000008\n",
       "Outlet_Identifier_OUT027              0.025335\n",
       "Outlet_Identifier_OUT035              0.003663\n",
       "Outlet_Identifier_OUT045              0.005094\n",
       "Outlet_Identifier_OUT046              0.003045\n",
       "Outlet_Identifier_OUT049              0.004202\n",
       "Outlet_Size_High                      0.001548\n",
       "Outlet_Size_Medium                    0.003417\n",
       "Outlet_Size_Small                     0.003730\n",
       "Outlet_Location_Type_Tier 1           0.003409\n",
       "Outlet_Location_Type_Tier 2           0.003122\n",
       "Outlet_Location_Type_Tier 3           0.002583\n",
       "Outlet_Type_Grocery Store             0.196758\n",
       "Outlet_Type_Supermarket Type1         0.002048\n",
       "Outlet_Type_Supermarket Type2         0.001126\n",
       "Outlet_Type_Supermarket Type3         0.033192\n",
       "Name: Feature Importance, dtype: float64"
      ]
     },
     "execution_count": 15,
     "metadata": {},
     "output_type": "execute_result"
    }
   ],
   "source": [
    "model = loaded_model\n",
    "get_importances(model)"
   ]
  },
  {
   "cell_type": "code",
   "execution_count": 16,
   "id": "73aa25e9",
   "metadata": {
    "ExecuteTime": {
     "end_time": "2023-01-30T19:31:38.022207Z",
     "start_time": "2023-01-30T19:31:38.008209Z"
    }
   },
   "outputs": [],
   "source": [
    "#This function is for the alignment of the color distionary to highlight the top_n features \n",
    "\n",
    "def plot_importance_color(importances, top_n=None,  figsize=(8,6), \n",
    "                          color_dict=None):\n",
    "    \n",
    "    # sorting with asc=false for correct order of bars\n",
    "    if top_n==None:\n",
    "        ## sort all features and set title\n",
    "        plot_vals = importances.sort_values()\n",
    "        title = \"All Features - Ranked by Importance\"\n",
    "    else:\n",
    "        ## sort features and keep top_n and set title\n",
    "        plot_vals = importances.sort_values().tail(top_n)\n",
    "        title = f\"Top {top_n} Most Important Features\"\n",
    "    ## create plot with colors, if provided\n",
    "    if color_dict is not None:\n",
    "        ## Getting color list and saving to plot_kws\n",
    "        colors = plot_vals.index.map(color_dict)\n",
    "        ax = plot_vals.plot(kind='barh', figsize=figsize, color=colors)\n",
    "        \n",
    "    else:\n",
    "        ## create plot without colors, if not provided\n",
    "        ax = plot_vals.plot(kind='barh', figsize=figsize)\n",
    "        \n",
    "    # set titles and axis labels\n",
    "    ax.set(xlabel='Importance', \n",
    "           ylabel='Feature Names', \n",
    "           title=title)\n",
    "    \n",
    "    ## return ax in case want to continue to update/modify figure\n",
    "    return ax"
   ]
  },
  {
   "cell_type": "code",
   "execution_count": 17,
   "id": "2ac4aa88",
   "metadata": {
    "ExecuteTime": {
     "end_time": "2023-01-30T19:31:38.038207Z",
     "start_time": "2023-01-30T19:31:38.023209Z"
    }
   },
   "outputs": [],
   "source": [
    "#This function takes advantage of the ax argument to allow for creating \n",
    "#multiple subplots side by side for feature and permutation analysis in one visual\n",
    "\n",
    "def plot_importance_color_ax(importances, top_n=None,  figsize=(8,6), \n",
    "                          color_dict=None, ax=None):\n",
    "    \n",
    "    # sorting with asc=false for correct order of bars\n",
    "    if top_n==None:\n",
    "        ## sort all features and set title\n",
    "        plot_vals = importances.sort_values()\n",
    "        title = \"All Features - Ranked by Importance\"\n",
    "    else:\n",
    "        ## sort features and keep top_n and set title\n",
    "        plot_vals = importances.sort_values().tail(top_n)\n",
    "        title = f\"Top {top_n} Most Important Features\"\n",
    "    ## create plot with colors, if provided\n",
    "    if color_dict is not None:\n",
    "        ## Getting color list and saving to plot_kws\n",
    "        colors = plot_vals.index.map(color_dict)\n",
    "        ax = plot_vals.plot(kind='barh', figsize=figsize, color=colors, ax=ax)\n",
    "        \n",
    "    else:\n",
    "        ## create plot without colors, if not provided\n",
    "        ax = plot_vals.plot(kind='barh', figsize=figsize, ax=ax)\n",
    "        \n",
    "    # set titles and axis labels\n",
    "    ax.set(xlabel='Importance', \n",
    "           ylabel='Feature Names', \n",
    "           title=title)\n",
    "    \n",
    "    ## return ax in case want to continue to update/modify figure\n",
    "    return ax"
   ]
  },
  {
   "cell_type": "code",
   "execution_count": 18,
   "id": "b4e3c9d9",
   "metadata": {
    "ExecuteTime": {
     "end_time": "2023-01-30T19:31:38.742867Z",
     "start_time": "2023-01-30T19:31:38.039209Z"
    }
   },
   "outputs": [
    {
     "ename": "NameError",
     "evalue": "name 'importances' is not defined",
     "output_type": "error",
     "traceback": [
      "\u001b[1;31m---------------------------------------------------------------------------\u001b[0m",
      "\u001b[1;31mNameError\u001b[0m                                 Traceback (most recent call last)",
      "Cell \u001b[1;32mIn [18], line 5\u001b[0m\n\u001b[0;32m      3\u001b[0m fig, axes \u001b[38;5;241m=\u001b[39m plt\u001b[38;5;241m.\u001b[39msubplots(ncols\u001b[38;5;241m=\u001b[39m\u001b[38;5;241m2\u001b[39m, figsize\u001b[38;5;241m=\u001b[39m(\u001b[38;5;241m20\u001b[39m,\u001b[38;5;241m8\u001b[39m))\n\u001b[0;32m      4\u001b[0m n \u001b[38;5;241m=\u001b[39m \u001b[38;5;241m20\u001b[39m \u001b[38;5;66;03m# setting the # of features to use for both subplots\u001b[39;00m\n\u001b[1;32m----> 5\u001b[0m plot_importance_color_ax(\u001b[43mimportances\u001b[49m, top_n\u001b[38;5;241m=\u001b[39mn, ax\u001b[38;5;241m=\u001b[39maxes[\u001b[38;5;241m0\u001b[39m],\n\u001b[0;32m      6\u001b[0m                          color_dict\u001b[38;5;241m=\u001b[39m colors_top7)\n\u001b[0;32m      7\u001b[0m plot_importance_color_ax(permutation_importances, top_n\u001b[38;5;241m=\u001b[39mn, ax\u001b[38;5;241m=\u001b[39maxes[\u001b[38;5;241m1\u001b[39m],\n\u001b[0;32m      8\u001b[0m                          color_dict\u001b[38;5;241m=\u001b[39mcolors_top7)\n\u001b[0;32m      9\u001b[0m axes[\u001b[38;5;241m0\u001b[39m]\u001b[38;5;241m.\u001b[39mset(title\u001b[38;5;241m=\u001b[39m\u001b[38;5;124m'\u001b[39m\u001b[38;5;124mR.F. Importances\u001b[39m\u001b[38;5;124m'\u001b[39m)\n",
      "\u001b[1;31mNameError\u001b[0m: name 'importances' is not defined"
     ]
    },
    {
     "data": {
      "image/png": "[encoded data removed]",
      "text/plain": [
       "<Figure size 2000x800 with 2 Axes>"
      ]
     },
     "metadata": {},
     "output_type": "display_data"
    }
   ],
   "source": [
    "#Code to create the side by side subplots\n",
    "\n",
    "fig, axes = plt.subplots(ncols=2, figsize=(20,8))\n",
    "n = 20 # setting the # of features to use for both subplots\n",
    "plot_importance_color_ax(importances, top_n=n, ax=axes[0],\n",
    "                         color_dict= colors_top7)\n",
    "plot_importance_color_ax(permutation_importances, top_n=n, ax=axes[1],\n",
    "                         color_dict=colors_top7)\n",
    "axes[0].set(title='R.F. Importances')\n",
    "axes[1].set(title='Permutation Importances')\n",
    "fig.tight_layout()"
   ]
  }
 ],
 "metadata": {
  "kernelspec": {
   "display_name": "Python (dojo-env)",
   "language": "python",
   "name": "dojo-env"
  },
  "language_info": {
   "codemirror_mode": {
    "name": "ipython",
    "version": 3
   },
   "file_extension": ".py",
   "mimetype": "text/x-python",
   "name": "python",
   "nbconvert_exporter": "python",
   "pygments_lexer": "ipython3",
   "version": "3.9.15"
  },
  "toc": {
   "base_numbering": 1,
   "nav_menu": {},
   "number_sections": false,
   "sideBar": true,
   "skip_h1_title": false,
   "title_cell": "Table of Contents",
   "title_sidebar": "Contents",
   "toc_cell": false,
   "toc_position": {},
   "toc_section_display": true,
   "toc_window_display": false
  }
 },
 "nbformat": 4,
 "nbformat_minor": 5
}
