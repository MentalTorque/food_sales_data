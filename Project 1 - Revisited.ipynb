{
 "cells": [
  {
   "cell_type": "markdown",
   "metadata": {},
   "source": [
    "#Nick Staich"
   ]
  },
  {
   "cell_type": "markdown",
   "metadata": {
    "id": "t3vx4tsCnjJW"
   },
   "source": [
    "Project 1 - Final (Core)\n",
    "This week, you will finalize your sales prediction project. The goal of this is to help the retailer understand the properties of products and outlets that play crucial roles in predicting sales.\n",
    "\n",
    "1) Your first task is to build a linear regression model to predict sales.\n",
    "\n",
    "Build a linear regression model.\n",
    "Evaluate the performance of your model based on r^2.\n",
    "Evaluate the performance of your model based on rmse.\n",
    "2) Your second task is to build a regression tree model to predict sales.\n",
    "\n",
    "Build a simple regression tree model.\n",
    "Compare the performance of your model based on r^2.\n",
    "Compare the performance of your model based on rmse.  \n",
    "3) You now have tried 2 different models on your data set. You need to determine which model to implement.\n",
    "\n",
    "Overall, which model do you recommend?\n",
    "Justify your recommendation.\n",
    "4) To finalize this project, you need to prepare an executive (non-technical) presentation about your project.\n",
    "\n",
    "Create a slide deck for a non-technical audience presenting this data, your analysis, and model recommendations.\n",
    "Do not include data cleaning, pre-processing, or exploration steps in your presentation.\n",
    "Do include 2 insights from your analysis supported with appropriate \"reporting\" quality visuals.\n",
    "Prepare a short (5 minute) audio presentation using your slides (Google Slides, PowePoint, etc). \n",
    "Record yourself giving this presentation. Feel free to use any software available (Zoom, OBS, etc.). Include this recording on your GitHub repo.  Your presentation requires audio, but video is optional.\n",
    "Finalize your README with an overview of the project, an explanation of the data (including visualizations), and a summary of the results and recommendations. Think of this as an executive summary or an overview of your project.\n",
    "Make sure your GitHub repository is organized and professional. Remember, this should be used to showcase your data science skills and abilities.\n",
    "Commit all of your work to GitHub and turn in a link to your GitHub repo with your final project. Make sure you include your presentation slides and recording on your GitHub repo as well."
   ]
  },
  {
   "cell_type": "code",
   "execution_count": 1,
   "metadata": {
    "ExecuteTime": {
     "end_time": "2023-01-28T13:54:57.200945Z",
     "start_time": "2023-01-28T13:54:55.013770Z"
    },
    "colab": {
     "base_uri": "https://localhost:8080/",
     "height": 206
    },
    "id": "KsMf31gbnmtI",
    "outputId": "64204d73-33cb-4114-e653-9d48caa11663",
    "scrolled": true
   },
   "outputs": [
    {
     "data": {
      "text/html": [
       "<div>\n",
       "<style scoped>\n",
       "    .dataframe tbody tr th:only-of-type {\n",
       "        vertical-align: middle;\n",
       "    }\n",
       "\n",
       "    .dataframe tbody tr th {\n",
       "        vertical-align: top;\n",
       "    }\n",
       "\n",
       "    .dataframe thead th {\n",
       "        text-align: right;\n",
       "    }\n",
       "</style>\n",
       "<table border=\"1\" class=\"dataframe\">\n",
       "  <thead>\n",
       "    <tr style=\"text-align: right;\">\n",
       "      <th></th>\n",
       "      <th>Item_Identifier</th>\n",
       "      <th>Item_Weight</th>\n",
       "      <th>Item_Fat_Content</th>\n",
       "      <th>Item_Visibility</th>\n",
       "      <th>Item_Type</th>\n",
       "      <th>Item_MRP</th>\n",
       "      <th>Outlet_Identifier</th>\n",
       "      <th>Outlet_Establishment_Year</th>\n",
       "      <th>Outlet_Size</th>\n",
       "      <th>Outlet_Location_Type</th>\n",
       "      <th>Outlet_Type</th>\n",
       "      <th>Item_Outlet_Sales</th>\n",
       "    </tr>\n",
       "  </thead>\n",
       "  <tbody>\n",
       "    <tr>\n",
       "      <th>0</th>\n",
       "      <td>FDA15</td>\n",
       "      <td>9.30</td>\n",
       "      <td>Low Fat</td>\n",
       "      <td>0.016047</td>\n",
       "      <td>Dairy</td>\n",
       "      <td>249.8092</td>\n",
       "      <td>OUT049</td>\n",
       "      <td>1999</td>\n",
       "      <td>Medium</td>\n",
       "      <td>Tier 1</td>\n",
       "      <td>Supermarket Type1</td>\n",
       "      <td>3735.1380</td>\n",
       "    </tr>\n",
       "    <tr>\n",
       "      <th>1</th>\n",
       "      <td>DRC01</td>\n",
       "      <td>5.92</td>\n",
       "      <td>Regular</td>\n",
       "      <td>0.019278</td>\n",
       "      <td>Soft Drinks</td>\n",
       "      <td>48.2692</td>\n",
       "      <td>OUT018</td>\n",
       "      <td>2009</td>\n",
       "      <td>Medium</td>\n",
       "      <td>Tier 3</td>\n",
       "      <td>Supermarket Type2</td>\n",
       "      <td>443.4228</td>\n",
       "    </tr>\n",
       "    <tr>\n",
       "      <th>2</th>\n",
       "      <td>FDN15</td>\n",
       "      <td>17.50</td>\n",
       "      <td>Low Fat</td>\n",
       "      <td>0.016760</td>\n",
       "      <td>Meat</td>\n",
       "      <td>141.6180</td>\n",
       "      <td>OUT049</td>\n",
       "      <td>1999</td>\n",
       "      <td>Medium</td>\n",
       "      <td>Tier 1</td>\n",
       "      <td>Supermarket Type1</td>\n",
       "      <td>2097.2700</td>\n",
       "    </tr>\n",
       "    <tr>\n",
       "      <th>3</th>\n",
       "      <td>FDX07</td>\n",
       "      <td>19.20</td>\n",
       "      <td>Regular</td>\n",
       "      <td>0.000000</td>\n",
       "      <td>Fruits and Vegetables</td>\n",
       "      <td>182.0950</td>\n",
       "      <td>OUT010</td>\n",
       "      <td>1998</td>\n",
       "      <td>NaN</td>\n",
       "      <td>Tier 3</td>\n",
       "      <td>Grocery Store</td>\n",
       "      <td>732.3800</td>\n",
       "    </tr>\n",
       "    <tr>\n",
       "      <th>4</th>\n",
       "      <td>NCD19</td>\n",
       "      <td>8.93</td>\n",
       "      <td>Low Fat</td>\n",
       "      <td>0.000000</td>\n",
       "      <td>Household</td>\n",
       "      <td>53.8614</td>\n",
       "      <td>OUT013</td>\n",
       "      <td>1987</td>\n",
       "      <td>High</td>\n",
       "      <td>Tier 3</td>\n",
       "      <td>Supermarket Type1</td>\n",
       "      <td>994.7052</td>\n",
       "    </tr>\n",
       "  </tbody>\n",
       "</table>\n",
       "</div>"
      ],
      "text/plain": [
       "  Item_Identifier  Item_Weight Item_Fat_Content  Item_Visibility  \\\n",
       "0           FDA15         9.30          Low Fat         0.016047   \n",
       "1           DRC01         5.92          Regular         0.019278   \n",
       "2           FDN15        17.50          Low Fat         0.016760   \n",
       "3           FDX07        19.20          Regular         0.000000   \n",
       "4           NCD19         8.93          Low Fat         0.000000   \n",
       "\n",
       "               Item_Type  Item_MRP Outlet_Identifier  \\\n",
       "0                  Dairy  249.8092            OUT049   \n",
       "1            Soft Drinks   48.2692            OUT018   \n",
       "2                   Meat  141.6180            OUT049   \n",
       "3  Fruits and Vegetables  182.0950            OUT010   \n",
       "4              Household   53.8614            OUT013   \n",
       "\n",
       "   Outlet_Establishment_Year Outlet_Size Outlet_Location_Type  \\\n",
       "0                       1999      Medium               Tier 1   \n",
       "1                       2009      Medium               Tier 3   \n",
       "2                       1999      Medium               Tier 1   \n",
       "3                       1998         NaN               Tier 3   \n",
       "4                       1987        High               Tier 3   \n",
       "\n",
       "         Outlet_Type  Item_Outlet_Sales  \n",
       "0  Supermarket Type1          3735.1380  \n",
       "1  Supermarket Type2           443.4228  \n",
       "2  Supermarket Type1          2097.2700  \n",
       "3      Grocery Store           732.3800  \n",
       "4  Supermarket Type1           994.7052  "
      ]
     },
     "execution_count": 1,
     "metadata": {},
     "output_type": "execute_result"
    }
   ],
   "source": [
    "import pandas as pd\n",
    "import numpy as np\n",
    "import matplotlib.pyplot as plt\n",
    "import seaborn as sns\n",
    "from sklearn.ensemble import BaggingRegressor\n",
    "from sklearn.ensemble import RandomForestRegressor\n",
    "\n",
    "filename = r'Data\\sales_predictions.csv'\n",
    "\n",
    "df = pd.read_csv(filename)\n",
    "df.head()\n",
    "\n",
    "\n"
   ]
  },
  {
   "cell_type": "code",
   "execution_count": 2,
   "metadata": {
    "ExecuteTime": {
     "end_time": "2023-01-28T13:54:57.263808Z",
     "start_time": "2023-01-28T13:54:57.202939Z"
    },
    "scrolled": true
   },
   "outputs": [
    {
     "name": "stderr",
     "output_type": "stream",
     "text": [
      "C:\\Users\\staichn\\AppData\\Local\\Temp\\ipykernel_15148\\1971790721.py:10: FutureWarning: The default value of numeric_only in DataFrame.min is deprecated. In a future version, it will default to False. In addition, specifying 'numeric_only=None' is deprecated. Select only valid columns or specify the value of numeric_only to silence this warning.\n",
      "  'min':df.min(),\n",
      "C:\\Users\\staichn\\AppData\\Local\\Temp\\ipykernel_15148\\1971790721.py:11: FutureWarning: The default value of numeric_only in DataFrame.max is deprecated. In a future version, it will default to False. In addition, specifying 'numeric_only=None' is deprecated. Select only valid columns or specify the value of numeric_only to silence this warning.\n",
      "  'max':df.max()\n"
     ]
    },
    {
     "data": {
      "text/html": [
       "<div>\n",
       "<style scoped>\n",
       "    .dataframe tbody tr th:only-of-type {\n",
       "        vertical-align: middle;\n",
       "    }\n",
       "\n",
       "    .dataframe tbody tr th {\n",
       "        vertical-align: top;\n",
       "    }\n",
       "\n",
       "    .dataframe thead th {\n",
       "        text-align: right;\n",
       "    }\n",
       "</style>\n",
       "<table border=\"1\" class=\"dataframe\">\n",
       "  <thead>\n",
       "    <tr style=\"text-align: right;\">\n",
       "      <th></th>\n",
       "      <th>Column</th>\n",
       "      <th>dtype</th>\n",
       "      <th># null</th>\n",
       "      <th>null %</th>\n",
       "      <th>nunique</th>\n",
       "      <th>min</th>\n",
       "      <th>max</th>\n",
       "    </tr>\n",
       "  </thead>\n",
       "  <tbody>\n",
       "    <tr>\n",
       "      <th>0</th>\n",
       "      <td>Item_Fat_Content</td>\n",
       "      <td>object</td>\n",
       "      <td>0</td>\n",
       "      <td>0.000000</td>\n",
       "      <td>5</td>\n",
       "      <td>LF</td>\n",
       "      <td>reg</td>\n",
       "    </tr>\n",
       "    <tr>\n",
       "      <th>1</th>\n",
       "      <td>Item_Identifier</td>\n",
       "      <td>object</td>\n",
       "      <td>0</td>\n",
       "      <td>0.000000</td>\n",
       "      <td>1559</td>\n",
       "      <td>DRA12</td>\n",
       "      <td>NCZ54</td>\n",
       "    </tr>\n",
       "    <tr>\n",
       "      <th>2</th>\n",
       "      <td>Item_MRP</td>\n",
       "      <td>float64</td>\n",
       "      <td>0</td>\n",
       "      <td>0.000000</td>\n",
       "      <td>5938</td>\n",
       "      <td>31.29</td>\n",
       "      <td>266.8884</td>\n",
       "    </tr>\n",
       "    <tr>\n",
       "      <th>3</th>\n",
       "      <td>Item_Outlet_Sales</td>\n",
       "      <td>float64</td>\n",
       "      <td>0</td>\n",
       "      <td>0.000000</td>\n",
       "      <td>3493</td>\n",
       "      <td>33.29</td>\n",
       "      <td>13086.9648</td>\n",
       "    </tr>\n",
       "    <tr>\n",
       "      <th>4</th>\n",
       "      <td>Item_Type</td>\n",
       "      <td>object</td>\n",
       "      <td>0</td>\n",
       "      <td>0.000000</td>\n",
       "      <td>16</td>\n",
       "      <td>Baking Goods</td>\n",
       "      <td>Starchy Foods</td>\n",
       "    </tr>\n",
       "    <tr>\n",
       "      <th>5</th>\n",
       "      <td>Item_Visibility</td>\n",
       "      <td>float64</td>\n",
       "      <td>0</td>\n",
       "      <td>0.000000</td>\n",
       "      <td>7880</td>\n",
       "      <td>0.0</td>\n",
       "      <td>0.328391</td>\n",
       "    </tr>\n",
       "    <tr>\n",
       "      <th>6</th>\n",
       "      <td>Item_Weight</td>\n",
       "      <td>float64</td>\n",
       "      <td>1463</td>\n",
       "      <td>17.165317</td>\n",
       "      <td>415</td>\n",
       "      <td>4.555</td>\n",
       "      <td>21.35</td>\n",
       "    </tr>\n",
       "    <tr>\n",
       "      <th>7</th>\n",
       "      <td>Outlet_Establishment_Year</td>\n",
       "      <td>int64</td>\n",
       "      <td>0</td>\n",
       "      <td>0.000000</td>\n",
       "      <td>9</td>\n",
       "      <td>1985</td>\n",
       "      <td>2009</td>\n",
       "    </tr>\n",
       "    <tr>\n",
       "      <th>8</th>\n",
       "      <td>Outlet_Identifier</td>\n",
       "      <td>object</td>\n",
       "      <td>0</td>\n",
       "      <td>0.000000</td>\n",
       "      <td>10</td>\n",
       "      <td>OUT010</td>\n",
       "      <td>OUT049</td>\n",
       "    </tr>\n",
       "    <tr>\n",
       "      <th>9</th>\n",
       "      <td>Outlet_Location_Type</td>\n",
       "      <td>object</td>\n",
       "      <td>0</td>\n",
       "      <td>0.000000</td>\n",
       "      <td>3</td>\n",
       "      <td>Tier 1</td>\n",
       "      <td>Tier 3</td>\n",
       "    </tr>\n",
       "    <tr>\n",
       "      <th>10</th>\n",
       "      <td>Outlet_Size</td>\n",
       "      <td>object</td>\n",
       "      <td>2410</td>\n",
       "      <td>28.276428</td>\n",
       "      <td>3</td>\n",
       "      <td>NaN</td>\n",
       "      <td>NaN</td>\n",
       "    </tr>\n",
       "    <tr>\n",
       "      <th>11</th>\n",
       "      <td>Outlet_Type</td>\n",
       "      <td>object</td>\n",
       "      <td>0</td>\n",
       "      <td>0.000000</td>\n",
       "      <td>4</td>\n",
       "      <td>Grocery Store</td>\n",
       "      <td>Supermarket Type3</td>\n",
       "    </tr>\n",
       "  </tbody>\n",
       "</table>\n",
       "</div>"
      ],
      "text/plain": [
       "                       Column    dtype  # null     null %  nunique  \\\n",
       "0            Item_Fat_Content   object       0   0.000000        5   \n",
       "1             Item_Identifier   object       0   0.000000     1559   \n",
       "2                    Item_MRP  float64       0   0.000000     5938   \n",
       "3           Item_Outlet_Sales  float64       0   0.000000     3493   \n",
       "4                   Item_Type   object       0   0.000000       16   \n",
       "5             Item_Visibility  float64       0   0.000000     7880   \n",
       "6                 Item_Weight  float64    1463  17.165317      415   \n",
       "7   Outlet_Establishment_Year    int64       0   0.000000        9   \n",
       "8           Outlet_Identifier   object       0   0.000000       10   \n",
       "9        Outlet_Location_Type   object       0   0.000000        3   \n",
       "10                Outlet_Size   object    2410  28.276428        3   \n",
       "11                Outlet_Type   object       0   0.000000        4   \n",
       "\n",
       "              min                max  \n",
       "0              LF                reg  \n",
       "1           DRA12              NCZ54  \n",
       "2           31.29           266.8884  \n",
       "3           33.29         13086.9648  \n",
       "4    Baking Goods      Starchy Foods  \n",
       "5             0.0           0.328391  \n",
       "6           4.555              21.35  \n",
       "7            1985               2009  \n",
       "8          OUT010             OUT049  \n",
       "9          Tier 1             Tier 3  \n",
       "10            NaN                NaN  \n",
       "11  Grocery Store  Supermarket Type3  "
      ]
     },
     "execution_count": 2,
     "metadata": {},
     "output_type": "execute_result"
    }
   ],
   "source": [
    "#Quick Function for EDA analysis (proper EDA should still be conducted)\n",
    "\n",
    "def summarize_df(df_):\n",
    "    df = df_.copy()\n",
    "    report = pd.DataFrame({\n",
    "        'dtype':df.dtypes,\n",
    "        '# null': df.isna().sum(),\n",
    "        'null %': df.isna().sum()/len(df)*100,\n",
    "        'nunique': df.nunique(),\n",
    "        'min':df.min(),\n",
    "        'max':df.max()        \n",
    "    })\n",
    "    report.index.name='Column'\n",
    "    return report.reset_index()\n",
    "summarize_df(df)"
   ]
  },
  {
   "cell_type": "code",
   "execution_count": 3,
   "metadata": {
    "ExecuteTime": {
     "end_time": "2023-01-28T13:54:57.279802Z",
     "start_time": "2023-01-28T13:54:57.264797Z"
    }
   },
   "outputs": [],
   "source": [
    "#Plotting Customization Options\n",
    "plt.style.use(('classic','dark_background'))\n",
    "sns.set_context(context='notebook', font_scale=1.2)\n",
    "plt.rcParams['savefig.transparent']=False\n",
    "plt.rcParams['savefig.bbox']='tight'\n",
    "plt.rcParams['figure.facecolor']='black'"
   ]
  },
  {
   "cell_type": "code",
   "execution_count": 4,
   "metadata": {
    "ExecuteTime": {
     "end_time": "2023-01-28T13:54:57.559764Z",
     "start_time": "2023-01-28T13:54:57.281799Z"
    },
    "scrolled": true
   },
   "outputs": [
    {
     "data": {
      "text/plain": [
       "Text(0.5, 1.0, 'Distribution of Item Outlet Sales')"
      ]
     },
     "execution_count": 4,
     "metadata": {},
     "output_type": "execute_result"
    },
    {
     "data": {
      "image/png": "[encoded data removed]",
      "text/plain": [
       "<Figure size 640x480 with 1 Axes>"
      ]
     },
     "metadata": {},
     "output_type": "display_data"
    }
   ],
   "source": [
    "ax = sns.histplot(data=df, x='Item_Outlet_Sales');\n",
    "ax.set_title(\"Distribution of Item Outlet Sales\")"
   ]
  },
  {
   "cell_type": "code",
   "execution_count": 5,
   "metadata": {
    "ExecuteTime": {
     "end_time": "2023-01-28T13:54:57.731535Z",
     "start_time": "2023-01-28T13:54:57.563815Z"
    }
   },
   "outputs": [
    {
     "name": "stdout",
     "output_type": "stream",
     "text": [
      "sklearn version: 1.1.3\n",
      "Python 3.9.15\n"
     ]
    }
   ],
   "source": [
    "import sklearn\n",
    "print (f\"sklearn version: {sklearn.__version__}\")\n",
    "!python --version"
   ]
  },
  {
   "cell_type": "code",
   "execution_count": 6,
   "metadata": {
    "ExecuteTime": {
     "end_time": "2023-01-28T13:54:57.761786Z",
     "start_time": "2023-01-28T13:54:57.733603Z"
    }
   },
   "outputs": [],
   "source": [
    "#Our Standard imports\n",
    "from sklearn.model_selection import train_test_split\n",
    "from sklearn.compose import make_column_transformer, make_column_selector\n",
    "from sklearn.pipeline import make_pipeline\n",
    "from sklearn.preprocessing import OneHotEncoder, StandardScaler\n",
    "from sklearn.impute import SimpleImputer\n",
    "#Models and evaluation metrics\n",
    "from sklearn import metrics\n",
    "from sklearn.linear_model import LinearRegression\n",
    "from sklearn.metrics import r2_score, mean_absolute_error, mean_squared_error\n",
    "from sklearn.tree import DecisionTreeRegressor\n",
    "from sklearn.ensemble import RandomForestRegressor\n",
    "import joblib\n",
    "#Set random state for reproducibility\n",
    "SEED = 321 \n",
    "np.random.seed(SEED)\n",
    "#set pandas to display more columns\n",
    "pd.set_option('display.max_columns',50)"
   ]
  },
  {
   "cell_type": "code",
   "execution_count": 8,
   "metadata": {
    "ExecuteTime": {
     "end_time": "2023-01-28T14:01:36.298098Z",
     "start_time": "2023-01-28T14:01:36.291154Z"
    }
   },
   "outputs": [],
   "source": [
    "\n",
    "#X_test_freqs = X_test['Item_Identifier'].value_counts(normalize=True)\n",
    "\n",
    "#X_test_freqs\n",
    "\n",
    "#X_test_items = X['Item_Identifier']"
   ]
  },
  {
   "cell_type": "code",
   "execution_count": 23,
   "metadata": {
    "ExecuteTime": {
     "end_time": "2023-01-28T14:08:30.086097Z",
     "start_time": "2023-01-28T14:08:30.060860Z"
    }
   },
   "outputs": [
    {
     "data": {
      "text/plain": [
       "<bound method NDFrame.head of      Item_Identifier  Item_Weight Item_Fat_Content  Item_Visibility  \\\n",
       "8269           FDI60        7.220          Regular         0.064142   \n",
       "7604           DRD25        6.135               LF         0.079294   \n",
       "2762           NCP18       12.150          Low Fat         0.028593   \n",
       "6464           NCS30        5.945               LF         0.093009   \n",
       "4707           FDI08       18.200          Regular         0.066285   \n",
       "...              ...          ...              ...              ...   \n",
       "3482           FDL44          NaN          Low Fat         0.012216   \n",
       "8360           FDA34       11.500          Low Fat         0.014884   \n",
       "5929           NCU30        5.110          Low Fat         0.034945   \n",
       "4220           FDX47        6.550          Regular         0.034800   \n",
       "6682           DRG49        7.810          Low Fat         0.067730   \n",
       "\n",
       "                  Item_Type  Item_MRP Outlet_Identifier  \\\n",
       "8269           Baking Goods   61.2510            OUT010   \n",
       "7604            Soft Drinks  111.2860            OUT018   \n",
       "2762              Household  151.0708            OUT035   \n",
       "6464              Household  127.8652            OUT035   \n",
       "4707  Fruits and Vegetables  247.2092            OUT035   \n",
       "...                     ...       ...               ...   \n",
       "3482  Fruits and Vegetables  162.7894            OUT027   \n",
       "8360          Starchy Foods  174.5080            OUT049   \n",
       "5929              Household  161.1210            OUT045   \n",
       "4220                 Breads  157.5288            OUT017   \n",
       "6682            Soft Drinks  242.6486            OUT018   \n",
       "\n",
       "      Outlet_Establishment_Year Outlet_Size Outlet_Location_Type  \\\n",
       "8269                       1998         NaN               Tier 3   \n",
       "7604                       2009      Medium               Tier 3   \n",
       "2762                       2004       Small               Tier 2   \n",
       "6464                       2004       Small               Tier 2   \n",
       "4707                       2004       Small               Tier 2   \n",
       "...                         ...         ...                  ...   \n",
       "3482                       1985      Medium               Tier 3   \n",
       "8360                       1999      Medium               Tier 1   \n",
       "5929                       2002         NaN               Tier 2   \n",
       "4220                       2007         NaN               Tier 2   \n",
       "6682                       2009      Medium               Tier 3   \n",
       "\n",
       "            Outlet_Type  \n",
       "8269      Grocery Store  \n",
       "7604  Supermarket Type2  \n",
       "2762  Supermarket Type1  \n",
       "6464  Supermarket Type1  \n",
       "4707  Supermarket Type1  \n",
       "...                 ...  \n",
       "3482  Supermarket Type3  \n",
       "8360  Supermarket Type1  \n",
       "5929  Supermarket Type1  \n",
       "4220  Supermarket Type1  \n",
       "6682  Supermarket Type2  \n",
       "\n",
       "[6392 rows x 11 columns]>"
      ]
     },
     "execution_count": 23,
     "metadata": {},
     "output_type": "execute_result"
    }
   ],
   "source": [
    "# Make x and y variables\n",
    "y = df['Item_Outlet_Sales'].copy()\n",
    "X = df.drop(columns=['Item_Outlet_Sales']).copy()\n",
    "\n",
    "#stratify=X_test_items, \n",
    "# Train-Test-Split with random state for reproducibility\n",
    "X_train, X_test, y_train, y_test = train_test_split(X,y, random_state=SEED)\n",
    "X_train.head"
   ]
  },
  {
   "cell_type": "code",
   "execution_count": 22,
   "metadata": {
    "ExecuteTime": {
     "end_time": "2023-01-28T14:07:40.502679Z",
     "start_time": "2023-01-28T14:07:40.489817Z"
    }
   },
   "outputs": [
    {
     "data": {
      "text/plain": [
       "['Item_Identifier',\n",
       " 'Item_Fat_Content',\n",
       " 'Item_Type',\n",
       " 'Outlet_Identifier',\n",
       " 'Outlet_Size',\n",
       " 'Outlet_Location_Type',\n",
       " 'Outlet_Type']"
      ]
     },
     "execution_count": 22,
     "metadata": {},
     "output_type": "execute_result"
    }
   ],
   "source": [
    "# Make categorical se;lector and verify it works\n",
    "\n",
    "cat_sel = make_column_selector(dtype_include='object')\n",
    "cat_sel(X_train)"
   ]
  },
  {
   "cell_type": "code",
   "execution_count": 12,
   "metadata": {
    "ExecuteTime": {
     "end_time": "2023-01-28T14:03:49.076051Z",
     "start_time": "2023-01-28T14:03:49.057894Z"
    }
   },
   "outputs": [],
   "source": [
    "\n",
    "X_test_freqs = X_test['Item_Identifier'].value_counts(normalize=True)\n",
    "\n",
    "X_test_freqs\n",
    "\n",
    "X_test_items = X['Item_Identifier']"
   ]
  },
  {
   "cell_type": "code",
   "execution_count": 13,
   "metadata": {
    "ExecuteTime": {
     "end_time": "2023-01-28T14:03:53.534517Z",
     "start_time": "2023-01-28T14:03:53.395397Z"
    }
   },
   "outputs": [
    {
     "data": {
      "text/plain": [
       "<AxesSubplot: xlabel='Item_Identifier', ylabel='Count'>"
      ]
     },
     "execution_count": 13,
     "metadata": {},
     "output_type": "execute_result"
    },
    {
     "data": {
      "image/png": "[encoded data removed]",
      "text/plain": [
       "<Figure size 640x480 with 1 Axes>"
      ]
     },
     "metadata": {},
     "output_type": "display_data"
    }
   ],
   "source": [
    "sns.histplot(X_test_freqs)"
   ]
  },
  {
   "cell_type": "code",
   "execution_count": 14,
   "metadata": {
    "ExecuteTime": {
     "end_time": "2023-01-28T14:03:57.792165Z",
     "start_time": "2023-01-28T14:03:57.785098Z"
    }
   },
   "outputs": [
    {
     "data": {
      "text/plain": [
       "['Item_Weight', 'Item_Visibility', 'Item_MRP', 'Outlet_Establishment_Year']"
      ]
     },
     "execution_count": 14,
     "metadata": {},
     "output_type": "execute_result"
    }
   ],
   "source": [
    "#Make numeric selector and verify it works\n",
    "\n",
    "num_sel = make_column_selector(dtype_include='number')\n",
    "num_sel(X_train)"
   ]
  },
  {
   "cell_type": "code",
   "execution_count": 15,
   "metadata": {
    "ExecuteTime": {
     "end_time": "2023-01-28T14:04:01.161347Z",
     "start_time": "2023-01-28T14:04:01.154348Z"
    }
   },
   "outputs": [],
   "source": [
    "## make pipelines for categorical vs numeric data\n",
    "cat_pipe = make_pipeline(SimpleImputer(strategy='most_frequent', fill_value='MISSING'),\n",
    "                         OneHotEncoder(drop='first', min_frequency=.0010, sparse=False))\n",
    "num_pipe = make_pipeline(SimpleImputer(strategy='mean'))"
   ]
  },
  {
   "cell_type": "code",
   "execution_count": 16,
   "metadata": {
    "ExecuteTime": {
     "end_time": "2023-01-28T14:04:05.067763Z",
     "start_time": "2023-01-28T14:04:05.042700Z"
    }
   },
   "outputs": [
    {
     "data": {
      "text/html": [
       "<style>#sk-container-id-1 {color: black;background-color: white;}#sk-container-id-1 pre{padding: 0;}#sk-container-id-1 div.sk-toggleable {background-color: white;}#sk-container-id-1 label.sk-toggleable__label {cursor: pointer;display: block;width: 100%;margin-bottom: 0;padding: 0.3em;box-sizing: border-box;text-align: center;}#sk-container-id-1 label.sk-toggleable__label-arrow:before {content: \"▸\";float: left;margin-right: 0.25em;color: #696969;}#sk-container-id-1 label.sk-toggleable__label-arrow:hover:before {color: black;}#sk-container-id-1 div.sk-estimator:hover label.sk-toggleable__label-arrow:before {color: black;}#sk-container-id-1 div.sk-toggleable__content {max-height: 0;max-width: 0;overflow: hidden;text-align: left;background-color: #f0f8ff;}#sk-container-id-1 div.sk-toggleable__content pre {margin: 0.2em;color: black;border-radius: 0.25em;background-color: #f0f8ff;}#sk-container-id-1 input.sk-toggleable__control:checked~div.sk-toggleable__content {max-height: 200px;max-width: 100%;overflow: auto;}#sk-container-id-1 input.sk-toggleable__control:checked~label.sk-toggleable__label-arrow:before {content: \"▾\";}#sk-container-id-1 div.sk-estimator input.sk-toggleable__control:checked~label.sk-toggleable__label {background-color: #d4ebff;}#sk-container-id-1 div.sk-label input.sk-toggleable__control:checked~label.sk-toggleable__label {background-color: #d4ebff;}#sk-container-id-1 input.sk-hidden--visually {border: 0;clip: rect(1px 1px 1px 1px);clip: rect(1px, 1px, 1px, 1px);height: 1px;margin: -1px;overflow: hidden;padding: 0;position: absolute;width: 1px;}#sk-container-id-1 div.sk-estimator {font-family: monospace;background-color: #f0f8ff;border: 1px dotted black;border-radius: 0.25em;box-sizing: border-box;margin-bottom: 0.5em;}#sk-container-id-1 div.sk-estimator:hover {background-color: #d4ebff;}#sk-container-id-1 div.sk-parallel-item::after {content: \"\";width: 100%;border-bottom: 1px solid gray;flex-grow: 1;}#sk-container-id-1 div.sk-label:hover label.sk-toggleable__label {background-color: #d4ebff;}#sk-container-id-1 div.sk-serial::before {content: \"\";position: absolute;border-left: 1px solid gray;box-sizing: border-box;top: 0;bottom: 0;left: 50%;z-index: 0;}#sk-container-id-1 div.sk-serial {display: flex;flex-direction: column;align-items: center;background-color: white;padding-right: 0.2em;padding-left: 0.2em;position: relative;}#sk-container-id-1 div.sk-item {position: relative;z-index: 1;}#sk-container-id-1 div.sk-parallel {display: flex;align-items: stretch;justify-content: center;background-color: white;position: relative;}#sk-container-id-1 div.sk-item::before, #sk-container-id-1 div.sk-parallel-item::before {content: \"\";position: absolute;border-left: 1px solid gray;box-sizing: border-box;top: 0;bottom: 0;left: 50%;z-index: -1;}#sk-container-id-1 div.sk-parallel-item {display: flex;flex-direction: column;z-index: 1;position: relative;background-color: white;}#sk-container-id-1 div.sk-parallel-item:first-child::after {align-self: flex-end;width: 50%;}#sk-container-id-1 div.sk-parallel-item:last-child::after {align-self: flex-start;width: 50%;}#sk-container-id-1 div.sk-parallel-item:only-child::after {width: 0;}#sk-container-id-1 div.sk-dashed-wrapped {border: 1px dashed gray;margin: 0 0.4em 0.5em 0.4em;box-sizing: border-box;padding-bottom: 0.4em;background-color: white;}#sk-container-id-1 div.sk-label label {font-family: monospace;font-weight: bold;display: inline-block;line-height: 1.2em;}#sk-container-id-1 div.sk-label-container {text-align: center;}#sk-container-id-1 div.sk-container {/* jupyter's `normalize.less` sets `[hidden] { display: none; }` but bootstrap.min.css set `[hidden] { display: none !important; }` so we also need the `!important` here to be able to override the default hidden behavior on the sphinx rendered scikit-learn.org. See: https://github.com/scikit-learn/scikit-learn/issues/21755 */display: inline-block !important;position: relative;}#sk-container-id-1 div.sk-text-repr-fallback {display: none;}</style><div id=\"sk-container-id-1\" class=\"sk-top-container\"><div class=\"sk-text-repr-fallback\"><pre>ColumnTransformer(transformers=[(&#x27;pipeline-1&#x27;,\n",
       "                                 Pipeline(steps=[(&#x27;simpleimputer&#x27;,\n",
       "                                                  SimpleImputer())]),\n",
       "                                 &lt;sklearn.compose._column_transformer.make_column_selector object at 0x000001FC3E9D7640&gt;),\n",
       "                                (&#x27;pipeline-2&#x27;,\n",
       "                                 Pipeline(steps=[(&#x27;simpleimputer&#x27;,\n",
       "                                                  SimpleImputer(fill_value=&#x27;MISSING&#x27;,\n",
       "                                                                strategy=&#x27;most_frequent&#x27;)),\n",
       "                                                 (&#x27;onehotencoder&#x27;,\n",
       "                                                  OneHotEncoder(drop=&#x27;first&#x27;,\n",
       "                                                                min_frequency=0.001,\n",
       "                                                                sparse=False))]),\n",
       "                                 &lt;sklearn.compose._column_transformer.make_column_selector object at 0x000001FC3EA80AC0&gt;)],\n",
       "                  verbose_feature_names_out=False)</pre><b>In a Jupyter environment, please rerun this cell to show the HTML representation or trust the notebook. <br />On GitHub, the HTML representation is unable to render, please try loading this page with nbviewer.org.</b></div><div class=\"sk-container\" hidden><div class=\"sk-item sk-dashed-wrapped\"><div class=\"sk-label-container\"><div class=\"sk-label sk-toggleable\"><input class=\"sk-toggleable__control sk-hidden--visually\" id=\"sk-estimator-id-1\" type=\"checkbox\" ><label for=\"sk-estimator-id-1\" class=\"sk-toggleable__label sk-toggleable__label-arrow\">ColumnTransformer</label><div class=\"sk-toggleable__content\"><pre>ColumnTransformer(transformers=[(&#x27;pipeline-1&#x27;,\n",
       "                                 Pipeline(steps=[(&#x27;simpleimputer&#x27;,\n",
       "                                                  SimpleImputer())]),\n",
       "                                 &lt;sklearn.compose._column_transformer.make_column_selector object at 0x000001FC3E9D7640&gt;),\n",
       "                                (&#x27;pipeline-2&#x27;,\n",
       "                                 Pipeline(steps=[(&#x27;simpleimputer&#x27;,\n",
       "                                                  SimpleImputer(fill_value=&#x27;MISSING&#x27;,\n",
       "                                                                strategy=&#x27;most_frequent&#x27;)),\n",
       "                                                 (&#x27;onehotencoder&#x27;,\n",
       "                                                  OneHotEncoder(drop=&#x27;first&#x27;,\n",
       "                                                                min_frequency=0.001,\n",
       "                                                                sparse=False))]),\n",
       "                                 &lt;sklearn.compose._column_transformer.make_column_selector object at 0x000001FC3EA80AC0&gt;)],\n",
       "                  verbose_feature_names_out=False)</pre></div></div></div><div class=\"sk-parallel\"><div class=\"sk-parallel-item\"><div class=\"sk-item\"><div class=\"sk-label-container\"><div class=\"sk-label sk-toggleable\"><input class=\"sk-toggleable__control sk-hidden--visually\" id=\"sk-estimator-id-2\" type=\"checkbox\" ><label for=\"sk-estimator-id-2\" class=\"sk-toggleable__label sk-toggleable__label-arrow\">pipeline-1</label><div class=\"sk-toggleable__content\"><pre>&lt;sklearn.compose._column_transformer.make_column_selector object at 0x000001FC3E9D7640&gt;</pre></div></div></div><div class=\"sk-serial\"><div class=\"sk-item\"><div class=\"sk-serial\"><div class=\"sk-item\"><div class=\"sk-estimator sk-toggleable\"><input class=\"sk-toggleable__control sk-hidden--visually\" id=\"sk-estimator-id-3\" type=\"checkbox\" ><label for=\"sk-estimator-id-3\" class=\"sk-toggleable__label sk-toggleable__label-arrow\">SimpleImputer</label><div class=\"sk-toggleable__content\"><pre>SimpleImputer()</pre></div></div></div></div></div></div></div></div><div class=\"sk-parallel-item\"><div class=\"sk-item\"><div class=\"sk-label-container\"><div class=\"sk-label sk-toggleable\"><input class=\"sk-toggleable__control sk-hidden--visually\" id=\"sk-estimator-id-4\" type=\"checkbox\" ><label for=\"sk-estimator-id-4\" class=\"sk-toggleable__label sk-toggleable__label-arrow\">pipeline-2</label><div class=\"sk-toggleable__content\"><pre>&lt;sklearn.compose._column_transformer.make_column_selector object at 0x000001FC3EA80AC0&gt;</pre></div></div></div><div class=\"sk-serial\"><div class=\"sk-item\"><div class=\"sk-serial\"><div class=\"sk-item\"><div class=\"sk-estimator sk-toggleable\"><input class=\"sk-toggleable__control sk-hidden--visually\" id=\"sk-estimator-id-5\" type=\"checkbox\" ><label for=\"sk-estimator-id-5\" class=\"sk-toggleable__label sk-toggleable__label-arrow\">SimpleImputer</label><div class=\"sk-toggleable__content\"><pre>SimpleImputer(fill_value=&#x27;MISSING&#x27;, strategy=&#x27;most_frequent&#x27;)</pre></div></div></div><div class=\"sk-item\"><div class=\"sk-estimator sk-toggleable\"><input class=\"sk-toggleable__control sk-hidden--visually\" id=\"sk-estimator-id-6\" type=\"checkbox\" ><label for=\"sk-estimator-id-6\" class=\"sk-toggleable__label sk-toggleable__label-arrow\">OneHotEncoder</label><div class=\"sk-toggleable__content\"><pre>OneHotEncoder(drop=&#x27;first&#x27;, min_frequency=0.001, sparse=False)</pre></div></div></div></div></div></div></div></div></div></div></div></div>"
      ],
      "text/plain": [
       "ColumnTransformer(transformers=[('pipeline-1',\n",
       "                                 Pipeline(steps=[('simpleimputer',\n",
       "                                                  SimpleImputer())]),\n",
       "                                 <sklearn.compose._column_transformer.make_column_selector object at 0x000001FC3E9D7640>),\n",
       "                                ('pipeline-2',\n",
       "                                 Pipeline(steps=[('simpleimputer',\n",
       "                                                  SimpleImputer(fill_value='MISSING',\n",
       "                                                                strategy='most_frequent')),\n",
       "                                                 ('onehotencoder',\n",
       "                                                  OneHotEncoder(drop='first',\n",
       "                                                                min_frequency=0.001,\n",
       "                                                                sparse=False))]),\n",
       "                                 <sklearn.compose._column_transformer.make_column_selector object at 0x000001FC3EA80AC0>)],\n",
       "                  verbose_feature_names_out=False)"
      ]
     },
     "execution_count": 16,
     "metadata": {},
     "output_type": "execute_result"
    }
   ],
   "source": [
    "\n",
    "preprocessor = make_column_transformer((num_pipe, num_sel),\n",
    "                                       (cat_pipe, cat_sel),\n",
    "                                      verbose_feature_names_out=False)\n",
    "\n",
    "preprocessor"
   ]
  },
  {
   "cell_type": "code",
   "execution_count": 17,
   "metadata": {
    "ExecuteTime": {
     "end_time": "2023-01-28T14:04:08.535357Z",
     "start_time": "2023-01-28T14:04:08.395558Z"
    }
   },
   "outputs": [
    {
     "data": {
      "text/plain": [
       "array(['Item_Weight', 'Item_Visibility', 'Item_MRP',\n",
       "       'Outlet_Establishment_Year', 'Item_Identifier_DRE49',\n",
       "       'Item_Identifier_DRF01', 'Item_Identifier_DRF03',\n",
       "       'Item_Identifier_DRI03', 'Item_Identifier_DRK35',\n",
       "       'Item_Identifier_DRL60', 'Item_Identifier_DRM37',\n",
       "       'Item_Identifier_DRN47', 'Item_Identifier_FDB56',\n",
       "       'Item_Identifier_FDB58', 'Item_Identifier_FDD29',\n",
       "       'Item_Identifier_FDD50', 'Item_Identifier_FDE11',\n",
       "       'Item_Identifier_FDE33', 'Item_Identifier_FDF05',\n",
       "       'Item_Identifier_FDF16', 'Item_Identifier_FDF21',\n",
       "       'Item_Identifier_FDF56', 'Item_Identifier_FDG09',\n",
       "       'Item_Identifier_FDG24', 'Item_Identifier_FDG33',\n",
       "       'Item_Identifier_FDG38', 'Item_Identifier_FDH27',\n",
       "       'Item_Identifier_FDI41', 'Item_Identifier_FDI45',\n",
       "       'Item_Identifier_FDJ48', 'Item_Identifier_FDJ55',\n",
       "       'Item_Identifier_FDK08', 'Item_Identifier_FDK20',\n",
       "       'Item_Identifier_FDL34', 'Item_Identifier_FDL48',\n",
       "       'Item_Identifier_FDN12', 'Item_Identifier_FDN56',\n",
       "       'Item_Identifier_FDN60', 'Item_Identifier_FDO19',\n",
       "       'Item_Identifier_FDO34', 'Item_Identifier_FDO60',\n",
       "       'Item_Identifier_FDP10', 'Item_Identifier_FDP24',\n",
       "       'Item_Identifier_FDQ39', 'Item_Identifier_FDR02',\n",
       "       'Item_Identifier_FDR04', 'Item_Identifier_FDR23',\n",
       "       'Item_Identifier_FDR37', 'Item_Identifier_FDR52',\n",
       "       'Item_Identifier_FDS01', 'Item_Identifier_FDS33',\n",
       "       'Item_Identifier_FDS52', 'Item_Identifier_FDS55',\n",
       "       'Item_Identifier_FDS57', 'Item_Identifier_FDT03',\n",
       "       'Item_Identifier_FDT07', 'Item_Identifier_FDT32',\n",
       "       'Item_Identifier_FDT34', 'Item_Identifier_FDU13',\n",
       "       'Item_Identifier_FDU19', 'Item_Identifier_FDU46',\n",
       "       'Item_Identifier_FDV09', 'Item_Identifier_FDV38',\n",
       "       'Item_Identifier_FDW13', 'Item_Identifier_FDW32',\n",
       "       'Item_Identifier_FDW48', 'Item_Identifier_FDW49',\n",
       "       'Item_Identifier_FDX04', 'Item_Identifier_FDX31',\n",
       "       'Item_Identifier_FDX36', 'Item_Identifier_FDY31',\n",
       "       'Item_Identifier_FDY47', 'Item_Identifier_FDZ20',\n",
       "       'Item_Identifier_FDZ33', 'Item_Identifier_NCB18',\n",
       "       'Item_Identifier_NCF42', 'Item_Identifier_NCI54',\n",
       "       'Item_Identifier_NCJ30', 'Item_Identifier_NCK18',\n",
       "       'Item_Identifier_NCK29', 'Item_Identifier_NCL31',\n",
       "       'Item_Identifier_NCM07', 'Item_Identifier_NCM43',\n",
       "       'Item_Identifier_NCO05', 'Item_Identifier_NCP05',\n",
       "       'Item_Identifier_NCP06', 'Item_Identifier_NCP18',\n",
       "       'Item_Identifier_NCQ05', 'Item_Identifier_NCQ06',\n",
       "       'Item_Identifier_NCR53', 'Item_Identifier_NCY18',\n",
       "       'Item_Identifier_infrequent_sklearn', 'Item_Fat_Content_Low Fat',\n",
       "       'Item_Fat_Content_Regular', 'Item_Fat_Content_low fat',\n",
       "       'Item_Fat_Content_reg', 'Item_Type_Breads', 'Item_Type_Breakfast',\n",
       "       'Item_Type_Canned', 'Item_Type_Dairy', 'Item_Type_Frozen Foods',\n",
       "       'Item_Type_Fruits and Vegetables', 'Item_Type_Hard Drinks',\n",
       "       'Item_Type_Health and Hygiene', 'Item_Type_Household',\n",
       "       'Item_Type_Meat', 'Item_Type_Others', 'Item_Type_Seafood',\n",
       "       'Item_Type_Snack Foods', 'Item_Type_Soft Drinks',\n",
       "       'Item_Type_Starchy Foods', 'Outlet_Identifier_OUT013',\n",
       "       'Outlet_Identifier_OUT017', 'Outlet_Identifier_OUT018',\n",
       "       'Outlet_Identifier_OUT019', 'Outlet_Identifier_OUT027',\n",
       "       'Outlet_Identifier_OUT035', 'Outlet_Identifier_OUT045',\n",
       "       'Outlet_Identifier_OUT046', 'Outlet_Identifier_OUT049',\n",
       "       'Outlet_Size_Medium', 'Outlet_Size_Small',\n",
       "       'Outlet_Location_Type_Tier 2', 'Outlet_Location_Type_Tier 3',\n",
       "       'Outlet_Type_Supermarket Type1', 'Outlet_Type_Supermarket Type2',\n",
       "       'Outlet_Type_Supermarket Type3'], dtype=object)"
      ]
     },
     "execution_count": 17,
     "metadata": {},
     "output_type": "execute_result"
    }
   ],
   "source": [
    "preprocessor.fit(X_train)\n",
    "feature_names = preprocessor.get_feature_names_out()\n",
    "feature_names"
   ]
  },
  {
   "cell_type": "code",
   "execution_count": 18,
   "metadata": {
    "ExecuteTime": {
     "end_time": "2023-01-28T14:05:37.007516Z",
     "start_time": "2023-01-28T14:05:36.947201Z"
    }
   },
   "outputs": [
    {
     "data": {
      "text/html": [
       "<div>\n",
       "<style scoped>\n",
       "    .dataframe tbody tr th:only-of-type {\n",
       "        vertical-align: middle;\n",
       "    }\n",
       "\n",
       "    .dataframe tbody tr th {\n",
       "        vertical-align: top;\n",
       "    }\n",
       "\n",
       "    .dataframe thead th {\n",
       "        text-align: right;\n",
       "    }\n",
       "</style>\n",
       "<table border=\"1\" class=\"dataframe\">\n",
       "  <thead>\n",
       "    <tr style=\"text-align: right;\">\n",
       "      <th></th>\n",
       "      <th>Item_Weight</th>\n",
       "      <th>Item_Visibility</th>\n",
       "      <th>Item_MRP</th>\n",
       "      <th>Outlet_Establishment_Year</th>\n",
       "      <th>Item_Identifier_DRE49</th>\n",
       "      <th>Item_Identifier_DRF01</th>\n",
       "      <th>Item_Identifier_DRF03</th>\n",
       "      <th>Item_Identifier_DRI03</th>\n",
       "      <th>Item_Identifier_DRK35</th>\n",
       "      <th>Item_Identifier_DRL60</th>\n",
       "      <th>Item_Identifier_DRM37</th>\n",
       "      <th>Item_Identifier_DRN47</th>\n",
       "      <th>Item_Identifier_FDB56</th>\n",
       "      <th>Item_Identifier_FDB58</th>\n",
       "      <th>Item_Identifier_FDD29</th>\n",
       "      <th>Item_Identifier_FDD50</th>\n",
       "      <th>Item_Identifier_FDE11</th>\n",
       "      <th>Item_Identifier_FDE33</th>\n",
       "      <th>Item_Identifier_FDF05</th>\n",
       "      <th>Item_Identifier_FDF16</th>\n",
       "      <th>Item_Identifier_FDF21</th>\n",
       "      <th>Item_Identifier_FDF56</th>\n",
       "      <th>Item_Identifier_FDG09</th>\n",
       "      <th>Item_Identifier_FDG24</th>\n",
       "      <th>Item_Identifier_FDG33</th>\n",
       "      <th>...</th>\n",
       "      <th>Item_Type_Hard Drinks</th>\n",
       "      <th>Item_Type_Health and Hygiene</th>\n",
       "      <th>Item_Type_Household</th>\n",
       "      <th>Item_Type_Meat</th>\n",
       "      <th>Item_Type_Others</th>\n",
       "      <th>Item_Type_Seafood</th>\n",
       "      <th>Item_Type_Snack Foods</th>\n",
       "      <th>Item_Type_Soft Drinks</th>\n",
       "      <th>Item_Type_Starchy Foods</th>\n",
       "      <th>Outlet_Identifier_OUT013</th>\n",
       "      <th>Outlet_Identifier_OUT017</th>\n",
       "      <th>Outlet_Identifier_OUT018</th>\n",
       "      <th>Outlet_Identifier_OUT019</th>\n",
       "      <th>Outlet_Identifier_OUT027</th>\n",
       "      <th>Outlet_Identifier_OUT035</th>\n",
       "      <th>Outlet_Identifier_OUT045</th>\n",
       "      <th>Outlet_Identifier_OUT046</th>\n",
       "      <th>Outlet_Identifier_OUT049</th>\n",
       "      <th>Outlet_Size_Medium</th>\n",
       "      <th>Outlet_Size_Small</th>\n",
       "      <th>Outlet_Location_Type_Tier 2</th>\n",
       "      <th>Outlet_Location_Type_Tier 3</th>\n",
       "      <th>Outlet_Type_Supermarket Type1</th>\n",
       "      <th>Outlet_Type_Supermarket Type2</th>\n",
       "      <th>Outlet_Type_Supermarket Type3</th>\n",
       "    </tr>\n",
       "  </thead>\n",
       "  <tbody>\n",
       "    <tr>\n",
       "      <th>8269</th>\n",
       "      <td>7.220</td>\n",
       "      <td>0.064142</td>\n",
       "      <td>61.2510</td>\n",
       "      <td>1998.0</td>\n",
       "      <td>0.0</td>\n",
       "      <td>0.0</td>\n",
       "      <td>0.0</td>\n",
       "      <td>0.0</td>\n",
       "      <td>0.0</td>\n",
       "      <td>0.0</td>\n",
       "      <td>0.0</td>\n",
       "      <td>0.0</td>\n",
       "      <td>0.0</td>\n",
       "      <td>0.0</td>\n",
       "      <td>0.0</td>\n",
       "      <td>0.0</td>\n",
       "      <td>0.0</td>\n",
       "      <td>0.0</td>\n",
       "      <td>0.0</td>\n",
       "      <td>0.0</td>\n",
       "      <td>0.0</td>\n",
       "      <td>0.0</td>\n",
       "      <td>0.0</td>\n",
       "      <td>0.0</td>\n",
       "      <td>0.0</td>\n",
       "      <td>...</td>\n",
       "      <td>0.0</td>\n",
       "      <td>0.0</td>\n",
       "      <td>0.0</td>\n",
       "      <td>0.0</td>\n",
       "      <td>0.0</td>\n",
       "      <td>0.0</td>\n",
       "      <td>0.0</td>\n",
       "      <td>0.0</td>\n",
       "      <td>0.0</td>\n",
       "      <td>0.0</td>\n",
       "      <td>0.0</td>\n",
       "      <td>0.0</td>\n",
       "      <td>0.0</td>\n",
       "      <td>0.0</td>\n",
       "      <td>0.0</td>\n",
       "      <td>0.0</td>\n",
       "      <td>0.0</td>\n",
       "      <td>0.0</td>\n",
       "      <td>1.0</td>\n",
       "      <td>0.0</td>\n",
       "      <td>0.0</td>\n",
       "      <td>1.0</td>\n",
       "      <td>0.0</td>\n",
       "      <td>0.0</td>\n",
       "      <td>0.0</td>\n",
       "    </tr>\n",
       "    <tr>\n",
       "      <th>7604</th>\n",
       "      <td>6.135</td>\n",
       "      <td>0.079294</td>\n",
       "      <td>111.2860</td>\n",
       "      <td>2009.0</td>\n",
       "      <td>0.0</td>\n",
       "      <td>0.0</td>\n",
       "      <td>0.0</td>\n",
       "      <td>0.0</td>\n",
       "      <td>0.0</td>\n",
       "      <td>0.0</td>\n",
       "      <td>0.0</td>\n",
       "      <td>0.0</td>\n",
       "      <td>0.0</td>\n",
       "      <td>0.0</td>\n",
       "      <td>0.0</td>\n",
       "      <td>0.0</td>\n",
       "      <td>0.0</td>\n",
       "      <td>0.0</td>\n",
       "      <td>0.0</td>\n",
       "      <td>0.0</td>\n",
       "      <td>0.0</td>\n",
       "      <td>0.0</td>\n",
       "      <td>0.0</td>\n",
       "      <td>0.0</td>\n",
       "      <td>0.0</td>\n",
       "      <td>...</td>\n",
       "      <td>0.0</td>\n",
       "      <td>0.0</td>\n",
       "      <td>0.0</td>\n",
       "      <td>0.0</td>\n",
       "      <td>0.0</td>\n",
       "      <td>0.0</td>\n",
       "      <td>0.0</td>\n",
       "      <td>1.0</td>\n",
       "      <td>0.0</td>\n",
       "      <td>0.0</td>\n",
       "      <td>0.0</td>\n",
       "      <td>1.0</td>\n",
       "      <td>0.0</td>\n",
       "      <td>0.0</td>\n",
       "      <td>0.0</td>\n",
       "      <td>0.0</td>\n",
       "      <td>0.0</td>\n",
       "      <td>0.0</td>\n",
       "      <td>1.0</td>\n",
       "      <td>0.0</td>\n",
       "      <td>0.0</td>\n",
       "      <td>1.0</td>\n",
       "      <td>0.0</td>\n",
       "      <td>1.0</td>\n",
       "      <td>0.0</td>\n",
       "    </tr>\n",
       "    <tr>\n",
       "      <th>2762</th>\n",
       "      <td>12.150</td>\n",
       "      <td>0.028593</td>\n",
       "      <td>151.0708</td>\n",
       "      <td>2004.0</td>\n",
       "      <td>0.0</td>\n",
       "      <td>0.0</td>\n",
       "      <td>0.0</td>\n",
       "      <td>0.0</td>\n",
       "      <td>0.0</td>\n",
       "      <td>0.0</td>\n",
       "      <td>0.0</td>\n",
       "      <td>0.0</td>\n",
       "      <td>0.0</td>\n",
       "      <td>0.0</td>\n",
       "      <td>0.0</td>\n",
       "      <td>0.0</td>\n",
       "      <td>0.0</td>\n",
       "      <td>0.0</td>\n",
       "      <td>0.0</td>\n",
       "      <td>0.0</td>\n",
       "      <td>0.0</td>\n",
       "      <td>0.0</td>\n",
       "      <td>0.0</td>\n",
       "      <td>0.0</td>\n",
       "      <td>0.0</td>\n",
       "      <td>...</td>\n",
       "      <td>0.0</td>\n",
       "      <td>0.0</td>\n",
       "      <td>1.0</td>\n",
       "      <td>0.0</td>\n",
       "      <td>0.0</td>\n",
       "      <td>0.0</td>\n",
       "      <td>0.0</td>\n",
       "      <td>0.0</td>\n",
       "      <td>0.0</td>\n",
       "      <td>0.0</td>\n",
       "      <td>0.0</td>\n",
       "      <td>0.0</td>\n",
       "      <td>0.0</td>\n",
       "      <td>0.0</td>\n",
       "      <td>1.0</td>\n",
       "      <td>0.0</td>\n",
       "      <td>0.0</td>\n",
       "      <td>0.0</td>\n",
       "      <td>0.0</td>\n",
       "      <td>1.0</td>\n",
       "      <td>1.0</td>\n",
       "      <td>0.0</td>\n",
       "      <td>1.0</td>\n",
       "      <td>0.0</td>\n",
       "      <td>0.0</td>\n",
       "    </tr>\n",
       "    <tr>\n",
       "      <th>6464</th>\n",
       "      <td>5.945</td>\n",
       "      <td>0.093009</td>\n",
       "      <td>127.8652</td>\n",
       "      <td>2004.0</td>\n",
       "      <td>0.0</td>\n",
       "      <td>0.0</td>\n",
       "      <td>0.0</td>\n",
       "      <td>0.0</td>\n",
       "      <td>0.0</td>\n",
       "      <td>0.0</td>\n",
       "      <td>0.0</td>\n",
       "      <td>0.0</td>\n",
       "      <td>0.0</td>\n",
       "      <td>0.0</td>\n",
       "      <td>0.0</td>\n",
       "      <td>0.0</td>\n",
       "      <td>0.0</td>\n",
       "      <td>0.0</td>\n",
       "      <td>0.0</td>\n",
       "      <td>0.0</td>\n",
       "      <td>0.0</td>\n",
       "      <td>0.0</td>\n",
       "      <td>0.0</td>\n",
       "      <td>0.0</td>\n",
       "      <td>0.0</td>\n",
       "      <td>...</td>\n",
       "      <td>0.0</td>\n",
       "      <td>0.0</td>\n",
       "      <td>1.0</td>\n",
       "      <td>0.0</td>\n",
       "      <td>0.0</td>\n",
       "      <td>0.0</td>\n",
       "      <td>0.0</td>\n",
       "      <td>0.0</td>\n",
       "      <td>0.0</td>\n",
       "      <td>0.0</td>\n",
       "      <td>0.0</td>\n",
       "      <td>0.0</td>\n",
       "      <td>0.0</td>\n",
       "      <td>0.0</td>\n",
       "      <td>1.0</td>\n",
       "      <td>0.0</td>\n",
       "      <td>0.0</td>\n",
       "      <td>0.0</td>\n",
       "      <td>0.0</td>\n",
       "      <td>1.0</td>\n",
       "      <td>1.0</td>\n",
       "      <td>0.0</td>\n",
       "      <td>1.0</td>\n",
       "      <td>0.0</td>\n",
       "      <td>0.0</td>\n",
       "    </tr>\n",
       "    <tr>\n",
       "      <th>4707</th>\n",
       "      <td>18.200</td>\n",
       "      <td>0.066285</td>\n",
       "      <td>247.2092</td>\n",
       "      <td>2004.0</td>\n",
       "      <td>0.0</td>\n",
       "      <td>0.0</td>\n",
       "      <td>0.0</td>\n",
       "      <td>0.0</td>\n",
       "      <td>0.0</td>\n",
       "      <td>0.0</td>\n",
       "      <td>0.0</td>\n",
       "      <td>0.0</td>\n",
       "      <td>0.0</td>\n",
       "      <td>0.0</td>\n",
       "      <td>0.0</td>\n",
       "      <td>0.0</td>\n",
       "      <td>0.0</td>\n",
       "      <td>0.0</td>\n",
       "      <td>0.0</td>\n",
       "      <td>0.0</td>\n",
       "      <td>0.0</td>\n",
       "      <td>0.0</td>\n",
       "      <td>0.0</td>\n",
       "      <td>0.0</td>\n",
       "      <td>0.0</td>\n",
       "      <td>...</td>\n",
       "      <td>0.0</td>\n",
       "      <td>0.0</td>\n",
       "      <td>0.0</td>\n",
       "      <td>0.0</td>\n",
       "      <td>0.0</td>\n",
       "      <td>0.0</td>\n",
       "      <td>0.0</td>\n",
       "      <td>0.0</td>\n",
       "      <td>0.0</td>\n",
       "      <td>0.0</td>\n",
       "      <td>0.0</td>\n",
       "      <td>0.0</td>\n",
       "      <td>0.0</td>\n",
       "      <td>0.0</td>\n",
       "      <td>1.0</td>\n",
       "      <td>0.0</td>\n",
       "      <td>0.0</td>\n",
       "      <td>0.0</td>\n",
       "      <td>0.0</td>\n",
       "      <td>1.0</td>\n",
       "      <td>1.0</td>\n",
       "      <td>0.0</td>\n",
       "      <td>1.0</td>\n",
       "      <td>0.0</td>\n",
       "      <td>0.0</td>\n",
       "    </tr>\n",
       "  </tbody>\n",
       "</table>\n",
       "<p>5 rows × 127 columns</p>\n",
       "</div>"
      ],
      "text/plain": [
       "      Item_Weight  Item_Visibility  Item_MRP  Outlet_Establishment_Year  \\\n",
       "8269        7.220         0.064142   61.2510                     1998.0   \n",
       "7604        6.135         0.079294  111.2860                     2009.0   \n",
       "2762       12.150         0.028593  151.0708                     2004.0   \n",
       "6464        5.945         0.093009  127.8652                     2004.0   \n",
       "4707       18.200         0.066285  247.2092                     2004.0   \n",
       "\n",
       "      Item_Identifier_DRE49  Item_Identifier_DRF01  Item_Identifier_DRF03  \\\n",
       "8269                    0.0                    0.0                    0.0   \n",
       "7604                    0.0                    0.0                    0.0   \n",
       "2762                    0.0                    0.0                    0.0   \n",
       "6464                    0.0                    0.0                    0.0   \n",
       "4707                    0.0                    0.0                    0.0   \n",
       "\n",
       "      Item_Identifier_DRI03  Item_Identifier_DRK35  Item_Identifier_DRL60  \\\n",
       "8269                    0.0                    0.0                    0.0   \n",
       "7604                    0.0                    0.0                    0.0   \n",
       "2762                    0.0                    0.0                    0.0   \n",
       "6464                    0.0                    0.0                    0.0   \n",
       "4707                    0.0                    0.0                    0.0   \n",
       "\n",
       "      Item_Identifier_DRM37  Item_Identifier_DRN47  Item_Identifier_FDB56  \\\n",
       "8269                    0.0                    0.0                    0.0   \n",
       "7604                    0.0                    0.0                    0.0   \n",
       "2762                    0.0                    0.0                    0.0   \n",
       "6464                    0.0                    0.0                    0.0   \n",
       "4707                    0.0                    0.0                    0.0   \n",
       "\n",
       "      Item_Identifier_FDB58  Item_Identifier_FDD29  Item_Identifier_FDD50  \\\n",
       "8269                    0.0                    0.0                    0.0   \n",
       "7604                    0.0                    0.0                    0.0   \n",
       "2762                    0.0                    0.0                    0.0   \n",
       "6464                    0.0                    0.0                    0.0   \n",
       "4707                    0.0                    0.0                    0.0   \n",
       "\n",
       "      Item_Identifier_FDE11  Item_Identifier_FDE33  Item_Identifier_FDF05  \\\n",
       "8269                    0.0                    0.0                    0.0   \n",
       "7604                    0.0                    0.0                    0.0   \n",
       "2762                    0.0                    0.0                    0.0   \n",
       "6464                    0.0                    0.0                    0.0   \n",
       "4707                    0.0                    0.0                    0.0   \n",
       "\n",
       "      Item_Identifier_FDF16  Item_Identifier_FDF21  Item_Identifier_FDF56  \\\n",
       "8269                    0.0                    0.0                    0.0   \n",
       "7604                    0.0                    0.0                    0.0   \n",
       "2762                    0.0                    0.0                    0.0   \n",
       "6464                    0.0                    0.0                    0.0   \n",
       "4707                    0.0                    0.0                    0.0   \n",
       "\n",
       "      Item_Identifier_FDG09  Item_Identifier_FDG24  Item_Identifier_FDG33  \\\n",
       "8269                    0.0                    0.0                    0.0   \n",
       "7604                    0.0                    0.0                    0.0   \n",
       "2762                    0.0                    0.0                    0.0   \n",
       "6464                    0.0                    0.0                    0.0   \n",
       "4707                    0.0                    0.0                    0.0   \n",
       "\n",
       "      ...  Item_Type_Hard Drinks  Item_Type_Health and Hygiene  \\\n",
       "8269  ...                    0.0                           0.0   \n",
       "7604  ...                    0.0                           0.0   \n",
       "2762  ...                    0.0                           0.0   \n",
       "6464  ...                    0.0                           0.0   \n",
       "4707  ...                    0.0                           0.0   \n",
       "\n",
       "      Item_Type_Household  Item_Type_Meat  Item_Type_Others  \\\n",
       "8269                  0.0             0.0               0.0   \n",
       "7604                  0.0             0.0               0.0   \n",
       "2762                  1.0             0.0               0.0   \n",
       "6464                  1.0             0.0               0.0   \n",
       "4707                  0.0             0.0               0.0   \n",
       "\n",
       "      Item_Type_Seafood  Item_Type_Snack Foods  Item_Type_Soft Drinks  \\\n",
       "8269                0.0                    0.0                    0.0   \n",
       "7604                0.0                    0.0                    1.0   \n",
       "2762                0.0                    0.0                    0.0   \n",
       "6464                0.0                    0.0                    0.0   \n",
       "4707                0.0                    0.0                    0.0   \n",
       "\n",
       "      Item_Type_Starchy Foods  Outlet_Identifier_OUT013  \\\n",
       "8269                      0.0                       0.0   \n",
       "7604                      0.0                       0.0   \n",
       "2762                      0.0                       0.0   \n",
       "6464                      0.0                       0.0   \n",
       "4707                      0.0                       0.0   \n",
       "\n",
       "      Outlet_Identifier_OUT017  Outlet_Identifier_OUT018  \\\n",
       "8269                       0.0                       0.0   \n",
       "7604                       0.0                       1.0   \n",
       "2762                       0.0                       0.0   \n",
       "6464                       0.0                       0.0   \n",
       "4707                       0.0                       0.0   \n",
       "\n",
       "      Outlet_Identifier_OUT019  Outlet_Identifier_OUT027  \\\n",
       "8269                       0.0                       0.0   \n",
       "7604                       0.0                       0.0   \n",
       "2762                       0.0                       0.0   \n",
       "6464                       0.0                       0.0   \n",
       "4707                       0.0                       0.0   \n",
       "\n",
       "      Outlet_Identifier_OUT035  Outlet_Identifier_OUT045  \\\n",
       "8269                       0.0                       0.0   \n",
       "7604                       0.0                       0.0   \n",
       "2762                       1.0                       0.0   \n",
       "6464                       1.0                       0.0   \n",
       "4707                       1.0                       0.0   \n",
       "\n",
       "      Outlet_Identifier_OUT046  Outlet_Identifier_OUT049  Outlet_Size_Medium  \\\n",
       "8269                       0.0                       0.0                 1.0   \n",
       "7604                       0.0                       0.0                 1.0   \n",
       "2762                       0.0                       0.0                 0.0   \n",
       "6464                       0.0                       0.0                 0.0   \n",
       "4707                       0.0                       0.0                 0.0   \n",
       "\n",
       "      Outlet_Size_Small  Outlet_Location_Type_Tier 2  \\\n",
       "8269                0.0                          0.0   \n",
       "7604                0.0                          0.0   \n",
       "2762                1.0                          1.0   \n",
       "6464                1.0                          1.0   \n",
       "4707                1.0                          1.0   \n",
       "\n",
       "      Outlet_Location_Type_Tier 3  Outlet_Type_Supermarket Type1  \\\n",
       "8269                          1.0                            0.0   \n",
       "7604                          1.0                            0.0   \n",
       "2762                          0.0                            1.0   \n",
       "6464                          0.0                            1.0   \n",
       "4707                          0.0                            1.0   \n",
       "\n",
       "      Outlet_Type_Supermarket Type2  Outlet_Type_Supermarket Type3  \n",
       "8269                            0.0                            0.0  \n",
       "7604                            1.0                            0.0  \n",
       "2762                            0.0                            0.0  \n",
       "6464                            0.0                            0.0  \n",
       "4707                            0.0                            0.0  \n",
       "\n",
       "[5 rows x 127 columns]"
      ]
     },
     "execution_count": 18,
     "metadata": {},
     "output_type": "execute_result"
    }
   ],
   "source": [
    "#Create a preprocessed Dataframe for our training set using the pulled out feature names and original X_train\n",
    "\n",
    "X_train_df = pd.DataFrame(preprocessor.transform(X_train),\n",
    "                         columns = feature_names, index = X_train.index)\n",
    "X_train_df.head()"
   ]
  },
  {
   "cell_type": "code",
   "execution_count": 20,
   "metadata": {
    "ExecuteTime": {
     "end_time": "2023-01-28T14:05:41.749898Z",
     "start_time": "2023-01-28T14:05:41.659694Z"
    }
   },
   "outputs": [
    {
     "ename": "ValueError",
     "evalue": "Found unknown categories ['NCW05', 'DRO35', 'NCR42', 'DRF48', 'FDW14'] in column 0 during transform",
     "output_type": "error",
     "traceback": [
      "\u001b[1;31m---------------------------------------------------------------------------\u001b[0m",
      "\u001b[1;31mValueError\u001b[0m                                Traceback (most recent call last)",
      "Cell \u001b[1;32mIn [20], line 3\u001b[0m\n\u001b[0;32m      1\u001b[0m \u001b[38;5;66;03m# Create the pre-processed DataFrame for the test set.\u001b[39;00m\n\u001b[1;32m----> 3\u001b[0m X_test_df \u001b[38;5;241m=\u001b[39m pd\u001b[38;5;241m.\u001b[39mDataFrame(\u001b[43mpreprocessor\u001b[49m\u001b[38;5;241;43m.\u001b[39;49m\u001b[43mtransform\u001b[49m\u001b[43m(\u001b[49m\u001b[43mX_test\u001b[49m\u001b[43m)\u001b[49m,\n\u001b[0;32m      4\u001b[0m                         columns \u001b[38;5;241m=\u001b[39m feature_names, index \u001b[38;5;241m=\u001b[39m X_test\u001b[38;5;241m.\u001b[39mindex)\n\u001b[0;32m      5\u001b[0m X_test_df\u001b[38;5;241m.\u001b[39mhead()\n",
      "File \u001b[1;32m~\\Anaconda3\\envs\\dojo-env\\lib\\site-packages\\sklearn\\compose\\_column_transformer.py:763\u001b[0m, in \u001b[0;36mColumnTransformer.transform\u001b[1;34m(self, X)\u001b[0m\n\u001b[0;32m    758\u001b[0m \u001b[38;5;28;01melse\u001b[39;00m:\n\u001b[0;32m    759\u001b[0m     \u001b[38;5;66;03m# ndarray was used for fitting or transforming, thus we only\u001b[39;00m\n\u001b[0;32m    760\u001b[0m     \u001b[38;5;66;03m# check that n_features_in_ is consistent\u001b[39;00m\n\u001b[0;32m    761\u001b[0m     \u001b[38;5;28mself\u001b[39m\u001b[38;5;241m.\u001b[39m_check_n_features(X, reset\u001b[38;5;241m=\u001b[39m\u001b[38;5;28;01mFalse\u001b[39;00m)\n\u001b[1;32m--> 763\u001b[0m Xs \u001b[38;5;241m=\u001b[39m \u001b[38;5;28;43mself\u001b[39;49m\u001b[38;5;241;43m.\u001b[39;49m\u001b[43m_fit_transform\u001b[49m\u001b[43m(\u001b[49m\n\u001b[0;32m    764\u001b[0m \u001b[43m    \u001b[49m\u001b[43mX\u001b[49m\u001b[43m,\u001b[49m\n\u001b[0;32m    765\u001b[0m \u001b[43m    \u001b[49m\u001b[38;5;28;43;01mNone\u001b[39;49;00m\u001b[43m,\u001b[49m\n\u001b[0;32m    766\u001b[0m \u001b[43m    \u001b[49m\u001b[43m_transform_one\u001b[49m\u001b[43m,\u001b[49m\n\u001b[0;32m    767\u001b[0m \u001b[43m    \u001b[49m\u001b[43mfitted\u001b[49m\u001b[38;5;241;43m=\u001b[39;49m\u001b[38;5;28;43;01mTrue\u001b[39;49;00m\u001b[43m,\u001b[49m\n\u001b[0;32m    768\u001b[0m \u001b[43m    \u001b[49m\u001b[43mcolumn_as_strings\u001b[49m\u001b[38;5;241;43m=\u001b[39;49m\u001b[43mfit_dataframe_and_transform_dataframe\u001b[49m\u001b[43m,\u001b[49m\n\u001b[0;32m    769\u001b[0m \u001b[43m\u001b[49m\u001b[43m)\u001b[49m\n\u001b[0;32m    770\u001b[0m \u001b[38;5;28mself\u001b[39m\u001b[38;5;241m.\u001b[39m_validate_output(Xs)\n\u001b[0;32m    772\u001b[0m \u001b[38;5;28;01mif\u001b[39;00m \u001b[38;5;129;01mnot\u001b[39;00m Xs:\n\u001b[0;32m    773\u001b[0m     \u001b[38;5;66;03m# All transformers are None\u001b[39;00m\n",
      "File \u001b[1;32m~\\Anaconda3\\envs\\dojo-env\\lib\\site-packages\\sklearn\\compose\\_column_transformer.py:621\u001b[0m, in \u001b[0;36mColumnTransformer._fit_transform\u001b[1;34m(self, X, y, func, fitted, column_as_strings)\u001b[0m\n\u001b[0;32m    615\u001b[0m transformers \u001b[38;5;241m=\u001b[39m \u001b[38;5;28mlist\u001b[39m(\n\u001b[0;32m    616\u001b[0m     \u001b[38;5;28mself\u001b[39m\u001b[38;5;241m.\u001b[39m_iter(\n\u001b[0;32m    617\u001b[0m         fitted\u001b[38;5;241m=\u001b[39mfitted, replace_strings\u001b[38;5;241m=\u001b[39m\u001b[38;5;28;01mTrue\u001b[39;00m, column_as_strings\u001b[38;5;241m=\u001b[39mcolumn_as_strings\n\u001b[0;32m    618\u001b[0m     )\n\u001b[0;32m    619\u001b[0m )\n\u001b[0;32m    620\u001b[0m \u001b[38;5;28;01mtry\u001b[39;00m:\n\u001b[1;32m--> 621\u001b[0m     \u001b[38;5;28;01mreturn\u001b[39;00m \u001b[43mParallel\u001b[49m\u001b[43m(\u001b[49m\u001b[43mn_jobs\u001b[49m\u001b[38;5;241;43m=\u001b[39;49m\u001b[38;5;28;43mself\u001b[39;49m\u001b[38;5;241;43m.\u001b[39;49m\u001b[43mn_jobs\u001b[49m\u001b[43m)\u001b[49m\u001b[43m(\u001b[49m\n\u001b[0;32m    622\u001b[0m \u001b[43m        \u001b[49m\u001b[43mdelayed\u001b[49m\u001b[43m(\u001b[49m\u001b[43mfunc\u001b[49m\u001b[43m)\u001b[49m\u001b[43m(\u001b[49m\n\u001b[0;32m    623\u001b[0m \u001b[43m            \u001b[49m\u001b[43mtransformer\u001b[49m\u001b[38;5;241;43m=\u001b[39;49m\u001b[43mclone\u001b[49m\u001b[43m(\u001b[49m\u001b[43mtrans\u001b[49m\u001b[43m)\u001b[49m\u001b[43m \u001b[49m\u001b[38;5;28;43;01mif\u001b[39;49;00m\u001b[43m \u001b[49m\u001b[38;5;129;43;01mnot\u001b[39;49;00m\u001b[43m \u001b[49m\u001b[43mfitted\u001b[49m\u001b[43m \u001b[49m\u001b[38;5;28;43;01melse\u001b[39;49;00m\u001b[43m \u001b[49m\u001b[43mtrans\u001b[49m\u001b[43m,\u001b[49m\n\u001b[0;32m    624\u001b[0m \u001b[43m            \u001b[49m\u001b[43mX\u001b[49m\u001b[38;5;241;43m=\u001b[39;49m\u001b[43m_safe_indexing\u001b[49m\u001b[43m(\u001b[49m\u001b[43mX\u001b[49m\u001b[43m,\u001b[49m\u001b[43m \u001b[49m\u001b[43mcolumn\u001b[49m\u001b[43m,\u001b[49m\u001b[43m \u001b[49m\u001b[43maxis\u001b[49m\u001b[38;5;241;43m=\u001b[39;49m\u001b[38;5;241;43m1\u001b[39;49m\u001b[43m)\u001b[49m\u001b[43m,\u001b[49m\n\u001b[0;32m    625\u001b[0m \u001b[43m            \u001b[49m\u001b[43my\u001b[49m\u001b[38;5;241;43m=\u001b[39;49m\u001b[43my\u001b[49m\u001b[43m,\u001b[49m\n\u001b[0;32m    626\u001b[0m \u001b[43m            \u001b[49m\u001b[43mweight\u001b[49m\u001b[38;5;241;43m=\u001b[39;49m\u001b[43mweight\u001b[49m\u001b[43m,\u001b[49m\n\u001b[0;32m    627\u001b[0m \u001b[43m            \u001b[49m\u001b[43mmessage_clsname\u001b[49m\u001b[38;5;241;43m=\u001b[39;49m\u001b[38;5;124;43m\"\u001b[39;49m\u001b[38;5;124;43mColumnTransformer\u001b[39;49m\u001b[38;5;124;43m\"\u001b[39;49m\u001b[43m,\u001b[49m\n\u001b[0;32m    628\u001b[0m \u001b[43m            \u001b[49m\u001b[43mmessage\u001b[49m\u001b[38;5;241;43m=\u001b[39;49m\u001b[38;5;28;43mself\u001b[39;49m\u001b[38;5;241;43m.\u001b[39;49m\u001b[43m_log_message\u001b[49m\u001b[43m(\u001b[49m\u001b[43mname\u001b[49m\u001b[43m,\u001b[49m\u001b[43m \u001b[49m\u001b[43midx\u001b[49m\u001b[43m,\u001b[49m\u001b[43m \u001b[49m\u001b[38;5;28;43mlen\u001b[39;49m\u001b[43m(\u001b[49m\u001b[43mtransformers\u001b[49m\u001b[43m)\u001b[49m\u001b[43m)\u001b[49m\u001b[43m,\u001b[49m\n\u001b[0;32m    629\u001b[0m \u001b[43m        \u001b[49m\u001b[43m)\u001b[49m\n\u001b[0;32m    630\u001b[0m \u001b[43m        \u001b[49m\u001b[38;5;28;43;01mfor\u001b[39;49;00m\u001b[43m \u001b[49m\u001b[43midx\u001b[49m\u001b[43m,\u001b[49m\u001b[43m \u001b[49m\u001b[43m(\u001b[49m\u001b[43mname\u001b[49m\u001b[43m,\u001b[49m\u001b[43m \u001b[49m\u001b[43mtrans\u001b[49m\u001b[43m,\u001b[49m\u001b[43m \u001b[49m\u001b[43mcolumn\u001b[49m\u001b[43m,\u001b[49m\u001b[43m \u001b[49m\u001b[43mweight\u001b[49m\u001b[43m)\u001b[49m\u001b[43m \u001b[49m\u001b[38;5;129;43;01min\u001b[39;49;00m\u001b[43m \u001b[49m\u001b[38;5;28;43menumerate\u001b[39;49m\u001b[43m(\u001b[49m\u001b[43mtransformers\u001b[49m\u001b[43m,\u001b[49m\u001b[43m \u001b[49m\u001b[38;5;241;43m1\u001b[39;49m\u001b[43m)\u001b[49m\n\u001b[0;32m    631\u001b[0m \u001b[43m    \u001b[49m\u001b[43m)\u001b[49m\n\u001b[0;32m    632\u001b[0m \u001b[38;5;28;01mexcept\u001b[39;00m \u001b[38;5;167;01mValueError\u001b[39;00m \u001b[38;5;28;01mas\u001b[39;00m e:\n\u001b[0;32m    633\u001b[0m     \u001b[38;5;28;01mif\u001b[39;00m \u001b[38;5;124m\"\u001b[39m\u001b[38;5;124mExpected 2D array, got 1D array instead\u001b[39m\u001b[38;5;124m\"\u001b[39m \u001b[38;5;129;01min\u001b[39;00m \u001b[38;5;28mstr\u001b[39m(e):\n",
      "File \u001b[1;32m~\\Anaconda3\\envs\\dojo-env\\lib\\site-packages\\joblib\\parallel.py:1051\u001b[0m, in \u001b[0;36mParallel.__call__\u001b[1;34m(self, iterable)\u001b[0m\n\u001b[0;32m   1048\u001b[0m \u001b[38;5;28;01mif\u001b[39;00m \u001b[38;5;28mself\u001b[39m\u001b[38;5;241m.\u001b[39mdispatch_one_batch(iterator):\n\u001b[0;32m   1049\u001b[0m     \u001b[38;5;28mself\u001b[39m\u001b[38;5;241m.\u001b[39m_iterating \u001b[38;5;241m=\u001b[39m \u001b[38;5;28mself\u001b[39m\u001b[38;5;241m.\u001b[39m_original_iterator \u001b[38;5;129;01mis\u001b[39;00m \u001b[38;5;129;01mnot\u001b[39;00m \u001b[38;5;28;01mNone\u001b[39;00m\n\u001b[1;32m-> 1051\u001b[0m \u001b[38;5;28;01mwhile\u001b[39;00m \u001b[38;5;28;43mself\u001b[39;49m\u001b[38;5;241;43m.\u001b[39;49m\u001b[43mdispatch_one_batch\u001b[49m\u001b[43m(\u001b[49m\u001b[43miterator\u001b[49m\u001b[43m)\u001b[49m:\n\u001b[0;32m   1052\u001b[0m     \u001b[38;5;28;01mpass\u001b[39;00m\n\u001b[0;32m   1054\u001b[0m \u001b[38;5;28;01mif\u001b[39;00m pre_dispatch \u001b[38;5;241m==\u001b[39m \u001b[38;5;124m\"\u001b[39m\u001b[38;5;124mall\u001b[39m\u001b[38;5;124m\"\u001b[39m \u001b[38;5;129;01mor\u001b[39;00m n_jobs \u001b[38;5;241m==\u001b[39m \u001b[38;5;241m1\u001b[39m:\n\u001b[0;32m   1055\u001b[0m     \u001b[38;5;66;03m# The iterable was consumed all at once by the above for loop.\u001b[39;00m\n\u001b[0;32m   1056\u001b[0m     \u001b[38;5;66;03m# No need to wait for async callbacks to trigger to\u001b[39;00m\n\u001b[0;32m   1057\u001b[0m     \u001b[38;5;66;03m# consumption.\u001b[39;00m\n",
      "File \u001b[1;32m~\\Anaconda3\\envs\\dojo-env\\lib\\site-packages\\joblib\\parallel.py:864\u001b[0m, in \u001b[0;36mParallel.dispatch_one_batch\u001b[1;34m(self, iterator)\u001b[0m\n\u001b[0;32m    862\u001b[0m     \u001b[38;5;28;01mreturn\u001b[39;00m \u001b[38;5;28;01mFalse\u001b[39;00m\n\u001b[0;32m    863\u001b[0m \u001b[38;5;28;01melse\u001b[39;00m:\n\u001b[1;32m--> 864\u001b[0m     \u001b[38;5;28;43mself\u001b[39;49m\u001b[38;5;241;43m.\u001b[39;49m\u001b[43m_dispatch\u001b[49m\u001b[43m(\u001b[49m\u001b[43mtasks\u001b[49m\u001b[43m)\u001b[49m\n\u001b[0;32m    865\u001b[0m     \u001b[38;5;28;01mreturn\u001b[39;00m \u001b[38;5;28;01mTrue\u001b[39;00m\n",
      "File \u001b[1;32m~\\Anaconda3\\envs\\dojo-env\\lib\\site-packages\\joblib\\parallel.py:782\u001b[0m, in \u001b[0;36mParallel._dispatch\u001b[1;34m(self, batch)\u001b[0m\n\u001b[0;32m    780\u001b[0m \u001b[38;5;28;01mwith\u001b[39;00m \u001b[38;5;28mself\u001b[39m\u001b[38;5;241m.\u001b[39m_lock:\n\u001b[0;32m    781\u001b[0m     job_idx \u001b[38;5;241m=\u001b[39m \u001b[38;5;28mlen\u001b[39m(\u001b[38;5;28mself\u001b[39m\u001b[38;5;241m.\u001b[39m_jobs)\n\u001b[1;32m--> 782\u001b[0m     job \u001b[38;5;241m=\u001b[39m \u001b[38;5;28;43mself\u001b[39;49m\u001b[38;5;241;43m.\u001b[39;49m\u001b[43m_backend\u001b[49m\u001b[38;5;241;43m.\u001b[39;49m\u001b[43mapply_async\u001b[49m\u001b[43m(\u001b[49m\u001b[43mbatch\u001b[49m\u001b[43m,\u001b[49m\u001b[43m \u001b[49m\u001b[43mcallback\u001b[49m\u001b[38;5;241;43m=\u001b[39;49m\u001b[43mcb\u001b[49m\u001b[43m)\u001b[49m\n\u001b[0;32m    783\u001b[0m     \u001b[38;5;66;03m# A job can complete so quickly than its callback is\u001b[39;00m\n\u001b[0;32m    784\u001b[0m     \u001b[38;5;66;03m# called before we get here, causing self._jobs to\u001b[39;00m\n\u001b[0;32m    785\u001b[0m     \u001b[38;5;66;03m# grow. To ensure correct results ordering, .insert is\u001b[39;00m\n\u001b[0;32m    786\u001b[0m     \u001b[38;5;66;03m# used (rather than .append) in the following line\u001b[39;00m\n\u001b[0;32m    787\u001b[0m     \u001b[38;5;28mself\u001b[39m\u001b[38;5;241m.\u001b[39m_jobs\u001b[38;5;241m.\u001b[39minsert(job_idx, job)\n",
      "File \u001b[1;32m~\\Anaconda3\\envs\\dojo-env\\lib\\site-packages\\joblib\\_parallel_backends.py:208\u001b[0m, in \u001b[0;36mSequentialBackend.apply_async\u001b[1;34m(self, func, callback)\u001b[0m\n\u001b[0;32m    206\u001b[0m \u001b[38;5;28;01mdef\u001b[39;00m \u001b[38;5;21mapply_async\u001b[39m(\u001b[38;5;28mself\u001b[39m, func, callback\u001b[38;5;241m=\u001b[39m\u001b[38;5;28;01mNone\u001b[39;00m):\n\u001b[0;32m    207\u001b[0m     \u001b[38;5;124;03m\"\"\"Schedule a func to be run\"\"\"\u001b[39;00m\n\u001b[1;32m--> 208\u001b[0m     result \u001b[38;5;241m=\u001b[39m \u001b[43mImmediateResult\u001b[49m\u001b[43m(\u001b[49m\u001b[43mfunc\u001b[49m\u001b[43m)\u001b[49m\n\u001b[0;32m    209\u001b[0m     \u001b[38;5;28;01mif\u001b[39;00m callback:\n\u001b[0;32m    210\u001b[0m         callback(result)\n",
      "File \u001b[1;32m~\\Anaconda3\\envs\\dojo-env\\lib\\site-packages\\joblib\\_parallel_backends.py:572\u001b[0m, in \u001b[0;36mImmediateResult.__init__\u001b[1;34m(self, batch)\u001b[0m\n\u001b[0;32m    569\u001b[0m \u001b[38;5;28;01mdef\u001b[39;00m \u001b[38;5;21m__init__\u001b[39m(\u001b[38;5;28mself\u001b[39m, batch):\n\u001b[0;32m    570\u001b[0m     \u001b[38;5;66;03m# Don't delay the application, to avoid keeping the input\u001b[39;00m\n\u001b[0;32m    571\u001b[0m     \u001b[38;5;66;03m# arguments in memory\u001b[39;00m\n\u001b[1;32m--> 572\u001b[0m     \u001b[38;5;28mself\u001b[39m\u001b[38;5;241m.\u001b[39mresults \u001b[38;5;241m=\u001b[39m \u001b[43mbatch\u001b[49m\u001b[43m(\u001b[49m\u001b[43m)\u001b[49m\n",
      "File \u001b[1;32m~\\Anaconda3\\envs\\dojo-env\\lib\\site-packages\\joblib\\parallel.py:263\u001b[0m, in \u001b[0;36mBatchedCalls.__call__\u001b[1;34m(self)\u001b[0m\n\u001b[0;32m    259\u001b[0m \u001b[38;5;28;01mdef\u001b[39;00m \u001b[38;5;21m__call__\u001b[39m(\u001b[38;5;28mself\u001b[39m):\n\u001b[0;32m    260\u001b[0m     \u001b[38;5;66;03m# Set the default nested backend to self._backend but do not set the\u001b[39;00m\n\u001b[0;32m    261\u001b[0m     \u001b[38;5;66;03m# change the default number of processes to -1\u001b[39;00m\n\u001b[0;32m    262\u001b[0m     \u001b[38;5;28;01mwith\u001b[39;00m parallel_backend(\u001b[38;5;28mself\u001b[39m\u001b[38;5;241m.\u001b[39m_backend, n_jobs\u001b[38;5;241m=\u001b[39m\u001b[38;5;28mself\u001b[39m\u001b[38;5;241m.\u001b[39m_n_jobs):\n\u001b[1;32m--> 263\u001b[0m         \u001b[38;5;28;01mreturn\u001b[39;00m [func(\u001b[38;5;241m*\u001b[39margs, \u001b[38;5;241m*\u001b[39m\u001b[38;5;241m*\u001b[39mkwargs)\n\u001b[0;32m    264\u001b[0m                 \u001b[38;5;28;01mfor\u001b[39;00m func, args, kwargs \u001b[38;5;129;01min\u001b[39;00m \u001b[38;5;28mself\u001b[39m\u001b[38;5;241m.\u001b[39mitems]\n",
      "File \u001b[1;32m~\\Anaconda3\\envs\\dojo-env\\lib\\site-packages\\joblib\\parallel.py:263\u001b[0m, in \u001b[0;36m<listcomp>\u001b[1;34m(.0)\u001b[0m\n\u001b[0;32m    259\u001b[0m \u001b[38;5;28;01mdef\u001b[39;00m \u001b[38;5;21m__call__\u001b[39m(\u001b[38;5;28mself\u001b[39m):\n\u001b[0;32m    260\u001b[0m     \u001b[38;5;66;03m# Set the default nested backend to self._backend but do not set the\u001b[39;00m\n\u001b[0;32m    261\u001b[0m     \u001b[38;5;66;03m# change the default number of processes to -1\u001b[39;00m\n\u001b[0;32m    262\u001b[0m     \u001b[38;5;28;01mwith\u001b[39;00m parallel_backend(\u001b[38;5;28mself\u001b[39m\u001b[38;5;241m.\u001b[39m_backend, n_jobs\u001b[38;5;241m=\u001b[39m\u001b[38;5;28mself\u001b[39m\u001b[38;5;241m.\u001b[39m_n_jobs):\n\u001b[1;32m--> 263\u001b[0m         \u001b[38;5;28;01mreturn\u001b[39;00m [func(\u001b[38;5;241m*\u001b[39margs, \u001b[38;5;241m*\u001b[39m\u001b[38;5;241m*\u001b[39mkwargs)\n\u001b[0;32m    264\u001b[0m                 \u001b[38;5;28;01mfor\u001b[39;00m func, args, kwargs \u001b[38;5;129;01min\u001b[39;00m \u001b[38;5;28mself\u001b[39m\u001b[38;5;241m.\u001b[39mitems]\n",
      "File \u001b[1;32m~\\Anaconda3\\envs\\dojo-env\\lib\\site-packages\\sklearn\\utils\\fixes.py:117\u001b[0m, in \u001b[0;36m_FuncWrapper.__call__\u001b[1;34m(self, *args, **kwargs)\u001b[0m\n\u001b[0;32m    115\u001b[0m \u001b[38;5;28;01mdef\u001b[39;00m \u001b[38;5;21m__call__\u001b[39m(\u001b[38;5;28mself\u001b[39m, \u001b[38;5;241m*\u001b[39margs, \u001b[38;5;241m*\u001b[39m\u001b[38;5;241m*\u001b[39mkwargs):\n\u001b[0;32m    116\u001b[0m     \u001b[38;5;28;01mwith\u001b[39;00m config_context(\u001b[38;5;241m*\u001b[39m\u001b[38;5;241m*\u001b[39m\u001b[38;5;28mself\u001b[39m\u001b[38;5;241m.\u001b[39mconfig):\n\u001b[1;32m--> 117\u001b[0m         \u001b[38;5;28;01mreturn\u001b[39;00m \u001b[38;5;28mself\u001b[39m\u001b[38;5;241m.\u001b[39mfunction(\u001b[38;5;241m*\u001b[39margs, \u001b[38;5;241m*\u001b[39m\u001b[38;5;241m*\u001b[39mkwargs)\n",
      "File \u001b[1;32m~\\Anaconda3\\envs\\dojo-env\\lib\\site-packages\\sklearn\\pipeline.py:853\u001b[0m, in \u001b[0;36m_transform_one\u001b[1;34m(transformer, X, y, weight, **fit_params)\u001b[0m\n\u001b[0;32m    852\u001b[0m \u001b[38;5;28;01mdef\u001b[39;00m \u001b[38;5;21m_transform_one\u001b[39m(transformer, X, y, weight, \u001b[38;5;241m*\u001b[39m\u001b[38;5;241m*\u001b[39mfit_params):\n\u001b[1;32m--> 853\u001b[0m     res \u001b[38;5;241m=\u001b[39m \u001b[43mtransformer\u001b[49m\u001b[38;5;241;43m.\u001b[39;49m\u001b[43mtransform\u001b[49m\u001b[43m(\u001b[49m\u001b[43mX\u001b[49m\u001b[43m)\u001b[49m\n\u001b[0;32m    854\u001b[0m     \u001b[38;5;66;03m# if we have a weight for this transformer, multiply output\u001b[39;00m\n\u001b[0;32m    855\u001b[0m     \u001b[38;5;28;01mif\u001b[39;00m weight \u001b[38;5;129;01mis\u001b[39;00m \u001b[38;5;28;01mNone\u001b[39;00m:\n",
      "File \u001b[1;32m~\\Anaconda3\\envs\\dojo-env\\lib\\site-packages\\sklearn\\pipeline.py:635\u001b[0m, in \u001b[0;36mPipeline.transform\u001b[1;34m(self, X)\u001b[0m\n\u001b[0;32m    633\u001b[0m Xt \u001b[38;5;241m=\u001b[39m X\n\u001b[0;32m    634\u001b[0m \u001b[38;5;28;01mfor\u001b[39;00m _, _, transform \u001b[38;5;129;01min\u001b[39;00m \u001b[38;5;28mself\u001b[39m\u001b[38;5;241m.\u001b[39m_iter():\n\u001b[1;32m--> 635\u001b[0m     Xt \u001b[38;5;241m=\u001b[39m \u001b[43mtransform\u001b[49m\u001b[38;5;241;43m.\u001b[39;49m\u001b[43mtransform\u001b[49m\u001b[43m(\u001b[49m\u001b[43mXt\u001b[49m\u001b[43m)\u001b[49m\n\u001b[0;32m    636\u001b[0m \u001b[38;5;28;01mreturn\u001b[39;00m Xt\n",
      "File \u001b[1;32m~\\Anaconda3\\envs\\dojo-env\\lib\\site-packages\\sklearn\\preprocessing\\_encoders.py:882\u001b[0m, in \u001b[0;36mOneHotEncoder.transform\u001b[1;34m(self, X)\u001b[0m\n\u001b[0;32m    877\u001b[0m \u001b[38;5;66;03m# validation of X happens in _check_X called by _transform\u001b[39;00m\n\u001b[0;32m    878\u001b[0m warn_on_unknown \u001b[38;5;241m=\u001b[39m \u001b[38;5;28mself\u001b[39m\u001b[38;5;241m.\u001b[39mdrop \u001b[38;5;129;01mis\u001b[39;00m \u001b[38;5;129;01mnot\u001b[39;00m \u001b[38;5;28;01mNone\u001b[39;00m \u001b[38;5;129;01mand\u001b[39;00m \u001b[38;5;28mself\u001b[39m\u001b[38;5;241m.\u001b[39mhandle_unknown \u001b[38;5;129;01min\u001b[39;00m {\n\u001b[0;32m    879\u001b[0m     \u001b[38;5;124m\"\u001b[39m\u001b[38;5;124mignore\u001b[39m\u001b[38;5;124m\"\u001b[39m,\n\u001b[0;32m    880\u001b[0m     \u001b[38;5;124m\"\u001b[39m\u001b[38;5;124minfrequent_if_exist\u001b[39m\u001b[38;5;124m\"\u001b[39m,\n\u001b[0;32m    881\u001b[0m }\n\u001b[1;32m--> 882\u001b[0m X_int, X_mask \u001b[38;5;241m=\u001b[39m \u001b[38;5;28;43mself\u001b[39;49m\u001b[38;5;241;43m.\u001b[39;49m\u001b[43m_transform\u001b[49m\u001b[43m(\u001b[49m\n\u001b[0;32m    883\u001b[0m \u001b[43m    \u001b[49m\u001b[43mX\u001b[49m\u001b[43m,\u001b[49m\n\u001b[0;32m    884\u001b[0m \u001b[43m    \u001b[49m\u001b[43mhandle_unknown\u001b[49m\u001b[38;5;241;43m=\u001b[39;49m\u001b[38;5;28;43mself\u001b[39;49m\u001b[38;5;241;43m.\u001b[39;49m\u001b[43mhandle_unknown\u001b[49m\u001b[43m,\u001b[49m\n\u001b[0;32m    885\u001b[0m \u001b[43m    \u001b[49m\u001b[43mforce_all_finite\u001b[49m\u001b[38;5;241;43m=\u001b[39;49m\u001b[38;5;124;43m\"\u001b[39;49m\u001b[38;5;124;43mallow-nan\u001b[39;49m\u001b[38;5;124;43m\"\u001b[39;49m\u001b[43m,\u001b[49m\n\u001b[0;32m    886\u001b[0m \u001b[43m    \u001b[49m\u001b[43mwarn_on_unknown\u001b[49m\u001b[38;5;241;43m=\u001b[39;49m\u001b[43mwarn_on_unknown\u001b[49m\u001b[43m,\u001b[49m\n\u001b[0;32m    887\u001b[0m \u001b[43m\u001b[49m\u001b[43m)\u001b[49m\n\u001b[0;32m    888\u001b[0m \u001b[38;5;28mself\u001b[39m\u001b[38;5;241m.\u001b[39m_map_infrequent_categories(X_int, X_mask)\n\u001b[0;32m    890\u001b[0m n_samples, n_features \u001b[38;5;241m=\u001b[39m X_int\u001b[38;5;241m.\u001b[39mshape\n",
      "File \u001b[1;32m~\\Anaconda3\\envs\\dojo-env\\lib\\site-packages\\sklearn\\preprocessing\\_encoders.py:160\u001b[0m, in \u001b[0;36m_BaseEncoder._transform\u001b[1;34m(self, X, handle_unknown, force_all_finite, warn_on_unknown)\u001b[0m\n\u001b[0;32m    155\u001b[0m \u001b[38;5;28;01mif\u001b[39;00m handle_unknown \u001b[38;5;241m==\u001b[39m \u001b[38;5;124m\"\u001b[39m\u001b[38;5;124merror\u001b[39m\u001b[38;5;124m\"\u001b[39m:\n\u001b[0;32m    156\u001b[0m     msg \u001b[38;5;241m=\u001b[39m (\n\u001b[0;32m    157\u001b[0m         \u001b[38;5;124m\"\u001b[39m\u001b[38;5;124mFound unknown categories \u001b[39m\u001b[38;5;132;01m{0}\u001b[39;00m\u001b[38;5;124m in column \u001b[39m\u001b[38;5;132;01m{1}\u001b[39;00m\u001b[38;5;124m\"\u001b[39m\n\u001b[0;32m    158\u001b[0m         \u001b[38;5;124m\"\u001b[39m\u001b[38;5;124m during transform\u001b[39m\u001b[38;5;124m\"\u001b[39m\u001b[38;5;241m.\u001b[39mformat(diff, i)\n\u001b[0;32m    159\u001b[0m     )\n\u001b[1;32m--> 160\u001b[0m     \u001b[38;5;28;01mraise\u001b[39;00m \u001b[38;5;167;01mValueError\u001b[39;00m(msg)\n\u001b[0;32m    161\u001b[0m \u001b[38;5;28;01melse\u001b[39;00m:\n\u001b[0;32m    162\u001b[0m     \u001b[38;5;28;01mif\u001b[39;00m warn_on_unknown:\n",
      "\u001b[1;31mValueError\u001b[0m: Found unknown categories ['NCW05', 'DRO35', 'NCR42', 'DRF48', 'FDW14'] in column 0 during transform"
     ]
    }
   ],
   "source": [
    "# Create the pre-processed DataFrame for the test set.\n",
    "\n",
    "X_test_df = pd.DataFrame(preprocessor.transform(X_test),\n",
    "                        columns = feature_names, index = X_test.index)\n",
    "X_test_df.head()"
   ]
  },
  {
   "cell_type": "code",
   "execution_count": null,
   "metadata": {
    "ExecuteTime": {
     "end_time": "2023-01-28T13:54:58.273451Z",
     "start_time": "2023-01-28T13:54:58.273451Z"
    }
   },
   "outputs": [],
   "source": [
    "# Confirm the head of y_test still matches up with X_test_df\n",
    "\n",
    "y_test.head()"
   ]
  },
  {
   "cell_type": "code",
   "execution_count": null,
   "metadata": {
    "ExecuteTime": {
     "end_time": "2023-01-28T13:54:58.274451Z",
     "start_time": "2023-01-28T13:54:58.274451Z"
    }
   },
   "outputs": [],
   "source": [
    "# Create a custom function for regression evaluation\n",
    "\n",
    "def evaluate_regression(model, X_train, y_train, X_test, y_test):\n",
    "    \"\"\"Evaluates a scikit learn regression model using r-squared and RMSE\"\"\"\n",
    "    \n",
    "    # Training data\n",
    "    y_pred_train = model.predict(X_train)\n",
    "    r2_train = metrics.r2_score(y_train, y_pred_train)\n",
    "    rmse_train = metrics.mean_squared_error(y_train, y_pred_train,\n",
    "                                           squared=False)\n",
    "    \n",
    "    print(f\"Training Data:\\tR^2 = {r2_train:.2f}\\tRMSE= {rmse_train:.2f}\")\n",
    "    \n",
    "    # Test Data\n",
    "    y_pred_test = model.predict(X_test)\n",
    "    r2_test = metrics.r2_score(y_test, y_pred_test)\n",
    "    rmse_test = metrics.mean_squared_error(y_test, y_pred_test,\n",
    "                                          squared=False)\n",
    "    \n",
    "    print(f\"Test Data: \\tR^2= {r2_test:.2f}\\tRMSE= {rmse_test:.2f}\")"
   ]
  },
  {
   "cell_type": "code",
   "execution_count": null,
   "metadata": {
    "ExecuteTime": {
     "end_time": "2023-01-28T13:54:58.275452Z",
     "start_time": "2023-01-28T13:54:58.275452Z"
    }
   },
   "outputs": [],
   "source": [
    "# Run a regression model and check that the evaluation function runs correctly\n",
    "\n",
    "lin_reg = LinearRegression()\n",
    "lin_reg.fit(X_train_df, y_train)\n",
    "evaluate_regression(lin_reg, X_train_df, y_train, X_test_df, y_test)"
   ]
  },
  {
   "cell_type": "code",
   "execution_count": null,
   "metadata": {
    "ExecuteTime": {
     "end_time": "2023-01-28T13:54:58.275452Z",
     "start_time": "2023-01-28T13:54:58.275452Z"
    }
   },
   "outputs": [],
   "source": [
    "lin_feats = lin_reg.feature_names_in_\n",
    "lin_feats"
   ]
  },
  {
   "cell_type": "code",
   "execution_count": null,
   "metadata": {
    "ExecuteTime": {
     "end_time": "2023-01-28T13:54:58.276452Z",
     "start_time": "2023-01-28T13:54:58.276452Z"
    }
   },
   "outputs": [],
   "source": [
    "lin_reg.coef_"
   ]
  },
  {
   "cell_type": "code",
   "execution_count": null,
   "metadata": {
    "ExecuteTime": {
     "end_time": "2023-01-28T13:54:58.277451Z",
     "start_time": "2023-01-28T13:54:58.277451Z"
    }
   },
   "outputs": [],
   "source": [
    "print(len(lin_reg.coef_))\n",
    "print(len(lin_reg.feature_names_in_))\n",
    "len(lin_reg.coef_) == len(lin_feats)"
   ]
  },
  {
   "cell_type": "code",
   "execution_count": null,
   "metadata": {
    "ExecuteTime": {
     "end_time": "2023-01-28T13:54:58.278451Z",
     "start_time": "2023-01-28T13:54:58.278451Z"
    }
   },
   "outputs": [],
   "source": [
    "## Saving the coefficients\n",
    "coeffs = pd.Series(lin_reg.coef_, index= lin_feats)\n",
    "coeffs['intercept'] = lin_reg.intercept_\n",
    "coeffs"
   ]
  },
  {
   "cell_type": "code",
   "execution_count": null,
   "metadata": {
    "ExecuteTime": {
     "end_time": "2023-01-28T13:54:58.279452Z",
     "start_time": "2023-01-28T13:54:58.279452Z"
    }
   },
   "outputs": [],
   "source": [
    "def get_importances(model, feature_names=None, name='Feature Importance',\n",
    "                   sort=False, ascending=True):\n",
    "    # Checking for Feature Names\n",
    "    if feature_names == None:\n",
    "        feature_names = model.feature_names_in_\n",
    "        \n",
    "    # Saving the Feature Importances\n",
    "    importances = pd.Series(model.feature_importances_, index= feature_names,\n",
    "                           name=name)\n",
    "    \n",
    "    # Sort the importances\n",
    "    if sort == True:\n",
    "        importances = importances.sort_values(ascending=ascending)\n",
    "        \n",
    "    return importances"
   ]
  },
  {
   "cell_type": "code",
   "execution_count": null,
   "metadata": {
    "ExecuteTime": {
     "end_time": "2023-01-28T13:54:58.280452Z",
     "start_time": "2023-01-28T13:54:58.280452Z"
    }
   },
   "outputs": [],
   "source": [
    "# Test the function:\n",
    "\n",
    "importances = get_importances(lin_reg, sort=True, ascending=False)\n",
    "importances"
   ]
  },
  {
   "cell_type": "code",
   "execution_count": null,
   "metadata": {
    "ExecuteTime": {
     "end_time": "2023-01-28T13:54:58.281452Z",
     "start_time": "2023-01-28T13:54:58.281452Z"
    }
   },
   "outputs": [],
   "source": [
    "pd.DataFrame(zip(X.columns, model.coef_))\n",
    "\n",
    "lin_reg.feature_importances_"
   ]
  },
  {
   "cell_type": "code",
   "execution_count": null,
   "metadata": {
    "ExecuteTime": {
     "end_time": "2023-01-28T13:54:58.282452Z",
     "start_time": "2023-01-28T13:54:58.282452Z"
    }
   },
   "outputs": [],
   "source": [
    "# Checking the number of feature importances matches the number of columns\n",
    "print(len(reg.feature_importances_))\n",
    "print(len(X_train_df.columns))\n",
    "len(reg.feature_importances_) == len(X_train_df.columns)"
   ]
  },
  {
   "cell_type": "markdown",
   "metadata": {
    "id": "QuD8TOtCsFV2"
   },
   "source": [
    "# 5) Decide on how to address the missing values and do it! (This requires your judgement, so explain your choice)."
   ]
  },
  {
   "cell_type": "markdown",
   "metadata": {
    "id": "6Q3rACUcASPb"
   },
   "source": [
    "## Determine Approach to cleansing Item_Weight"
   ]
  },
  {
   "cell_type": "code",
   "execution_count": null,
   "metadata": {
    "ExecuteTime": {
     "end_time": "2023-01-28T13:54:58.283485Z",
     "start_time": "2023-01-28T13:54:58.283485Z"
    },
    "colab": {
     "base_uri": "https://localhost:8080/"
    },
    "id": "-VUq-HGiAMXi",
    "outputId": "cb6341c6-a815-4a21-8f8c-c465162f66b5"
   },
   "outputs": [],
   "source": [
    "#Determine Approach to cleansing 'Item_Weight'\n",
    "#Get the rows where 'Item_Weight' is NaN\n",
    "#item_weight_miss = df['Item_Weight'].isna()\n",
    "#df.loc[item_weight_miss, :]\n",
    "\n",
    "# *** - I commented out this part later as I determined I could use SimpleImputer to fix the dataset, and use it in the ML model later.  I'm leaving the code for posterity when I read back through this.\n",
    "#Item_Weight_Mean = df['Item_Weight'].mean()  #Based on Will's feedback, I changed my approach and am calculating the mean of Item Weights into a variable that I can pass into the replace method.\n",
    "#Item_Weight_Mean\n",
    "\n",
    "#df['Item_Weight'].fillna(12.858, inplace=True)\n",
    "#df['Item_Weight']\n",
    "\n",
    "#df['Item_Weight'].value_counts()\n",
    "# ***\n",
    "#Fixed the values with a mean value to preserve the data instead of tossing it.\n",
    "\n",
    "df['Item_Weight'].describe"
   ]
  },
  {
   "cell_type": "markdown",
   "metadata": {
    "id": "mH7PJg6qBdwS"
   },
   "source": [
    "We need to look at the distribution of values for item weight to determine the best means of resolving the Item Weight missing values.  \n"
   ]
  },
  {
   "cell_type": "code",
   "execution_count": null,
   "metadata": {
    "ExecuteTime": {
     "end_time": "2023-01-28T13:54:58.284451Z",
     "start_time": "2023-01-28T13:54:58.284451Z"
    },
    "colab": {
     "base_uri": "https://localhost:8080/",
     "height": 351
    },
    "id": "fXAhzamYBKl9",
    "outputId": "82d435db-fab6-4088-d6f8-0ac84c65da0c"
   },
   "outputs": [],
   "source": [
    "\n",
    "## Make a larger fig/ax before plotting\n",
    "fig, ax = plt.subplots(figsize=(10,5))\n",
    "\n",
    "## Plot histogram\n",
    "sns.histplot(data=df, x='Item_Weight', ax=ax)\n",
    "ax.set(title='Distribution of Item Weights');\n",
    "\n",
    "## Annotating mean and median\n",
    "mean_price = df['Item_Weight'].mean()\n",
    "ax.axvline(mean_price,color='k', ls=':', \n",
    "           label=f\"Mean Price= ${round(mean_price,2)}\");\n",
    "\n",
    "med_price = df['Item_Weight'].median()\n",
    "ax.axvline(med_price,color='k', ls='--', \n",
    "           label=f\"Median Price= ${round(med_price,2)}\");\n",
    "\n",
    "ax.legend();"
   ]
  },
  {
   "cell_type": "markdown",
   "metadata": {
    "id": "kMrh-9ETHPGq"
   },
   "source": [
    "The data seems normally distributed, and the mean and median values are in close proximity, but seem slightly wqeighted in count to the left, so we will use the Median value (12.60) instead of the Mean value (12.86).  \n",
    "\n",
    "After we do our train test split, we will have to use simpleImputer to replace the values with the median value."
   ]
  },
  {
   "cell_type": "markdown",
   "metadata": {
    "id": "9RqXPfzIAXZH"
   },
   "source": [
    "##Determine Approach to cleansing Outlet_Size"
   ]
  },
  {
   "cell_type": "code",
   "execution_count": null,
   "metadata": {
    "ExecuteTime": {
     "end_time": "2023-01-28T13:54:58.285488Z",
     "start_time": "2023-01-28T13:54:58.285488Z"
    },
    "colab": {
     "base_uri": "https://localhost:8080/"
    },
    "id": "yx8GEv131olb",
    "outputId": "a05d08f4-9a1c-4b55-cf4e-e5c6001ee10c"
   },
   "outputs": [],
   "source": [
    "#Determine Approach to cleansing Outlet_Size\n",
    "check1 = df['Outlet_Identifier']=='OUT010'\n",
    "df.loc[check1,:]\n",
    "check1.value_counts()"
   ]
  },
  {
   "cell_type": "markdown",
   "metadata": {
    "id": "Ams8jLHc-Uui"
   },
   "source": [
    "OK, so this 1 outlet 'Out010' is missing 555 'Outlet_Size' observations, roughly 20% of the missing values, but would contribute 5555 other observations to the data model.  That said, there are still 1600 missing entries in that column, which is categorical and seems only loosely corellated to sales volume, and I am not sure if the outlet size would be as impactful in later modeling.  I think the best bet would be to remove the 'Outlet_Size' column altogether."
   ]
  },
  {
   "cell_type": "code",
   "execution_count": null,
   "metadata": {
    "ExecuteTime": {
     "end_time": "2023-01-28T13:54:58.286450Z",
     "start_time": "2023-01-28T13:54:58.286450Z"
    },
    "colab": {
     "base_uri": "https://localhost:8080/"
    },
    "id": "xckkX6J2aaDM",
    "outputId": "e9c0046c-b734-4bfc-ba44-854782d0f56d"
   },
   "outputs": [],
   "source": [
    "#Determine Approach to cleansing Outlet_Size\n",
    "check1 = df['Outlet_Identifier']=='OUT019'\n",
    "df.loc[check1,:]\n",
    "check1.value_counts()"
   ]
  },
  {
   "cell_type": "code",
   "execution_count": null,
   "metadata": {
    "ExecuteTime": {
     "end_time": "2023-01-28T13:54:58.287451Z",
     "start_time": "2023-01-28T13:54:58.287451Z"
    },
    "id": "qyxctoks3lqw"
   },
   "outputs": [],
   "source": [
    "# EDIT: At a later stage of this project I had learned about imputing categorical data with 'most frequent' which will be better than losing the rest of the data set.\n",
    "#dropping the columns from the dataframe as we've discussed\n",
    "#df = df.drop(columns=['Outlet_Size'])\n",
    "#df.head()"
   ]
  },
  {
   "cell_type": "code",
   "execution_count": null,
   "metadata": {
    "ExecuteTime": {
     "end_time": "2023-01-28T13:54:58.288450Z",
     "start_time": "2023-01-28T13:54:58.288450Z"
    },
    "colab": {
     "base_uri": "https://localhost:8080/"
    },
    "id": "Tiobu1EC33oV",
    "outputId": "dc9d40d3-ddda-431f-f7ec-a5b11130c47a"
   },
   "outputs": [],
   "source": [
    "df['Outlet_Size'].value_counts()  \n"
   ]
  },
  {
   "cell_type": "code",
   "execution_count": null,
   "metadata": {
    "ExecuteTime": {
     "end_time": "2023-01-28T13:54:58.289455Z",
     "start_time": "2023-01-28T13:54:58.289455Z"
    },
    "colab": {
     "base_uri": "https://localhost:8080/"
    },
    "id": "acdZHJNQ5QEh",
    "outputId": "2b02a9b3-2659-41e2-905d-6b4d5e62351c"
   },
   "outputs": [],
   "source": [
    "df['Outlet_Size'].isna()"
   ]
  },
  {
   "cell_type": "markdown",
   "metadata": {
    "id": "vJ_mXK6rsLe5"
   },
   "source": [
    "# 6) Confirm that there are no missing values after addressing them."
   ]
  },
  {
   "cell_type": "code",
   "execution_count": null,
   "metadata": {
    "ExecuteTime": {
     "end_time": "2023-01-28T13:54:58.290450Z",
     "start_time": "2023-01-28T13:54:58.290450Z"
    },
    "colab": {
     "base_uri": "https://localhost:8080/"
    },
    "id": "CaAYQDlOsTL9",
    "outputId": "bf4d256a-f1b5-46b1-e79d-bc3dd2ef8f3e"
   },
   "outputs": [],
   "source": [
    "df.info()"
   ]
  },
  {
   "cell_type": "markdown",
   "metadata": {
    "id": "ShukXRuwsTpA"
   },
   "source": [
    "# 7) Find and fix any inconsistent categories of data (example: fix cat, Cat, and cats so that they are consistent) "
   ]
  },
  {
   "cell_type": "code",
   "execution_count": null,
   "metadata": {
    "ExecuteTime": {
     "end_time": "2023-01-28T13:54:58.291450Z",
     "start_time": "2023-01-28T13:54:58.291450Z"
    },
    "colab": {
     "base_uri": "https://localhost:8080/"
    },
    "id": "SMwEcW2gsX0S",
    "outputId": "1b8376a4-a7bb-48ae-cf22-07f62ff070a0"
   },
   "outputs": [],
   "source": [
    "df.keys()"
   ]
  },
  {
   "cell_type": "markdown",
   "metadata": {
    "id": "2kE1YuGGJ9Rq"
   },
   "source": [
    "There do not seem to be any inconsistencies in the nomenclature.  There are semantic discussions to be had around naming conventions and personal preferences ('Outlet_Establishment_Year' instead of 'Founded', I mean, really...?) but from an overall performance standpoint these category labels are both readable, consistent in convention, and informative with respect to their content.\n",
    "\n",
    "Let's check within the columns themselves, to ensure the data is properly cleansed."
   ]
  },
  {
   "cell_type": "code",
   "execution_count": null,
   "metadata": {
    "ExecuteTime": {
     "end_time": "2023-01-28T13:54:58.292450Z",
     "start_time": "2023-01-28T13:54:58.292450Z"
    },
    "colab": {
     "base_uri": "https://localhost:8080/"
    },
    "id": "ps5lWIT9eskZ",
    "outputId": "aecd1234-b659-449f-d7f1-a0b97ddf6930"
   },
   "outputs": [],
   "source": [
    "df['Item_Identifier'].value_counts()"
   ]
  },
  {
   "cell_type": "code",
   "execution_count": null,
   "metadata": {
    "ExecuteTime": {
     "end_time": "2023-01-28T13:54:58.293488Z",
     "start_time": "2023-01-28T13:54:58.293488Z"
    },
    "colab": {
     "base_uri": "https://localhost:8080/"
    },
    "id": "F2kDaXzOSID0",
    "outputId": "f5747823-0cec-495d-fbfc-cb30e9c4c369"
   },
   "outputs": [],
   "source": [
    "IFC = df.value_counts(['Item_Fat_Content'])\n",
    "IFC"
   ]
  },
  {
   "cell_type": "markdown",
   "metadata": {
    "id": "P8NpbrGDTo8V"
   },
   "source": [
    "Yeah, this is a major problem.  There are a lot of misaligned references, where LF, low fat, and Low Fat are obviously the same thing, as is reg and Regular.  Let's convert everything aroung the major categories of Low Fat and Regular."
   ]
  },
  {
   "cell_type": "code",
   "execution_count": null,
   "metadata": {
    "ExecuteTime": {
     "end_time": "2023-01-28T13:54:58.294593Z",
     "start_time": "2023-01-28T13:54:58.294593Z"
    },
    "colab": {
     "base_uri": "https://localhost:8080/"
    },
    "id": "6T9wKV7LTaZt",
    "outputId": "1b033c4c-85b7-4696-f3a4-fe3fbebc0017"
   },
   "outputs": [],
   "source": [
    "#df['Item_Fat_Content'] = np.where(df['Item_Fat_Content'] == 'LF', 'Low Fat', df['Item_Fat_Content'])\n",
    "#IFC\n",
    "\n",
    "df['Item_Weight'].isna().value_counts(normalize=True)\n"
   ]
  },
  {
   "cell_type": "markdown",
   "metadata": {
    "id": "2OB--T6usYeE"
   },
   "source": [
    "# 8) For any numerical columns, obtain the summary statistics of each (min, max, mean)"
   ]
  },
  {
   "cell_type": "code",
   "execution_count": null,
   "metadata": {
    "ExecuteTime": {
     "end_time": "2023-01-28T13:54:58.295597Z",
     "start_time": "2023-01-28T13:54:58.295597Z"
    },
    "colab": {
     "base_uri": "https://localhost:8080/"
    },
    "id": "pvcchhFosgK1",
    "outputId": "fc48037f-9b7e-4381-a877-3bdfa86706ba"
   },
   "outputs": [],
   "source": [
    "#Let's review our columns, counts, and dtypes...\n",
    "df.info()"
   ]
  },
  {
   "cell_type": "code",
   "execution_count": null,
   "metadata": {
    "ExecuteTime": {
     "end_time": "2023-01-28T13:54:58.295597Z",
     "start_time": "2023-01-28T13:54:58.295597Z"
    },
    "colab": {
     "base_uri": "https://localhost:8080/",
     "height": 300
    },
    "id": "N2myzc4ePCbe",
    "outputId": "1740d60f-55e5-4380-bc16-181ba5a79004"
   },
   "outputs": [],
   "source": [
    "#Now we'll take the 4 columns with numerical values and run descriptive summary statistics on them.\n",
    "df[['Item_Visibility','Item_MRP','Outlet_Establishment_Year','Item_Outlet_Sales']].describe()"
   ]
  },
  {
   "cell_type": "markdown",
   "metadata": {
    "id": "U5tVkMHDu-sm"
   },
   "source": [
    "Alright.  Not bad.  We are ready to start some analysis."
   ]
  },
  {
   "cell_type": "markdown",
   "metadata": {
    "id": "fCv9hXozPjE8"
   },
   "source": [
    "#Week 3 -  Project 1 - Part 3 (Core)\n"
   ]
  },
  {
   "cell_type": "markdown",
   "metadata": {
    "id": "TPdUoD25Pphs"
   },
   "source": [
    "We will continue to work on your sales prediction project. The goal of this is to help you understand the data as it relates to the  products and outlets that play crucial roles in increasing sales.\n",
    "\n",
    "For Part3, your task is to complete any statistical analyses that might help you understand, explain, or model with your data. \n",
    "\n",
    "This must include at least one of each:\n",
    "\n",
    "* Histogram to view the distributions of various features in your dataset.\n",
    "* Boxplot to view statistical summaries of various features in your dataset.\n",
    "* Heatmap of the correlation between features.\n",
    "\n",
    "Please feel free to add more than the minimum. Remember this is your chance to display your skills!\n",
    "\n",
    "\n",
    "\n",
    "Commit your work to GitHub. \n",
    "\n",
    "Turn in a link to your GitHub repo! We will continue to work on the project a little bit each week."
   ]
  },
  {
   "cell_type": "code",
   "execution_count": null,
   "metadata": {
    "ExecuteTime": {
     "end_time": "2023-01-28T13:54:58.296598Z",
     "start_time": "2023-01-28T13:54:58.296598Z"
    },
    "colab": {
     "base_uri": "https://localhost:8080/",
     "height": 206
    },
    "id": "lpI_FIiQQjH6",
    "outputId": "9f649878-d7fc-45c9-a2f6-0d40dae76840"
   },
   "outputs": [],
   "source": [
    "df.corr()"
   ]
  },
  {
   "cell_type": "code",
   "execution_count": null,
   "metadata": {
    "ExecuteTime": {
     "end_time": "2023-01-28T13:54:58.297598Z",
     "start_time": "2023-01-28T13:54:58.297598Z"
    },
    "colab": {
     "base_uri": "https://localhost:8080/",
     "height": 409
    },
    "id": "wTn7kV5Ua6ZB",
    "outputId": "7d566e70-fd93-4016-d823-21e35bf9f4a7"
   },
   "outputs": [],
   "source": [
    "corr = df.corr()\n",
    "sns.heatmap(corr, cmap='Greens')\n",
    "\n",
    "#So a very interesting finding from the correlations matrix.  There is a relatively strong correlation between Item_MRP and Item_Outlet_Sales, telling me that we are seeing \n",
    "#very real price elasticity in what people are willing to purchase.  One thing that is contrarian to most incoming assumptions with the data set is that there is very\n",
    "#little strength in the correlation between Item Outlet Sales and Item Visibility.  Given the wide The data, at this time, is telling us it is not so important that people see your product, \n",
    "# only that it must fall into the right price point if they do.  "
   ]
  },
  {
   "cell_type": "code",
   "execution_count": null,
   "metadata": {
    "ExecuteTime": {
     "end_time": "2023-01-28T13:54:58.298598Z",
     "start_time": "2023-01-28T13:54:58.298598Z"
    },
    "colab": {
     "base_uri": "https://localhost:8080/",
     "height": 351
    },
    "id": "UAOJXT1FlVRK",
    "outputId": "96a5b2a2-67dc-4d9b-b72b-3eee593cc3b0"
   },
   "outputs": [],
   "source": [
    "# So let's plot the ditribution of Item MRPs. \n",
    "\n",
    "\n",
    "\n",
    "## Make a larger fig/ax before plotting\n",
    "fig, ax = plt.subplots(figsize=(10,5))\n",
    "\n",
    "## Plot histogram\n",
    "sns.histplot(data=df, x='Item_MRP', stat='count');\n",
    "ax.set(title='Distribution of Manufacturers Retail Price');\n",
    "\n",
    "## Annotating mean and median\n",
    "mean_price = df['Item_MRP'].mean()\n",
    "ax.axvline(mean_price,color='k', ls=':', \n",
    "           label=f\"Mean Price= ${round(mean_price,2)}\");\n",
    "\n",
    "med_price = df['Item_MRP'].median()\n",
    "ax.axvline(med_price,color='k', ls='--', \n",
    "           label=f\"Median Price= ${round(med_price,2)}\");\n",
    "\n",
    "ax.legend();\n",
    "\n",
    " # If my hypothesis is tracking, the mean should be \n",
    " #somewhat left of center, as the price elasticity will\n",
    " # drive consumers to higher volumes of lower cost goods\n",
    " #to extend their purchasing power...it seems as though it is."
   ]
  },
  {
   "cell_type": "code",
   "execution_count": null,
   "metadata": {
    "ExecuteTime": {
     "end_time": "2023-01-28T13:54:58.299593Z",
     "start_time": "2023-01-28T13:54:58.299593Z"
    },
    "colab": {
     "base_uri": "https://localhost:8080/",
     "height": 351
    },
    "id": "0p4_vXWnpEy2",
    "outputId": "74328f38-8d75-4c4c-e9f9-8276ccc75cdc"
   },
   "outputs": [],
   "source": [
    "#I am curious about the visibility statistics...\n",
    "\n",
    "\n",
    "\n",
    "## Make a larger fig/ax before plotting\n",
    "fig, ax = plt.subplots(figsize=(10,5))\n",
    "\n",
    "## Plot histogram\n",
    "sns.histplot(data=df, x='Item_Visibility', stat='count');\n",
    "ax.set(title='Distribution of Product Visibility');\n",
    "\n",
    "## Annotating mean and median\n",
    "mean_price = df['Item_Visibility'].mean()\n",
    "ax.axvline(mean_price,color='k', ls=':', \n",
    "           label=f\"Mean Visibility = {round(mean_price,2)}\");\n",
    "\n",
    "med_price = df['Item_Visibility'].median()\n",
    "ax.axvline(med_price,color='k', ls='--', \n",
    "           label=f\"Median Visibility = {round(med_price,2)}\");\n",
    "\n",
    "ax.legend();\n",
    "\n",
    "\n",
    "# Well that's interesting...the distribution is an F-Distribution and not a normalized \n",
    "# distribution.  this explains the weak correlation value, but I am curious about the\n",
    "# percentage of sales generated fromItem Visibility scores above 0.20."
   ]
  },
  {
   "cell_type": "code",
   "execution_count": null,
   "metadata": {
    "ExecuteTime": {
     "end_time": "2023-01-28T13:54:58.300595Z",
     "start_time": "2023-01-28T13:54:58.300595Z"
    },
    "colab": {
     "base_uri": "https://localhost:8080/",
     "height": 351
    },
    "id": "1PmqVcvWrdEq",
    "outputId": "a532e77c-e171-4582-c518-2515a15f6ff8"
   },
   "outputs": [],
   "source": [
    "#sales_to_visibility_filter = df.groupby(['MRP'])['Item_Outlet_Sales']>=0.20\n",
    "outlets = df.groupby('Outlet_Identifier')\n",
    "\n",
    "\n",
    "## Make a larger fig/ax before plotting\n",
    "fig, ax = plt.subplots(figsize=(10,5))\n",
    "\n",
    "## Plot histogram\n",
    "sns.histplot(data=df, x='Item_Outlet_Sales')\n",
    "ax.set(title='Distribution of Stores by Sales Volume');\n",
    "\n",
    "## Annotating mean and median\n",
    "mean_price = df['Item_Outlet_Sales'].mean()\n",
    "ax.axvline(mean_price,color='k', ls=':', \n",
    "           label=f\"Mean Stores Sales Volume = ${round(mean_price,2)}\");\n",
    "\n",
    "med_price = df['Item_Outlet_Sales'].median()\n",
    "ax.axvline(med_price,color='k', ls='--', \n",
    "           label=f\"Median Store Sales Volume = ${round(med_price,2)}\");\n",
    "\n",
    "ax.legend();"
   ]
  },
  {
   "cell_type": "code",
   "execution_count": null,
   "metadata": {
    "ExecuteTime": {
     "end_time": "2023-01-28T13:54:58.301593Z",
     "start_time": "2023-01-28T13:54:58.301593Z"
    },
    "colab": {
     "base_uri": "https://localhost:8080/",
     "height": 306
    },
    "id": "eI3LacjAvtgQ",
    "outputId": "dfb86436-1667-4ae2-9e49-ba9ff3be4740"
   },
   "outputs": [],
   "source": [
    "sns.boxplot(data=df, x='Outlet_Identifier', y='Item_Outlet_Sales',);\n",
    "plt.xticks(rotation=45);"
   ]
  },
  {
   "cell_type": "markdown",
   "metadata": {
    "id": "xUS7RCQUbQEq"
   },
   "source": [
    "This chart actually gives us some very important information!  Earlier we identified a significant amount of missing data values for the 'Outlet Size' feature.  It is very hard to read in this format, so I will use an im,proved version below for explanation."
   ]
  },
  {
   "cell_type": "code",
   "execution_count": null,
   "metadata": {
    "ExecuteTime": {
     "end_time": "2023-01-28T13:54:58.302597Z",
     "start_time": "2023-01-28T13:54:58.302597Z"
    },
    "colab": {
     "base_uri": "https://localhost:8080/",
     "height": 306
    },
    "id": "kMu6VBdRwk8x",
    "outputId": "f0a3a108-2737-4b09-dea4-c5f674fa2396"
   },
   "outputs": [],
   "source": [
    "sns.histplot(data=df, x='Outlet_Identifier',);\n",
    "plt.xticks(rotation=45);"
   ]
  },
  {
   "cell_type": "code",
   "execution_count": null,
   "metadata": {
    "ExecuteTime": {
     "end_time": "2023-01-28T13:54:58.304593Z",
     "start_time": "2023-01-28T13:54:58.304593Z"
    },
    "colab": {
     "base_uri": "https://localhost:8080/",
     "height": 306
    },
    "id": "dIcL0fkcxosQ",
    "outputId": "da510491-6637-4f4a-a263-433d80585886"
   },
   "outputs": [],
   "source": [
    "sns.histplot(data=df, x='Outlet_Identifier',y='Item_Outlet_Sales')\n",
    "plt.xticks(rotation=45);"
   ]
  },
  {
   "cell_type": "markdown",
   "metadata": {
    "id": "CT2mfDw-cHul"
   },
   "source": [
    "This chart has the better visulaiztion for the boxplot above.  As you can clearly see, OUT010 and OUT019 both have dramatically lower overall sales volume and a clear concetration of outlets with not only low sales volume but low part counts (the dark blue shading at the bottom).  This is indicative of a small outlet, that through their small product portfolio can only generate a limited number of sales.  This information will allow us to better cleanse our data of over 1000 of the "
   ]
  },
  {
   "cell_type": "markdown",
   "metadata": {
    "id": "p5qK9OJ18EMX"
   },
   "source": [
    "#Week 5 - Machine Learning Preprocessing\n",
    "\n",
    "FIrst, I'll need to look at the info and check on the state of things."
   ]
  },
  {
   "cell_type": "code",
   "execution_count": null,
   "metadata": {
    "ExecuteTime": {
     "end_time": "2023-01-28T13:54:58.304593Z",
     "start_time": "2023-01-28T13:54:58.304593Z"
    },
    "id": "1oymSzZkBhok"
   },
   "outputs": [],
   "source": [
    "# imports\n",
    "import pandas as pd\n",
    "import numpy as np\n",
    "from sklearn.preprocessing import StandardScaler, OneHotEncoder, OrdinalEncoder\n",
    "from sklearn.impute import SimpleImputer\n",
    "from sklearn.compose import make_column_transformer, make_column_selector\n",
    "from sklearn.pipeline import make_pipeline\n",
    "from sklearn.model_selection import train_test_split\n",
    "from sklearn.linear_model import LinearRegression\n",
    "from sklearn.metrics import r2_score, mean_absolute_error, mean_squared_error\n",
    "from sklearn import preprocessing\n",
    "from sklearn import set_config\n",
    "set_config(display='diagram')"
   ]
  },
  {
   "cell_type": "code",
   "execution_count": null,
   "metadata": {
    "ExecuteTime": {
     "end_time": "2023-01-28T13:54:58.305594Z",
     "start_time": "2023-01-28T13:54:58.305594Z"
    },
    "colab": {
     "base_uri": "https://localhost:8080/"
    },
    "id": "2ySbZP4h5sLg",
    "outputId": "8d69109d-5d48-4d0c-b9c6-770d96e30b9d"
   },
   "outputs": [],
   "source": [
    "df.info()"
   ]
  },
  {
   "cell_type": "code",
   "execution_count": null,
   "metadata": {
    "ExecuteTime": {
     "end_time": "2023-01-28T13:54:58.306593Z",
     "start_time": "2023-01-28T13:54:58.306593Z"
    },
    "colab": {
     "base_uri": "https://localhost:8080/"
    },
    "id": "rKTd_Xb8gcTP",
    "outputId": "06aae493-311a-4853-9635-e85c0d61e855"
   },
   "outputs": [],
   "source": [
    "df.drop(columns = ['Item_Identifier','Item_Weight','Item_Fat_Content', 'Item_Type', 'Outlet_Identifier', 'Outlet_Location_Type', 'Outlet_Type'], inplace=True)\n",
    "\n",
    "df.info()"
   ]
  },
  {
   "cell_type": "markdown",
   "metadata": {
    "id": "WOIFTmct8rr5"
   },
   "source": [
    "[Edit: I'm going to hold off on the below, but I'll leave it here in case I see that I need it later.]\n",
    "\n",
    "Alright, I'll have to adjust the Ordinal values in the Outlet Size column.  I believe this to be an ordinal column because there is nop numeric value in the dataset, such as square footage, that would be able to give a weight in the model relative to size"
   ]
  },
  {
   "cell_type": "code",
   "execution_count": null,
   "metadata": {
    "ExecuteTime": {
     "end_time": "2023-01-28T13:54:58.307593Z",
     "start_time": "2023-01-28T13:54:58.307593Z"
    },
    "id": "Y73e4FXi8Rf1"
   },
   "outputs": [],
   "source": [
    "#df['Outlet_Size'].value_counts()"
   ]
  },
  {
   "cell_type": "markdown",
   "metadata": {
    "id": "kOybgkGS99Gh"
   },
   "source": [
    "Let's split our data set,  Then we cqan begin our pipelines and transformations."
   ]
  },
  {
   "cell_type": "code",
   "execution_count": null,
   "metadata": {
    "ExecuteTime": {
     "end_time": "2023-01-28T13:54:58.308969Z",
     "start_time": "2023-01-28T13:54:58.308969Z"
    },
    "colab": {
     "base_uri": "https://localhost:8080/",
     "height": 424
    },
    "id": "m3R6y95l-Fm9",
    "outputId": "187da33a-e83d-4b0f-b7a7-fbe5d75f011c"
   },
   "outputs": [],
   "source": [
    "# Instantiate Train Test Split\n",
    "# The assignment callouts for Target and Features assignment \n",
    "# is in direct contrast to industry protocols, and as usch I will not be adhering\n",
    "# to that request.  My targets will be in y and my Features in X.\n",
    "\n",
    "# Instantiate and select the target\n",
    "y = df['Item_Outlet_Sales']\n",
    "\n",
    "# Instatiate and select the features\n",
    "X = df.drop(columns='Item_Outlet_Sales')\n",
    "\n",
    "# Set TTS\n",
    "X_train, X_test, y_train, y_test = train_test_split(X, y, random_state = 42)\n",
    "\n",
    "X_train"
   ]
  },
  {
   "cell_type": "markdown",
   "metadata": {
    "id": "HzIifw9ICGTY"
   },
   "source": [
    "Split looks successful.  It's time to Instantiate the column selectors."
   ]
  },
  {
   "cell_type": "code",
   "execution_count": null,
   "metadata": {
    "ExecuteTime": {
     "end_time": "2023-01-28T13:54:58.309885Z",
     "start_time": "2023-01-28T13:54:58.309885Z"
    },
    "id": "jHtIJf1JCB9S"
   },
   "outputs": [],
   "source": [
    "# Selectors\n",
    "cat_selector = make_column_selector(dtype_include='object')\n",
    "num_selector = make_column_selector(dtype_include='number')\n"
   ]
  },
  {
   "cell_type": "code",
   "execution_count": null,
   "metadata": {
    "ExecuteTime": {
     "end_time": "2023-01-28T13:54:58.310888Z",
     "start_time": "2023-01-28T13:54:58.310888Z"
    },
    "id": "XG1y5lqlCOSN"
   },
   "outputs": [],
   "source": [
    "# Imputers\n",
    "freq_imputer = SimpleImputer(strategy='most_frequent')\n",
    "median_imputer = SimpleImputer(strategy='median')\n",
    "\n",
    "# Scaler\n",
    "scaler = StandardScaler()\n",
    "\n",
    "# One Hot Encoding\n",
    "ohe = OneHotEncoder(handle_unknown='ignore', sparse=False)"
   ]
  },
  {
   "cell_type": "code",
   "execution_count": null,
   "metadata": {
    "ExecuteTime": {
     "end_time": "2023-01-28T13:54:58.311889Z",
     "start_time": "2023-01-28T13:54:58.311889Z"
    },
    "colab": {
     "base_uri": "https://localhost:8080/",
     "height": 126
    },
    "id": "Z8XzjGEyEJnG",
    "outputId": "19042f58-aaf5-4fda-d4fa-8327c409234d"
   },
   "outputs": [],
   "source": [
    "# Numeric Pipeline\n",
    "numeric_pipe = make_pipeline(median_imputer, scaler)\n",
    "numeric_pipe"
   ]
  },
  {
   "cell_type": "code",
   "execution_count": null,
   "metadata": {
    "ExecuteTime": {
     "end_time": "2023-01-28T13:54:58.312889Z",
     "start_time": "2023-01-28T13:54:58.312889Z"
    },
    "colab": {
     "base_uri": "https://localhost:8080/",
     "height": 126
    },
    "id": "5fJ59cO-EbHd",
    "outputId": "e16ba27d-9d9d-40f6-8811-4a42da11397a"
   },
   "outputs": [],
   "source": [
    "# Categorical Pipeline\n",
    "categorical_pipe = make_pipeline(freq_imputer, ohe)\n",
    "categorical_pipe"
   ]
  },
  {
   "cell_type": "code",
   "execution_count": null,
   "metadata": {
    "ExecuteTime": {
     "end_time": "2023-01-28T13:54:58.313889Z",
     "start_time": "2023-01-28T13:54:58.313889Z"
    },
    "colab": {
     "base_uri": "https://localhost:8080/",
     "height": 152
    },
    "id": "4QI5kusBEdZX",
    "outputId": "0a559ef7-cecf-4157-ab87-56a65fe5648b"
   },
   "outputs": [],
   "source": [
    "# Tuples for Column Transformer\n",
    "number_tuple = (numeric_pipe, num_selector)\n",
    "category_tuple = (categorical_pipe, cat_selector)\n",
    "\n",
    "# ColumnTransformer\n",
    "preprocessor = make_column_transformer(number_tuple, category_tuple)\n",
    "preprocessor"
   ]
  },
  {
   "cell_type": "code",
   "execution_count": null,
   "metadata": {
    "ExecuteTime": {
     "end_time": "2023-01-28T13:54:58.314889Z",
     "start_time": "2023-01-28T13:54:58.314889Z"
    },
    "colab": {
     "base_uri": "https://localhost:8080/",
     "height": 152
    },
    "id": "pkN8h1_nEf4s",
    "outputId": "2ad3b268-a494-4c4b-89a6-1aa1883dde8d"
   },
   "outputs": [],
   "source": [
    "# fit on train\n",
    "preprocessor.fit(X_train)"
   ]
  },
  {
   "cell_type": "code",
   "execution_count": null,
   "metadata": {
    "ExecuteTime": {
     "end_time": "2023-01-28T13:54:58.315889Z",
     "start_time": "2023-01-28T13:54:58.315889Z"
    },
    "id": "4xQcYd8YElPG"
   },
   "outputs": [],
   "source": [
    "# transform train and test\n",
    "X_train_processed = preprocessor.transform(X_train)\n",
    "X_test_processed = preprocessor.transform(X_test)\n"
   ]
  },
  {
   "cell_type": "code",
   "execution_count": null,
   "metadata": {
    "ExecuteTime": {
     "end_time": "2023-01-28T13:54:58.316893Z",
     "start_time": "2023-01-28T13:54:58.316893Z"
    },
    "colab": {
     "base_uri": "https://localhost:8080/"
    },
    "id": "4KEGnpVsEpZ4",
    "outputId": "4bc28ef7-5561-4a20-c4ae-0f2c223e050d"
   },
   "outputs": [],
   "source": [
    "# Check for missing values and that data is scaled and one-hot encoded\n",
    "print(np.isnan(X_train_processed).sum().sum(), 'missing values in training data')\n",
    "print(np.isnan(X_test_processed).sum().sum(), 'missing values in testing data')\n",
    "print('\\n')\n",
    "print('All data in X_train_processed are', X_train_processed.dtype)\n",
    "print('All data in X_test_processed are', X_test_processed.dtype)\n",
    "print('\\n')\n",
    "print('shape of data is', X_train_processed.shape)\n",
    "print('\\n')\n",
    "X_train_processed"
   ]
  },
  {
   "cell_type": "markdown",
   "metadata": {
    "id": "u1HWjwsSE6fJ"
   },
   "source": [
    "Yeah, this looks pretty good so far.  By god that dataset is massive.  Good thing the machine will be doing the learning with that many columns (I know it's mostly due to the One Hot Encoding)!"
   ]
  },
  {
   "cell_type": "markdown",
   "metadata": {
    "id": "kVcsjZR6NydY"
   },
   "source": [
    "# Regression"
   ]
  },
  {
   "cell_type": "code",
   "execution_count": null,
   "metadata": {
    "ExecuteTime": {
     "end_time": "2023-01-28T13:54:58.317893Z",
     "start_time": "2023-01-28T13:54:58.317893Z"
    },
    "id": "2kVfT3iBNvqi"
   },
   "outputs": [],
   "source": [
    "#Build a linear regression model. Evaluate the performance of your model based on r^2. Evaluate the performance of your model based on rmse."
   ]
  },
  {
   "cell_type": "code",
   "execution_count": null,
   "metadata": {
    "ExecuteTime": {
     "end_time": "2023-01-28T13:54:58.318889Z",
     "start_time": "2023-01-28T13:54:58.318889Z"
    },
    "id": "mGAqzIjpTOzF"
   },
   "outputs": [],
   "source": [
    "#Make an instance of the Linear Regression Model\n",
    "reg = LinearRegression()"
   ]
  },
  {
   "cell_type": "code",
   "execution_count": null,
   "metadata": {
    "ExecuteTime": {
     "end_time": "2023-01-28T13:54:58.319889Z",
     "start_time": "2023-01-28T13:54:58.319889Z"
    },
    "colab": {
     "base_uri": "https://localhost:8080/",
     "height": 75
    },
    "id": "Cb4wG9F-TRhi",
    "outputId": "b14829d8-126d-42b3-ca1c-82a02a129cd1"
   },
   "outputs": [],
   "source": [
    "#   train our linear regression model on the training data.\n",
    "reg.fit(X_train_processed,y_train)"
   ]
  },
  {
   "cell_type": "code",
   "execution_count": null,
   "metadata": {
    "ExecuteTime": {
     "end_time": "2023-01-28T13:54:58.320894Z",
     "start_time": "2023-01-28T13:54:58.320894Z"
    },
    "id": "NkS1NwCdkeTN"
   },
   "outputs": [],
   "source": [
    "# To obtain the predictions of the train set\n",
    "train_preds = reg.predict(X_train_processed)\n",
    "# To obtain the predictions of the test set\n",
    "test_preds = reg.predict(X_test_processed)"
   ]
  },
  {
   "cell_type": "code",
   "execution_count": null,
   "metadata": {
    "ExecuteTime": {
     "end_time": "2023-01-28T13:54:58.321889Z",
     "start_time": "2023-01-28T13:54:58.321889Z"
    },
    "colab": {
     "base_uri": "https://localhost:8080/"
    },
    "id": "Kc8lCnuvTUVq",
    "outputId": "5241091c-ec41-4830-b500-64a45808cee5"
   },
   "outputs": [],
   "source": [
    "#  check the R^2 score for the training set:\n",
    "train_score = reg.score(X_train_processed, y_train)\n",
    "test_score = reg.score(X_test_processed, y_test)\n",
    "print(train_score)\n",
    "print(test_score) \n",
    "\n",
    "r2_train = r2_score(y_train, train_preds)\n",
    "r2_test = r2_score(y_test, test_preds)\n",
    "print(r2_train)\n",
    "print(r2_test)\n",
    "\n",
    "mae_train = mean_absolute_error(y_train, train_preds)\n",
    "mae_test = mean_absolute_error(y_test, test_preds)\n",
    "print(mae_train)\n",
    "print(mae_test)\n",
    "\n",
    "mse_train = mean_squared_error(y_train, train_preds)\n",
    "mse_test = mean_squared_error(y_test, test_preds)\n",
    "print(mse_train)\n",
    "print(mse_test)\n",
    "\n",
    "rmse_train = np.sqrt(mean_squared_error(y_train, train_preds))\n",
    "rmse_test = np.sqrt(mean_squared_error(y_test, test_preds))\n",
    "print(rmse_train)\n",
    "print(rmse_test)"
   ]
  },
  {
   "cell_type": "code",
   "execution_count": null,
   "metadata": {
    "id": "CeZ_DwEJks5-"
   },
   "outputs": [],
   "source": []
  },
  {
   "cell_type": "markdown",
   "metadata": {
    "id": "RCz8WksATYaD"
   },
   "source": [
    "A 36% match.  "
   ]
  },
  {
   "cell_type": "markdown",
   "metadata": {
    "id": "UdLLh9GJUQ2k"
   },
   "source": [
    "# Regression Tree Model\n",
    "2) Your second task is to build a regression tree model to predict sales.\n",
    "\n",
    "Build a simple regression tree model. Compare the performance of your model based on r^2. Compare the performance of your model based on rmse."
   ]
  },
  {
   "cell_type": "code",
   "execution_count": null,
   "metadata": {
    "ExecuteTime": {
     "end_time": "2023-01-28T13:54:58.323942Z",
     "start_time": "2023-01-28T13:54:58.323942Z"
    },
    "colab": {
     "base_uri": "https://localhost:8080/"
    },
    "id": "GwDRRRRGUfIE",
    "outputId": "d57b9782-cf04-48c3-ff0c-32bda6a8d070"
   },
   "outputs": [],
   "source": [
    "#Build an instance of your model\n",
    "bagreg = BaggingRegressor(n_estimators = 100, random_state = 42)\n",
    "\n",
    "# Look at the hyperparameters\n",
    "bagreg.get_params()"
   ]
  },
  {
   "cell_type": "code",
   "execution_count": null,
   "metadata": {
    "ExecuteTime": {
     "end_time": "2023-01-28T13:54:58.323942Z",
     "start_time": "2023-01-28T13:54:58.323942Z"
    },
    "colab": {
     "base_uri": "https://localhost:8080/",
     "height": 75
    },
    "id": "cr6cMLI3UvrO",
    "outputId": "f96ddd53-6efb-41f4-89af-9f50a965a8ae"
   },
   "outputs": [],
   "source": [
    "bagreg.fit(X_train_processed, y_train)"
   ]
  },
  {
   "cell_type": "code",
   "execution_count": null,
   "metadata": {
    "ExecuteTime": {
     "end_time": "2023-01-28T13:54:58.325305Z",
     "start_time": "2023-01-28T13:54:58.325305Z"
    },
    "colab": {
     "base_uri": "https://localhost:8080/",
     "height": 75
    },
    "id": "cnMIDJ4sU-qX",
    "outputId": "3224ece1-daa9-4fa9-b66f-77f89c0a7de1"
   },
   "outputs": [],
   "source": [
    "bagreg.fit(X_train_processed, y_train)"
   ]
  },
  {
   "cell_type": "code",
   "execution_count": null,
   "metadata": {
    "ExecuteTime": {
     "end_time": "2023-01-28T13:54:58.326308Z",
     "start_time": "2023-01-28T13:54:58.326308Z"
    },
    "colab": {
     "base_uri": "https://localhost:8080/"
    },
    "id": "xlE11tsOVGs6",
    "outputId": "796ba850-4399-400a-815f-c9a8e05a5955"
   },
   "outputs": [],
   "source": [
    "bagreg.predict(X_test_processed)"
   ]
  },
  {
   "cell_type": "code",
   "execution_count": null,
   "metadata": {
    "ExecuteTime": {
     "end_time": "2023-01-28T13:54:58.327308Z",
     "start_time": "2023-01-28T13:54:58.327308Z"
    },
    "colab": {
     "base_uri": "https://localhost:8080/"
    },
    "id": "R5lKrM2IVPmy",
    "outputId": "172a8768-d29d-471e-d7bd-5c3354a9df42"
   },
   "outputs": [],
   "source": [
    "# Stgep 5: Evaluate the model performance:\n",
    "\n",
    "bagreg_train_score = bagreg.score(X_train_processed, y_train)\n",
    "bagreg_test_score = bagreg.score(X_test_processed, y_test)\n",
    "print(bagreg_train_score)\n",
    "print(bagreg_test_score)\n",
    "\n",
    "#  check the R^2 score for the training set:\n",
    "train_score = reg.score(X_train_processed, y_train)\n",
    "test_score = reg.score(X_test_processed, y_test)\n",
    "print(train_score)\n",
    "print(test_score) \n",
    "\n",
    "bagreg_r2_train = r2_score(y_train, train_preds)\n",
    "bagreg_r2_test = r2_score(y_test, test_preds)\n",
    "print(bagreg_r2_train)\n",
    "print(bagreg_r2_test)\n",
    "\n",
    "bagreg_mae_train = mean_absolute_error(y_train, train_preds)\n",
    "bagreg_mae_test = mean_absolute_error(y_test, test_preds)\n",
    "print(bagreg_mae_train)\n",
    "print(bagreg_mae_test)\n",
    "\n",
    "bagreg_mse_train = mean_squared_error(y_train, train_preds)\n",
    "bagreg_mse_test = mean_squared_error(y_test, test_preds)\n",
    "print(bagreg_mse_train)\n",
    "print(bagreg_mse_test)\n",
    "\n",
    "bagreg_rmse_train = np.sqrt(mean_squared_error(y_train, train_preds))\n",
    "bagreg_rmse_test = np.sqrt(mean_squared_error(y_test, test_preds))\n",
    "print(rmse_train)\n",
    "print(rmse_test)"
   ]
  },
  {
   "cell_type": "code",
   "execution_count": null,
   "metadata": {
    "id": "wsTfdRhIjKyE"
   },
   "outputs": [],
   "source": []
  },
  {
   "cell_type": "markdown",
   "metadata": {
    "id": "nukrRmVwVZ39"
   },
   "source": [
    "Run 1:\n",
    "\n",
    "0.9278218979158627\n",
    "\n",
    "0.5373746660067594\n",
    "\n",
    "Needs serious tuning.\n",
    "\n",
    "Run 2 (Parameter Adjust: n_estimaors = 50)\n",
    "\n",
    "0.9354451124061893\n",
    "\n",
    "0.5465621330506721\n",
    "\n",
    "Run 2 (Parameter Adjust: n_estimaors = 100)\n",
    "\n",
    "0.9377775831517625\n",
    "\n",
    "0.5502263582728071"
   ]
  },
  {
   "cell_type": "markdown",
   "metadata": {
    "id": "tOAdWLHtW1Vf"
   },
   "source": [
    "#  Random Forest"
   ]
  },
  {
   "cell_type": "code",
   "execution_count": null,
   "metadata": {
    "ExecuteTime": {
     "end_time": "2023-01-28T13:54:58.328307Z",
     "start_time": "2023-01-28T13:54:58.328307Z"
    },
    "id": "tI_5k574W50G"
   },
   "outputs": [],
   "source": [
    "#Inatantiate your model\n",
    "rf = RandomForestRegressor(max_depth = 150, n_estimators = 100, random_state = 42)"
   ]
  },
  {
   "cell_type": "code",
   "execution_count": null,
   "metadata": {
    "ExecuteTime": {
     "end_time": "2023-01-28T13:54:58.329308Z",
     "start_time": "2023-01-28T13:54:58.329308Z"
    },
    "colab": {
     "base_uri": "https://localhost:8080/"
    },
    "id": "lqQaoAxxW780",
    "outputId": "1632a586-9d65-4226-85f4-abbbdf4eaa11"
   },
   "outputs": [],
   "source": [
    "# Check for tunable parameters\n",
    "\n",
    "rf.get_params()"
   ]
  },
  {
   "cell_type": "code",
   "execution_count": null,
   "metadata": {
    "ExecuteTime": {
     "end_time": "2023-01-28T13:54:58.330308Z",
     "start_time": "2023-01-28T13:54:58.330308Z"
    },
    "colab": {
     "base_uri": "https://localhost:8080/",
     "height": 75
    },
    "id": "T3qd5-lMW-r-",
    "outputId": "409bbc91-6c0f-4a94-dc23-4d610120419f"
   },
   "outputs": [],
   "source": [
    "# Fit your model\n",
    "\n",
    "rf.fit(X_train_processed, y_train)"
   ]
  },
  {
   "cell_type": "code",
   "execution_count": null,
   "metadata": {
    "ExecuteTime": {
     "end_time": "2023-01-28T13:54:58.331308Z",
     "start_time": "2023-01-28T13:54:58.331308Z"
    },
    "colab": {
     "base_uri": "https://localhost:8080/"
    },
    "id": "c5lvcu0dXLk0",
    "outputId": "fca9c634-188e-41d8-a0b9-56a8280379e0"
   },
   "outputs": [],
   "source": [
    "rf.predict(X_test_processed)"
   ]
  },
  {
   "cell_type": "code",
   "execution_count": null,
   "metadata": {
    "ExecuteTime": {
     "end_time": "2023-01-28T13:54:58.332309Z",
     "start_time": "2023-01-28T13:54:58.332309Z"
    },
    "colab": {
     "base_uri": "https://localhost:8080/"
    },
    "id": "h-fObXVZTwvg",
    "outputId": "3e2ec869-62b3-4d91-fe91-958c8857f369"
   },
   "outputs": [],
   "source": [
    "rf_train_score = rf.score(X_train_processed, y_train)\n",
    "rf_test_score = rf.score(X_test_processed, y_test)\n",
    "print(rf_train_score)\n",
    "print(rf_test_score)\n",
    "\n",
    "# Evaluate the model performance:\n",
    "\n",
    "rf_train_score = rf.score(X_train_processed, y_train)\n",
    "rf_test_score = rf.score(X_test_processed, y_test)\n",
    "print(rf_train_score)\n",
    "print(rf_test_score)\n",
    "\n",
    "rf_r2_train = r2_score(y_train, train_preds)\n",
    "rf_r2_test = r2_score(y_test, test_preds)\n",
    "print(rf_r2_train)\n",
    "print(rf_r2_test)\n",
    "\n",
    "rf_mae_train = mean_absolute_error(y_train, train_preds)\n",
    "rf_mae_test = mean_absolute_error(y_test, test_preds)\n",
    "print(rf_mae_train)\n",
    "print(rf_mae_test)\n",
    "\n",
    "rf_mse_train = mean_squared_error(y_train, train_preds)\n",
    "rf_mse_test = mean_squared_error(y_test, test_preds)\n",
    "print(rf_mse_train)\n",
    "print(rf_mse_test)\n",
    "\n",
    "rf_rmse_train = np.sqrt(mean_squared_error(y_train, train_preds))\n",
    "rf_rmse_test = np.sqrt(mean_squared_error(y_test, test_preds))\n",
    "print(rmse_train)\n",
    "print(rmse_test)"
   ]
  },
  {
   "cell_type": "markdown",
   "metadata": {
    "id": "cUZswI_fFatS"
   },
   "source": [
    "Executive summary:\n",
    "\n",
    "Looked into all available data features for those impactful via a high correlation, and reoved the others.\n"
   ]
  },
  {
   "cell_type": "markdown",
   "metadata": {
    "id": "X8QvQmDYFan7"
   },
   "source": []
  }
 ],
 "metadata": {
  "colab": {
   "collapsed_sections": [],
   "name": "Food Sales Analysis",
   "provenance": []
  },
  "kernelspec": {
   "display_name": "Python 3 (ipykernel)",
   "language": "python",
   "name": "python3"
  },
  "language_info": {
   "codemirror_mode": {
    "name": "ipython",
    "version": 3
   },
   "file_extension": ".py",
   "mimetype": "text/x-python",
   "name": "python",
   "nbconvert_exporter": "python",
   "pygments_lexer": "ipython3",
   "version": "3.9.15"
  },
  "toc": {
   "base_numbering": 1,
   "nav_menu": {},
   "number_sections": false,
   "sideBar": true,
   "skip_h1_title": false,
   "title_cell": "Table of Contents",
   "title_sidebar": "Contents",
   "toc_cell": false,
   "toc_position": {},
   "toc_section_display": true,
   "toc_window_display": false
  }
 },
 "nbformat": 4,
 "nbformat_minor": 1
}
